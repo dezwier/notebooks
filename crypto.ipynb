{
 "cells": [
  {
   "cell_type": "markdown",
   "metadata": {
    "colab_type": "text",
    "id": "hHm7MnhJJQxV"
   },
   "source": [
    "## Libraries"
   ]
  },
  {
   "cell_type": "code",
   "execution_count": 2,
   "metadata": {},
   "outputs": [
    {
     "ename": "AttributeError",
     "evalue": "module 'numpy' has no attribute '__version__'",
     "output_type": "error",
     "traceback": [
      "\u001b[0;31m---------------------------------------------------------------------------\u001b[0m",
      "\u001b[0;31mAttributeError\u001b[0m                            Traceback (most recent call last)",
      "\u001b[0;32m<ipython-input-2-7dd3504c366f>\u001b[0m in \u001b[0;36m<module>\u001b[0;34m()\u001b[0m\n\u001b[0;32m----> 1\u001b[0;31m \u001b[0;32mimport\u001b[0m \u001b[0mpandas\u001b[0m \u001b[0;32mas\u001b[0m \u001b[0mpd\u001b[0m\u001b[0;34m\u001b[0m\u001b[0m\n\u001b[0m",
      "\u001b[0;32m~/anaconda3/lib/python3.6/site-packages/pandas/__init__.py\u001b[0m in \u001b[0;36m<module>\u001b[0;34m()\u001b[0m\n\u001b[1;32m     21\u001b[0m \u001b[0;34m\u001b[0m\u001b[0m\n\u001b[1;32m     22\u001b[0m \u001b[0;31m# numpy compat\u001b[0m\u001b[0;34m\u001b[0m\u001b[0;34m\u001b[0m\u001b[0m\n\u001b[0;32m---> 23\u001b[0;31m \u001b[0;32mfrom\u001b[0m \u001b[0mpandas\u001b[0m\u001b[0;34m.\u001b[0m\u001b[0mcompat\u001b[0m\u001b[0;34m.\u001b[0m\u001b[0mnumpy\u001b[0m \u001b[0;32mimport\u001b[0m \u001b[0;34m*\u001b[0m\u001b[0;34m\u001b[0m\u001b[0m\n\u001b[0m\u001b[1;32m     24\u001b[0m \u001b[0;34m\u001b[0m\u001b[0m\n\u001b[1;32m     25\u001b[0m \u001b[0;32mtry\u001b[0m\u001b[0;34m:\u001b[0m\u001b[0;34m\u001b[0m\u001b[0m\n",
      "\u001b[0;32m~/anaconda3/lib/python3.6/site-packages/pandas/compat/numpy/__init__.py\u001b[0m in \u001b[0;36m<module>\u001b[0;34m()\u001b[0m\n\u001b[1;32m      8\u001b[0m \u001b[0;34m\u001b[0m\u001b[0m\n\u001b[1;32m      9\u001b[0m \u001b[0;31m# numpy versioning\u001b[0m\u001b[0;34m\u001b[0m\u001b[0;34m\u001b[0m\u001b[0m\n\u001b[0;32m---> 10\u001b[0;31m \u001b[0m_np_version\u001b[0m \u001b[0;34m=\u001b[0m \u001b[0mnp\u001b[0m\u001b[0;34m.\u001b[0m\u001b[0m__version__\u001b[0m\u001b[0;34m\u001b[0m\u001b[0m\n\u001b[0m\u001b[1;32m     11\u001b[0m \u001b[0m_nlv\u001b[0m \u001b[0;34m=\u001b[0m \u001b[0mLooseVersion\u001b[0m\u001b[0;34m(\u001b[0m\u001b[0m_np_version\u001b[0m\u001b[0;34m)\u001b[0m\u001b[0;34m\u001b[0m\u001b[0m\n\u001b[1;32m     12\u001b[0m \u001b[0m_np_version_under1p10\u001b[0m \u001b[0;34m=\u001b[0m \u001b[0m_nlv\u001b[0m \u001b[0;34m<\u001b[0m \u001b[0mLooseVersion\u001b[0m\u001b[0;34m(\u001b[0m\u001b[0;34m'1.10'\u001b[0m\u001b[0;34m)\u001b[0m\u001b[0;34m\u001b[0m\u001b[0m\n",
      "\u001b[0;31mAttributeError\u001b[0m: module 'numpy' has no attribute '__version__'"
     ]
    }
   ],
   "source": [
    "import pandas as pd"
   ]
  },
  {
   "cell_type": "code",
   "execution_count": 20,
   "metadata": {
    "colab": {
     "autoexec": {
      "startup": false,
      "wait_interval": 0
     },
     "base_uri": "https://localhost:8080/",
     "height": 34
    },
    "colab_type": "code",
    "executionInfo": {
     "elapsed": 9054,
     "status": "ok",
     "timestamp": 1527002378756,
     "user": {
      "displayName": "Desiré De Waele",
      "photoUrl": "//lh6.googleusercontent.com/-WZlKZyTW8cA/AAAAAAAAAAI/AAAAAAAAF3s/6MlUlB9OrDo/s50-c-k-no/photo.jpg",
      "userId": "114986057329968215338"
     },
     "user_tz": -120
    },
    "id": "QwbYGpkn-ciC",
    "outputId": "3ea440bf-898f-44dc-d5ae-b8720d183bc8"
   },
   "outputs": [],
   "source": [
    "import numpy as np\n",
    "import matplotlib.pyplot as plt\n",
    "from keras.models import Sequential\n",
    "from keras.layers import LSTM, Flatten, Dense, Dropout, SimpleRNN"
   ]
  },
  {
   "cell_type": "code",
   "execution_count": null,
   "metadata": {
    "colab": {
     "autoexec": {
      "startup": false,
      "wait_interval": 0
     }
    },
    "colab_type": "code",
    "id": "czF7szJb38RZ"
   },
   "outputs": [],
   "source": [
    "!pip install -U -q PyDrive\n",
    "from pydrive.auth import GoogleAuth\n",
    "from pydrive.drive import GoogleDrive\n",
    "from google.colab import auth\n",
    "from oauth2client.client import GoogleCredentials\n",
    "\n",
    "auth.authenticate_user()\n",
    "gauth = GoogleAuth()\n",
    "gauth.credentials = GoogleCredentials.get_application_default()\n",
    "drive = GoogleDrive(gauth)"
   ]
  },
  {
   "cell_type": "markdown",
   "metadata": {
    "colab_type": "text",
    "id": "6fgKT9Ix_ihL"
   },
   "source": [
    "## Data Import"
   ]
  },
  {
   "cell_type": "code",
   "execution_count": 3,
   "metadata": {
    "colab": {
     "autoexec": {
      "startup": false,
      "wait_interval": 0
     },
     "base_uri": "https://localhost:8080/",
     "height": 34
    },
    "colab_type": "code",
    "executionInfo": {
     "elapsed": 2077,
     "status": "ok",
     "timestamp": 1527002415506,
     "user": {
      "displayName": "Desiré De Waele",
      "photoUrl": "//lh6.googleusercontent.com/-WZlKZyTW8cA/AAAAAAAAAAI/AAAAAAAAF3s/6MlUlB9OrDo/s50-c-k-no/photo.jpg",
      "userId": "114986057329968215338"
     },
     "user_tz": -120
    },
    "id": "Rp1tySAd-FwW",
    "outputId": "bcaad8d8-4871-49a4-c25d-788532ef0dd6"
   },
   "outputs": [
    {
     "data": {
      "text/plain": [
       "(139680, 7, 5)"
      ]
     },
     "execution_count": 3,
     "metadata": {
      "tags": []
     },
     "output_type": "execute_result"
    }
   ],
   "source": [
    "file = drive.CreateFile({'id': '1NyFcpT_FJdSrpYIUhrDeggNyI794b8y5'})\n",
    "file.GetContentFile(\"prices.npy\")\n",
    "prices = np.load(file.content)\n",
    "prices.shape"
   ]
  },
  {
   "cell_type": "code",
   "execution_count": 3,
   "metadata": {},
   "outputs": [
    {
     "data": {
      "text/plain": [
       "(139680, 7, 5)"
      ]
     },
     "execution_count": 3,
     "metadata": {},
     "output_type": "execute_result"
    }
   ],
   "source": [
    "prices = np.load(\"../Databases/prices.npy\")\n",
    "prices.shape"
   ]
  },
  {
   "cell_type": "markdown",
   "metadata": {
    "colab_type": "text",
    "id": "ggJZwJ_Q_tzs"
   },
   "source": [
    "## Normalize and Split"
   ]
  },
  {
   "cell_type": "code",
   "execution_count": 4,
   "metadata": {
    "colab": {
     "autoexec": {
      "startup": false,
      "wait_interval": 0
     },
     "base_uri": "https://localhost:8080/",
     "height": 34
    },
    "colab_type": "code",
    "executionInfo": {
     "elapsed": 721,
     "status": "ok",
     "timestamp": 1527002418298,
     "user": {
      "displayName": "Desiré De Waele",
      "photoUrl": "//lh6.googleusercontent.com/-WZlKZyTW8cA/AAAAAAAAAAI/AAAAAAAAF3s/6MlUlB9OrDo/s50-c-k-no/photo.jpg",
      "userId": "114986057329968215338"
     },
     "user_tz": -120
    },
    "id": "oeiAbQja-rZi",
    "outputId": "c226c27b-542b-4447-9a6e-ee48cf0d597b"
   },
   "outputs": [
    {
     "data": {
      "text/plain": [
       "(139679, 1, 1)"
      ]
     },
     "execution_count": 4,
     "metadata": {},
     "output_type": "execute_result"
    }
   ],
   "source": [
    "changes = np.divide(prices[1:], prices[:-1])\n",
    "features = np.log(changes)\n",
    "dollars = np.zeros((features.shape[0], 1, features.shape[2]))\n",
    "features = np.append(features, dollars, axis=1)\n",
    "features = features[:,0,0].reshape(len(features), 1, 1)\n",
    "features.shape"
   ]
  },
  {
   "cell_type": "code",
   "execution_count": 5,
   "metadata": {
    "colab": {
     "autoexec": {
      "startup": false,
      "wait_interval": 0
     }
    },
    "colab_type": "code",
    "id": "uqXzGl7J_MtD"
   },
   "outputs": [
    {
     "name": "stdout",
     "output_type": "stream",
     "text": [
      "(111743, 1, 1) (27936, 1, 1)\n"
     ]
    }
   ],
   "source": [
    "split = int(len(features) * 0.8)\n",
    "train = features[:split]\n",
    "valid = features[split:]\n",
    "print(train.shape, valid.shape)"
   ]
  },
  {
   "cell_type": "markdown",
   "metadata": {
    "colab_type": "text",
    "id": "1xhSmhJFAdPU"
   },
   "source": [
    "## Batch Generation"
   ]
  },
  {
   "cell_type": "code",
   "execution_count": 6,
   "metadata": {
    "colab": {
     "autoexec": {
      "startup": false,
      "wait_interval": 0
     }
    },
    "colab_type": "code",
    "id": "xkKhd0m4AUW-"
   },
   "outputs": [],
   "source": [
    "granularity = 2    # Every 24 records = 2 hours\n",
    "numSteps = 100        # 48 timestamps = 16 days\n",
    "\n",
    "batchSize = 10\n",
    "skipStep = 1\n",
    "numEpochs = 20"
   ]
  },
  {
   "cell_type": "code",
   "execution_count": 7,
   "metadata": {},
   "outputs": [
    {
     "data": {
      "text/plain": [
       "111541"
      ]
     },
     "execution_count": 7,
     "metadata": {},
     "output_type": "execute_result"
    }
   ],
   "source": [
    "(len(train) - ((numSteps+1) * granularity)) // skipStep"
   ]
  },
  {
   "cell_type": "code",
   "execution_count": 8,
   "metadata": {},
   "outputs": [
    {
     "data": {
      "text/plain": [
       "(100, 1)"
      ]
     },
     "execution_count": 8,
     "metadata": {},
     "output_type": "execute_result"
    }
   ],
   "source": [
    "indeces = np.arange(0, 0 + numSteps*granularity, granularity)\n",
    "train.reshape(train.shape[0], train.shape[1] * train.shape[2])[indeces].shape"
   ]
  },
  {
   "cell_type": "code",
   "execution_count": 9,
   "metadata": {
    "colab": {
     "autoexec": {
      "startup": false,
      "wait_interval": 0
     }
    },
    "colab_type": "code",
    "id": "juGYgTD4hz5s"
   },
   "outputs": [],
   "source": [
    "def createAllBatches(data, numSteps, granularity, batchSize, skipStep):\n",
    "    data = data.reshape(data.shape[0], data.shape[1] * data.shape[2])\n",
    "    index = 0\n",
    "    numBatches = (len(data) - ((numSteps+1) * granularity)) // skipStep\n",
    "    x = np.empty((numBatches, numSteps, 1))\n",
    "    y = np.empty((numBatches, 1))\n",
    "    #for i in range(numBatches):\n",
    "    i = 0\n",
    "    while True:\n",
    "        try:\n",
    "            if index + numSteps*granularity >= len(data): break\n",
    "            indeces = np.arange(index, index + numSteps*granularity, granularity)\n",
    "            x[i] = data[indeces]\n",
    "            y[i] = data[index + numSteps*granularity]\n",
    "            index += skipStep\n",
    "            i +=1\n",
    "        except IndexError as e:\n",
    "            print(e)\n",
    "            print(len(data), indeces)\n",
    "            break\n",
    "    return x, y"
   ]
  },
  {
   "cell_type": "code",
   "execution_count": 10,
   "metadata": {
    "colab": {
     "autoexec": {
      "startup": false,
      "wait_interval": 0
     },
     "base_uri": "https://localhost:8080/",
     "height": 34
    },
    "colab_type": "code",
    "executionInfo": {
     "elapsed": 716,
     "status": "ok",
     "timestamp": 1527005717720,
     "user": {
      "displayName": "Desiré De Waele",
      "photoUrl": "//lh6.googleusercontent.com/-WZlKZyTW8cA/AAAAAAAAAAI/AAAAAAAAF3s/6MlUlB9OrDo/s50-c-k-no/photo.jpg",
      "userId": "114986057329968215338"
     },
     "user_tz": -120
    },
    "id": "0IsBd2FWjlkJ",
    "outputId": "890f6fbb-04ba-4e45-ae7f-f76a929e60f0",
    "scrolled": false
   },
   "outputs": [
    {
     "name": "stdout",
     "output_type": "stream",
     "text": [
      "index 111541 is out of bounds for axis 0 with size 111541\n",
      "111743 [111541 111543 111545 111547 111549 111551 111553 111555 111557 111559\n",
      " 111561 111563 111565 111567 111569 111571 111573 111575 111577 111579\n",
      " 111581 111583 111585 111587 111589 111591 111593 111595 111597 111599\n",
      " 111601 111603 111605 111607 111609 111611 111613 111615 111617 111619\n",
      " 111621 111623 111625 111627 111629 111631 111633 111635 111637 111639\n",
      " 111641 111643 111645 111647 111649 111651 111653 111655 111657 111659\n",
      " 111661 111663 111665 111667 111669 111671 111673 111675 111677 111679\n",
      " 111681 111683 111685 111687 111689 111691 111693 111695 111697 111699\n",
      " 111701 111703 111705 111707 111709 111711 111713 111715 111717 111719\n",
      " 111721 111723 111725 111727 111729 111731 111733 111735 111737 111739]\n"
     ]
    }
   ],
   "source": [
    "trainX, trainY = createAllBatches(train, numSteps, granularity, batchSize, skipStep)"
   ]
  },
  {
   "cell_type": "code",
   "execution_count": 57,
   "metadata": {
    "colab": {
     "autoexec": {
      "startup": false,
      "wait_interval": 0
     },
     "base_uri": "https://localhost:8080/",
     "height": 34
    },
    "colab_type": "code",
    "executionInfo": {
     "elapsed": 1592,
     "status": "ok",
     "timestamp": 1527005743448,
     "user": {
      "displayName": "Desiré De Waele",
      "photoUrl": "//lh6.googleusercontent.com/-WZlKZyTW8cA/AAAAAAAAAAI/AAAAAAAAF3s/6MlUlB9OrDo/s50-c-k-no/photo.jpg",
      "userId": "114986057329968215338"
     },
     "user_tz": -120
    },
    "id": "IbZ677SykHiT",
    "outputId": "0943463a-e525-4f58-9e5c-7bb7f927e74e"
   },
   "outputs": [
    {
     "data": {
      "text/plain": [
       "(111642, 1)"
      ]
     },
     "execution_count": 57,
     "metadata": {},
     "output_type": "execute_result"
    }
   ],
   "source": [
    "trainY.shape"
   ]
  },
  {
   "cell_type": "code",
   "execution_count": null,
   "metadata": {},
   "outputs": [],
   "source": []
  },
  {
   "cell_type": "code",
   "execution_count": 0,
   "metadata": {
    "colab": {
     "autoexec": {
      "startup": false,
      "wait_interval": 0
     }
    },
    "colab_type": "code",
    "id": "C4L2gH38ALdy"
   },
   "outputs": [],
   "source": [
    "class BatchGenerator(object):\n",
    "    \"\"\" Input: one three-dimensional tensor of shape (numDates, numCoins, numFeatures)\"\"\"\n",
    "    \"\"\" Output: two thee-dimensional tensors of shape (numBatches, numSteps, numCoins*numFeatures)\"\"\"\n",
    "\n",
    "    def __init__(self, data, numSteps, granularity, batchSize, skipStep):   \n",
    "        self.data = data.reshape(data.shape[0], data.shape[1] * data.shape[2])\n",
    "        self.numSteps = numSteps\n",
    "        self.granularity = granularity\n",
    "        \n",
    "        self.batchSize = batchSize\n",
    "        self.skipStep = skipStep\n",
    "        self.index = 0\n",
    "\n",
    "    def generate(self):\n",
    "        x = np.zeros((self.batchSize, self.numSteps, 1))\n",
    "        y = np.zeros((self.batchSize, 1))\n",
    "        while True:\n",
    "            for i in range(self.batchSize):\n",
    "                if self.index + self.numSteps * self.granularity >= len(self.data): self.index = 0\n",
    "                indeces = np.sort(np.arange(self.index, self.index + self.numSteps*self.granularity, self.granularity))\n",
    "                x[i] = self.data[indeces]\n",
    "                y[i] = self.data[self.index + self.numSteps*self.granularity, 0]\n",
    "                self.index += self.skipStep\n",
    "            yield x, y"
   ]
  },
  {
   "cell_type": "code",
   "execution_count": 0,
   "metadata": {
    "colab": {
     "autoexec": {
      "startup": false,
      "wait_interval": 0
     }
    },
    "colab_type": "code",
    "id": "cPd7eQZOADdl"
   },
   "outputs": [],
   "source": [
    "trainGenerator = BatchGenerator(train, numSteps, granularity, batchSize, skipStep)\n",
    "validGenerator = BatchGenerator(valid, numSteps, granularity, batchSize, skipStep)"
   ]
  },
  {
   "cell_type": "markdown",
   "metadata": {
    "colab_type": "text",
    "id": "AiDW1VE-BL0U"
   },
   "source": [
    "## Model"
   ]
  },
  {
   "cell_type": "code",
   "execution_count": 68,
   "metadata": {
    "colab": {
     "autoexec": {
      "startup": false,
      "wait_interval": 0
     },
     "base_uri": "https://localhost:8080/",
     "height": 204
    },
    "colab_type": "code",
    "executionInfo": {
     "elapsed": 828,
     "status": "ok",
     "timestamp": 1527003541015,
     "user": {
      "displayName": "Desiré De Waele",
      "photoUrl": "//lh6.googleusercontent.com/-WZlKZyTW8cA/AAAAAAAAAAI/AAAAAAAAF3s/6MlUlB9OrDo/s50-c-k-no/photo.jpg",
      "userId": "114986057329968215338"
     },
     "user_tz": -120
    },
    "id": "z2NgdNFWAQTx",
    "outputId": "fea93d1d-bb14-40b4-f815-236168e647a5"
   },
   "outputs": [
    {
     "name": "stdout",
     "output_type": "stream",
     "text": [
      "_________________________________________________________________\n",
      "Layer (type)                 Output Shape              Param #   \n",
      "=================================================================\n",
      "simple_rnn_1 (SimpleRNN)     (None, 128)               16640     \n",
      "_________________________________________________________________\n",
      "dense_2 (Dense)              (None, 1)                 129       \n",
      "=================================================================\n",
      "Total params: 16,769\n",
      "Trainable params: 16,769\n",
      "Non-trainable params: 0\n",
      "_________________________________________________________________\n"
     ]
    }
   ],
   "source": [
    "model = Sequential()\n",
    "model.add(SimpleRNN(128, input_shape=(numSteps, 1)))\n",
    "model.add(Dense(1))\n",
    "model.compile(optimizer='adam', loss='mse', metrics=['mse'])\n",
    "model.summary()"
   ]
  },
  {
   "cell_type": "code",
   "execution_count": 69,
   "metadata": {
    "colab": {
     "autoexec": {
      "startup": false,
      "wait_interval": 0
     },
     "base_uri": "https://localhost:8080/",
     "height": 717
    },
    "colab_type": "code",
    "executionInfo": {
     "elapsed": 222171,
     "status": "ok",
     "timestamp": 1527003763846,
     "user": {
      "displayName": "Desiré De Waele",
      "photoUrl": "//lh6.googleusercontent.com/-WZlKZyTW8cA/AAAAAAAAAAI/AAAAAAAAF3s/6MlUlB9OrDo/s50-c-k-no/photo.jpg",
      "userId": "114986057329968215338"
     },
     "user_tz": -120
    },
    "id": "SyPsUU_TBKEg",
    "outputId": "80d1e750-dba0-47de-ca8f-0ab197c6d69e"
   },
   "outputs": [
    {
     "name": "stdout",
     "output_type": "stream",
     "text": [
      "Epoch 1/20\n",
      "931/931 [==============================] - 12s 13ms/step - loss: 1.5242e-05 - mean_squared_error: 1.5242e-05 - val_loss: 1.5152e-05 - val_mean_squared_error: 1.5152e-05\n",
      "Epoch 2/20\n",
      "931/931 [==============================] - 11s 12ms/step - loss: 6.4229e-06 - mean_squared_error: 6.4229e-06 - val_loss: 5.9838e-05 - val_mean_squared_error: 5.9838e-05\n",
      "Epoch 3/20\n",
      "236/931 [======>.......................] - ETA: 7s - loss: 2.4194e-05 - mean_squared_error: 2.4194e-05931/931 [==============================] - 11s 12ms/step - loss: 1.5762e-05 - mean_squared_error: 1.5762e-05 - val_loss: 1.2770e-05 - val_mean_squared_error: 1.2770e-05\n",
      "Epoch 4/20\n",
      "931/931 [==============================] - 11s 12ms/step - loss: 5.2421e-06 - mean_squared_error: 5.2421e-06 - val_loss: 1.1626e-05 - val_mean_squared_error: 1.1626e-05\n",
      "Epoch 5/20\n",
      "345/931 [==========>...................] - ETA: 6s - loss: 9.1507e-06 - mean_squared_error: 9.1507e-06931/931 [==============================] - 11s 12ms/step - loss: 2.6534e-05 - mean_squared_error: 2.6534e-05 - val_loss: 5.7166e-06 - val_mean_squared_error: 5.7166e-06\n",
      "Epoch 6/20\n",
      "931/931 [==============================] - 11s 12ms/step - loss: 1.5267e-05 - mean_squared_error: 1.5267e-05 - val_loss: 2.2770e-05 - val_mean_squared_error: 2.2770e-05\n",
      "Epoch 7/20\n",
      "370/931 [==========>...................] - ETA: 6s - loss: 2.1188e-05 - mean_squared_error: 2.1188e-05931/931 [==============================] - 11s 12ms/step - loss: 1.4351e-05 - mean_squared_error: 1.4351e-05 - val_loss: 1.5672e-05 - val_mean_squared_error: 1.5672e-05\n",
      "Epoch 8/20\n",
      "931/931 [==============================] - 11s 12ms/step - loss: 1.5805e-05 - mean_squared_error: 1.5805e-05 - val_loss: 1.0212e-05 - val_mean_squared_error: 1.0212e-05\n",
      "Epoch 9/20\n",
      "377/931 [===========>..................] - ETA: 5s - loss: 8.8416e-06 - mean_squared_error: 8.8416e-06931/931 [==============================] - 11s 12ms/step - loss: 7.4319e-06 - mean_squared_error: 7.4319e-06 - val_loss: 8.0330e-06 - val_mean_squared_error: 8.0330e-06\n",
      "Epoch 10/20\n",
      "931/931 [==============================] - 11s 12ms/step - loss: 1.3397e-05 - mean_squared_error: 1.3397e-05 - val_loss: 5.9507e-06 - val_mean_squared_error: 5.9507e-06\n",
      "Epoch 11/20\n",
      "376/931 [===========>..................] - ETA: 5s - loss: 2.2924e-05 - mean_squared_error: 2.2924e-05931/931 [==============================] - 11s 12ms/step - loss: 4.0931e-05 - mean_squared_error: 4.0931e-05 - val_loss: 1.3974e-05 - val_mean_squared_error: 1.3974e-05\n",
      "Epoch 12/20\n",
      "931/931 [==============================] - 11s 12ms/step - loss: 3.5290e-05 - mean_squared_error: 3.5290e-05 - val_loss: 1.0647e-05 - val_mean_squared_error: 1.0647e-05\n",
      "Epoch 13/20\n",
      "367/931 [==========>...................] - ETA: 6s - loss: 2.1944e-05 - mean_squared_error: 2.1944e-05931/931 [==============================] - 11s 12ms/step - loss: 1.0860e-05 - mean_squared_error: 1.0860e-05 - val_loss: 2.3709e-05 - val_mean_squared_error: 2.3709e-05\n",
      "Epoch 14/20\n",
      "931/931 [==============================] - 11s 12ms/step - loss: 6.1591e-06 - mean_squared_error: 6.1591e-06 - val_loss: 4.6572e-05 - val_mean_squared_error: 4.6572e-05\n",
      "Epoch 15/20\n",
      "349/931 [==========>...................] - ETA: 6s - loss: 2.3396e-05 - mean_squared_error: 2.3396e-05931/931 [==============================] - 11s 12ms/step - loss: 1.4591e-05 - mean_squared_error: 1.4591e-05 - val_loss: 1.0245e-05 - val_mean_squared_error: 1.0245e-05\n",
      "Epoch 16/20\n",
      "931/931 [==============================] - 11s 12ms/step - loss: 5.1316e-06 - mean_squared_error: 5.1316e-06 - val_loss: 1.0643e-05 - val_mean_squared_error: 1.0643e-05\n",
      "Epoch 17/20\n",
      "349/931 [==========>...................] - ETA: 6s - loss: 8.7788e-06 - mean_squared_error: 8.7788e-06931/931 [==============================] - 11s 12ms/step - loss: 2.4930e-05 - mean_squared_error: 2.4930e-05 - val_loss: 1.1088e-05 - val_mean_squared_error: 1.1088e-05\n",
      "Epoch 18/20\n",
      "931/931 [==============================] - 11s 12ms/step - loss: 1.5237e-05 - mean_squared_error: 1.5237e-05 - val_loss: 1.8102e-05 - val_mean_squared_error: 1.8102e-05\n",
      "Epoch 19/20\n",
      "360/931 [==========>...................] - ETA: 6s - loss: 2.1312e-05 - mean_squared_error: 2.1312e-05931/931 [==============================] - 11s 12ms/step - loss: 1.4087e-05 - mean_squared_error: 1.4087e-05 - val_loss: 8.7454e-06 - val_mean_squared_error: 8.7454e-06\n",
      "Epoch 20/20\n",
      "931/931 [==============================] - 11s 12ms/step - loss: 1.5641e-05 - mean_squared_error: 1.5641e-05 - val_loss: 1.2293e-05 - val_mean_squared_error: 1.2293e-05\n"
     ]
    }
   ],
   "source": [
    "history = model.fit_generator(trainGenerator.generate(), len(train)//(batchSize*numSteps), numEpochs, \n",
    "                              validation_data=validGenerator.generate(), validation_steps=len(valid)//(batchSize*numSteps))"
   ]
  },
  {
   "cell_type": "code",
   "execution_count": 70,
   "metadata": {
    "colab": {
     "autoexec": {
      "startup": false,
      "wait_interval": 0
     },
     "base_uri": "https://localhost:8080/",
     "height": 310
    },
    "colab_type": "code",
    "executionInfo": {
     "elapsed": 1506,
     "status": "ok",
     "timestamp": 1527003769615,
     "user": {
      "displayName": "Desiré De Waele",
      "photoUrl": "//lh6.googleusercontent.com/-WZlKZyTW8cA/AAAAAAAAAAI/AAAAAAAAF3s/6MlUlB9OrDo/s50-c-k-no/photo.jpg",
      "userId": "114986057329968215338"
     },
     "user_tz": -120
    },
    "id": "Vaq_N1j-F0dB",
    "outputId": "2a2069db-1036-4bad-b8b4-46d2011e8909"
   },
   "outputs": [
    {
     "data": {
      "image/png": "[encoded data removed]",
      "text/plain": [
       "<matplotlib.figure.Figure at 0x7f3834dd7e48>"
      ]
     },
     "metadata": {
      "tags": []
     },
     "output_type": "display_data"
    }
   ],
   "source": [
    "plt.style.use('seaborn-white')\n",
    "\n",
    "fig = plt.figure(figsize=(18, 10)); ax1 = fig.add_subplot(221); ax2 = fig.add_subplot(222)\n",
    "tm, tl = history.history['mean_squared_error'], history.history['loss']\n",
    "vm, vl = history.history['val_mean_squared_error'], history.history['val_loss']\n",
    "\n",
    "ax1.plot(np.arange(numEpochs), tm,\".-\", color='#2A6EA6', label=\"Training: {0:.2f}%\".format(tm[-1]))\n",
    "ax1.plot(np.arange(numEpochs), vm,\".-\", color='#FFA933', label=\"Validation: {0:.2f}%\".format(vm[-1]))\n",
    "ax1.grid(True); ax1.legend(); ax1.set_title(\"MSE per epoch\")\n",
    "\n",
    "ax2.plot(np.arange(numEpochs), tl, \".-\", color='#2A6EA6', label=\"Training: {0:.2f}\".format(tl[-1]))\n",
    "ax2.plot(np.arange(numEpochs), vl,\".-\", color='#FFA933', label=\"Validation: {0:.2f}\".format(vl[-1]))\n",
    "ax2.grid(True); ax2.legend(); ax2.set_title(\"Loss per epoch\")\n",
    "plt.show()"
   ]
  },
  {
   "cell_type": "code",
   "execution_count": 75,
   "metadata": {
    "colab": {
     "autoexec": {
      "startup": false,
      "wait_interval": 0
     },
     "base_uri": "https://localhost:8080/",
     "height": 34
    },
    "colab_type": "code",
    "executionInfo": {
     "elapsed": 916,
     "status": "ok",
     "timestamp": 1527003811457,
     "user": {
      "displayName": "Desiré De Waele",
      "photoUrl": "//lh6.googleusercontent.com/-WZlKZyTW8cA/AAAAAAAAAAI/AAAAAAAAF3s/6MlUlB9OrDo/s50-c-k-no/photo.jpg",
      "userId": "114986057329968215338"
     },
     "user_tz": -120
    },
    "id": "Em2mh_DBJ0b7",
    "outputId": "0c61e92b-11bc-41c1-8dfa-5b267c5da7a4"
   },
   "outputs": [
    {
     "data": {
      "text/plain": [
       "(20, 1)"
      ]
     },
     "execution_count": 75,
     "metadata": {
      "tags": []
     },
     "output_type": "execute_result"
    }
   ],
   "source": [
    "predictions = model.predict_generator(validGenerator.generate(), steps=2)\n",
    "predictions.shape"
   ]
  },
  {
   "cell_type": "code",
   "execution_count": 76,
   "metadata": {
    "colab": {
     "autoexec": {
      "startup": false,
      "wait_interval": 0
     },
     "base_uri": "https://localhost:8080/",
     "height": 357
    },
    "colab_type": "code",
    "executionInfo": {
     "elapsed": 1600,
     "status": "ok",
     "timestamp": 1527003816078,
     "user": {
      "displayName": "Desiré De Waele",
      "photoUrl": "//lh6.googleusercontent.com/-WZlKZyTW8cA/AAAAAAAAAAI/AAAAAAAAF3s/6MlUlB9OrDo/s50-c-k-no/photo.jpg",
      "userId": "114986057329968215338"
     },
     "user_tz": -120
    },
    "id": "wChuiyNswY1D",
    "outputId": "6515f3c9-45de-44cb-eeb0-7883352b3edd"
   },
   "outputs": [
    {
     "data": {
      "text/plain": [
       "array([[-0.00051124],\n",
       "       [-0.0002273 ],\n",
       "       [-0.00034614],\n",
       "       [-0.00032173],\n",
       "       [-0.00026746],\n",
       "       [-0.00057683],\n",
       "       [-0.00030578],\n",
       "       [-0.00032185],\n",
       "       [-0.00047351],\n",
       "       [-0.00018348],\n",
       "       [-0.00051124],\n",
       "       [-0.0002273 ],\n",
       "       [-0.00034614],\n",
       "       [-0.00032173],\n",
       "       [-0.00026746],\n",
       "       [-0.00057683],\n",
       "       [-0.00030578],\n",
       "       [-0.00032185],\n",
       "       [-0.00047351],\n",
       "       [-0.00018348]], dtype=float32)"
      ]
     },
     "execution_count": 76,
     "metadata": {
      "tags": []
     },
     "output_type": "execute_result"
    }
   ],
   "source": [
    "predictions"
   ]
  },
  {
   "cell_type": "code",
   "execution_count": 0,
   "metadata": {
    "colab": {
     "autoexec": {
      "startup": false,
      "wait_interval": 0
     }
    },
    "colab_type": "code",
    "id": "6FFoEpPqkzWC"
   },
   "outputs": [],
   "source": [
    "#data = np.empty((len(valid), numSteps, 1))\n",
    "for i, (x, y) in enumerate(validGenerator.generate()): \n",
    "    x = x\n",
    "    y = y\n",
    "    if i == 0: break\n"
   ]
  },
  {
   "cell_type": "code",
   "execution_count": 61,
   "metadata": {
    "colab": {
     "autoexec": {
      "startup": false,
      "wait_interval": 0
     },
     "base_uri": "https://localhost:8080/",
     "height": 221
    },
    "colab_type": "code",
    "executionInfo": {
     "elapsed": 1296,
     "status": "ok",
     "timestamp": 1527003376534,
     "user": {
      "displayName": "Desiré De Waele",
      "photoUrl": "//lh6.googleusercontent.com/-WZlKZyTW8cA/AAAAAAAAAAI/AAAAAAAAF3s/6MlUlB9OrDo/s50-c-k-no/photo.jpg",
      "userId": "114986057329968215338"
     },
     "user_tz": -120
    },
    "id": "CUUm3Uguk00v",
    "outputId": "c664ccc8-707b-4ce1-b139-68fb22a06f3e"
   },
   "outputs": [
    {
     "data": {
      "text/plain": [
       "array([[-0.00083137],\n",
       "       [-0.00487266],\n",
       "       [-0.00148367],\n",
       "       [ 0.00037055],\n",
       "       [ 0.00148638],\n",
       "       [-0.0022304 ],\n",
       "       [ 0.00082714],\n",
       "       [-0.01260258],\n",
       "       [-0.00320586],\n",
       "       [ 0.00782303],\n",
       "       [-0.01313766],\n",
       "       [ 0.00581764]])"
      ]
     },
     "execution_count": 61,
     "metadata": {
      "tags": []
     },
     "output_type": "execute_result"
    }
   ],
   "source": [
    "x[0]"
   ]
  },
  {
   "cell_type": "code",
   "execution_count": 65,
   "metadata": {
    "colab": {
     "autoexec": {
      "startup": false,
      "wait_interval": 0
     },
     "base_uri": "https://localhost:8080/",
     "height": 34
    },
    "colab_type": "code",
    "executionInfo": {
     "elapsed": 919,
     "status": "ok",
     "timestamp": 1527003485531,
     "user": {
      "displayName": "Desiré De Waele",
      "photoUrl": "//lh6.googleusercontent.com/-WZlKZyTW8cA/AAAAAAAAAAI/AAAAAAAAF3s/6MlUlB9OrDo/s50-c-k-no/photo.jpg",
      "userId": "114986057329968215338"
     },
     "user_tz": -120
    },
    "id": "VEXj0ylZfTtN",
    "outputId": "b2a3ccdf-a7cf-4a5c-889e-7e30dece5a97"
   },
   "outputs": [
    {
     "data": {
      "text/plain": [
       "array([-0.01183901])"
      ]
     },
     "execution_count": 65,
     "metadata": {
      "tags": []
     },
     "output_type": "execute_result"
    }
   ],
   "source": [
    "y[0]"
   ]
  },
  {
   "cell_type": "code",
   "execution_count": 54,
   "metadata": {
    "colab": {
     "autoexec": {
      "startup": false,
      "wait_interval": 0
     },
     "base_uri": "https://localhost:8080/",
     "height": 51
    },
    "colab_type": "code",
    "executionInfo": {
     "elapsed": 704,
     "status": "ok",
     "timestamp": 1527003262911,
     "user": {
      "displayName": "Desiré De Waele",
      "photoUrl": "//lh6.googleusercontent.com/-WZlKZyTW8cA/AAAAAAAAAAI/AAAAAAAAF3s/6MlUlB9OrDo/s50-c-k-no/photo.jpg",
      "userId": "114986057329968215338"
     },
     "user_tz": -120
    },
    "id": "P25uUemCdshA",
    "outputId": "faead6b8-1652-4b86-c5fa-98b4d6cef9a6"
   },
   "outputs": [
    {
     "name": "stdout",
     "output_type": "stream",
     "text": [
      "[-0.00083137 -0.00487266 -0.00148367  0.00037055  0.00148638 -0.0022304\n",
      "  0.00082714 -0.01260258 -0.00320586  0.00782303 -0.01313766  0.00581764]\n"
     ]
    }
   ],
   "source": [
    "valid[:12,0,0]"
   ]
  },
  {
   "cell_type": "code",
   "execution_count": 0,
   "metadata": {
    "colab": {
     "autoexec": {
      "startup": false,
      "wait_interval": 0
     }
    },
    "colab_type": "code",
    "id": "t-j9z1yQdxKD"
   },
   "outputs": [],
   "source": []
  }
 ],
 "metadata": {
  "accelerator": "GPU",
  "colab": {
   "collapsed_sections": [],
   "default_view": {},
   "name": "model.ipynb",
   "provenance": [],
   "toc_visible": true,
   "version": "0.3.2",
   "views": {}
  },
  "kernelspec": {
   "display_name": "Python 3",
   "language": "python",
   "name": "python3"
  },
  "language_info": {
   "codemirror_mode": {
    "name": "ipython",
    "version": 3
   },
   "file_extension": ".py",
   "mimetype": "text/x-python",
   "name": "python",
   "nbconvert_exporter": "python",
   "pygments_lexer": "ipython3",
   "version": "3.6.4"
  }
 },
 "nbformat": 4,
 "nbformat_minor": 1
}
