{
 "cells": [
  {
   "cell_type": "markdown",
   "metadata": {
    "colab_type": "text",
    "id": "tBlZgl52Zgsb"
   },
   "source": [
    "# Classifying Tree Leaves\n",
    "> May 29, 2018"
   ]
  },
  {
   "cell_type": "markdown",
   "metadata": {},
   "source": [
    "<img src=\"img/leaves.png\" style=\"float:left;max-height:300px;border:0px solid black\">"
   ]
  },
  {
   "cell_type": "markdown",
   "metadata": {},
   "source": [
    "This is a pipeline from preprocessing tree leaf images to building a predictive model to recognize them.\n",
    "\n",
    "---"
   ]
  },
  {
   "cell_type": "markdown",
   "metadata": {},
   "source": [
    "## Contents\n",
    "\n",
    "1. **Data Preproccessing**\n",
    "    1. Import\n",
    "    2. Uniformization\n",
    "    3. Augmentation\n",
    "    4. Visualization\n",
    "    5. Formatting\n",
    "2. **Convolutional Neural Network**\n",
    "    1. Achitecture\n",
    "    2. Model Training\n",
    "    3. Model Evaluation\n",
    "---"
   ]
  },
  {
   "cell_type": "code",
   "execution_count": 94,
   "metadata": {
    "cellView": "code",
    "colab": {
     "autoexec": {
      "startup": false,
      "wait_interval": 0
     }
    },
    "colab_type": "code",
    "id": "geSJU2I1Zgsc"
   },
   "outputs": [],
   "source": [
    "import numpy as np\n",
    "import pandas as pd\n",
    "import matplotlib.pyplot as plt\n",
    "import matplotlib.cm as cm\n",
    "import cv2 as cv\n",
    "import os"
   ]
  },
  {
   "cell_type": "code",
   "execution_count": 2,
   "metadata": {
    "colab": {
     "autoexec": {
      "startup": false,
      "wait_interval": 0
     },
     "base_uri": "https://localhost:8080/",
     "height": 34
    },
    "colab_type": "code",
    "executionInfo": {
     "elapsed": 7535,
     "status": "ok",
     "timestamp": 1527751287566,
     "user": {
      "displayName": "Desiré De Waele",
      "photoUrl": "//lh6.googleusercontent.com/-WZlKZyTW8cA/AAAAAAAAAAI/AAAAAAAAF3s/6MlUlB9OrDo/s50-c-k-no/photo.jpg",
      "userId": "114986057329968215338"
     },
     "user_tz": -120
    },
    "id": "ml7-zxY72Ywd",
    "outputId": "dd3c5feb-1222-4314-c63a-dc2fed8196e7"
   },
   "outputs": [
    {
     "name": "stderr",
     "output_type": "stream",
     "text": [
      "Using TensorFlow backend.\n"
     ]
    }
   ],
   "source": [
    "import tensorflow as tf\n",
    "from keras.models import Sequential, load_model\n",
    "from keras.layers.convolutional import Conv2D, MaxPooling2D\n",
    "from keras.layers.core import Flatten, Dense, Dropout\n",
    "from keras.layers import Concatenate"
   ]
  },
  {
   "cell_type": "code",
   "execution_count": 5,
   "metadata": {
    "colab": {
     "autoexec": {
      "startup": false,
      "wait_interval": 0
     }
    },
    "colab_type": "code",
    "id": "HOWVD2t32Ywl"
   },
   "outputs": [],
   "source": [
    "SIZE = 128\n",
    "LABELS = 99\n",
    "CHANNELS = 1"
   ]
  },
  {
   "cell_type": "markdown",
   "metadata": {
    "colab_type": "text",
    "id": "Leu2kqZSZgsq"
   },
   "source": [
    "---\n",
    "## 1. - Data Preproccessing"
   ]
  },
  {
   "cell_type": "markdown",
   "metadata": {},
   "source": [
    "### 1.1 - Data Import\n",
    "The leaf dataset is proveded by [Kaggle](https://www.kaggle.com/). It consists of two parts: \n",
    "1. A training and testing csv of features that define the margin, shape, texture of the images. \n",
    "2. A set of jpg-files with various resolutions, one for every image in the train and test set.\n",
    "\n",
    "In this notebook, I will only make use of the images for training. I do import the training features, however, to gather the image id's and labels."
   ]
  },
  {
   "cell_type": "code",
   "execution_count": 98,
   "metadata": {
    "colab": {
     "autoexec": {
      "startup": false,
      "wait_interval": 0
     }
    },
    "colab_type": "code",
    "id": "bfi_bIe82Ywr",
    "outputId": "43acb517-f885-4e39-e194-e34cc090fce7"
   },
   "outputs": [
    {
     "data": {
      "text/html": [
       "<div>\n",
       "<style scoped>\n",
       "    .dataframe tbody tr th:only-of-type {\n",
       "        vertical-align: middle;\n",
       "    }\n",
       "\n",
       "    .dataframe tbody tr th {\n",
       "        vertical-align: top;\n",
       "    }\n",
       "\n",
       "    .dataframe thead th {\n",
       "        text-align: right;\n",
       "    }\n",
       "</style>\n",
       "<table border=\"1\" class=\"dataframe\">\n",
       "  <thead>\n",
       "    <tr style=\"text-align: right;\">\n",
       "      <th></th>\n",
       "      <th>id</th>\n",
       "      <th>species</th>\n",
       "      <th>margin1</th>\n",
       "      <th>margin2</th>\n",
       "      <th>margin3</th>\n",
       "      <th>margin4</th>\n",
       "      <th>margin5</th>\n",
       "      <th>margin6</th>\n",
       "      <th>margin7</th>\n",
       "      <th>margin8</th>\n",
       "      <th>...</th>\n",
       "      <th>texture55</th>\n",
       "      <th>texture56</th>\n",
       "      <th>texture57</th>\n",
       "      <th>texture58</th>\n",
       "      <th>texture59</th>\n",
       "      <th>texture60</th>\n",
       "      <th>texture61</th>\n",
       "      <th>texture62</th>\n",
       "      <th>texture63</th>\n",
       "      <th>texture64</th>\n",
       "    </tr>\n",
       "  </thead>\n",
       "  <tbody>\n",
       "    <tr>\n",
       "      <th>985</th>\n",
       "      <td>1575</td>\n",
       "      <td>Magnolia_Salicifolia</td>\n",
       "      <td>0.060547</td>\n",
       "      <td>0.119140</td>\n",
       "      <td>0.007812</td>\n",
       "      <td>0.003906</td>\n",
       "      <td>0.000000</td>\n",
       "      <td>0.148440</td>\n",
       "      <td>0.017578</td>\n",
       "      <td>0.0</td>\n",
       "      <td>...</td>\n",
       "      <td>0.242190</td>\n",
       "      <td>0.000000</td>\n",
       "      <td>0.034180</td>\n",
       "      <td>0.000000</td>\n",
       "      <td>0.010742</td>\n",
       "      <td>0.000000</td>\n",
       "      <td>0.000000</td>\n",
       "      <td>0.000000</td>\n",
       "      <td>0.000000</td>\n",
       "      <td>0.018555</td>\n",
       "    </tr>\n",
       "    <tr>\n",
       "      <th>986</th>\n",
       "      <td>1578</td>\n",
       "      <td>Acer_Pictum</td>\n",
       "      <td>0.001953</td>\n",
       "      <td>0.003906</td>\n",
       "      <td>0.021484</td>\n",
       "      <td>0.107420</td>\n",
       "      <td>0.001953</td>\n",
       "      <td>0.000000</td>\n",
       "      <td>0.000000</td>\n",
       "      <td>0.0</td>\n",
       "      <td>...</td>\n",
       "      <td>0.170900</td>\n",
       "      <td>0.000000</td>\n",
       "      <td>0.018555</td>\n",
       "      <td>0.000000</td>\n",
       "      <td>0.011719</td>\n",
       "      <td>0.000000</td>\n",
       "      <td>0.000000</td>\n",
       "      <td>0.000977</td>\n",
       "      <td>0.000000</td>\n",
       "      <td>0.021484</td>\n",
       "    </tr>\n",
       "    <tr>\n",
       "      <th>987</th>\n",
       "      <td>1581</td>\n",
       "      <td>Alnus_Maximowiczii</td>\n",
       "      <td>0.001953</td>\n",
       "      <td>0.003906</td>\n",
       "      <td>0.000000</td>\n",
       "      <td>0.021484</td>\n",
       "      <td>0.078125</td>\n",
       "      <td>0.003906</td>\n",
       "      <td>0.007812</td>\n",
       "      <td>0.0</td>\n",
       "      <td>...</td>\n",
       "      <td>0.004883</td>\n",
       "      <td>0.000977</td>\n",
       "      <td>0.004883</td>\n",
       "      <td>0.027344</td>\n",
       "      <td>0.016602</td>\n",
       "      <td>0.007812</td>\n",
       "      <td>0.000000</td>\n",
       "      <td>0.027344</td>\n",
       "      <td>0.000000</td>\n",
       "      <td>0.001953</td>\n",
       "    </tr>\n",
       "    <tr>\n",
       "      <th>988</th>\n",
       "      <td>1582</td>\n",
       "      <td>Quercus_Rubra</td>\n",
       "      <td>0.000000</td>\n",
       "      <td>0.000000</td>\n",
       "      <td>0.046875</td>\n",
       "      <td>0.056641</td>\n",
       "      <td>0.009766</td>\n",
       "      <td>0.000000</td>\n",
       "      <td>0.000000</td>\n",
       "      <td>0.0</td>\n",
       "      <td>...</td>\n",
       "      <td>0.083008</td>\n",
       "      <td>0.030273</td>\n",
       "      <td>0.000977</td>\n",
       "      <td>0.002930</td>\n",
       "      <td>0.014648</td>\n",
       "      <td>0.000000</td>\n",
       "      <td>0.041992</td>\n",
       "      <td>0.000000</td>\n",
       "      <td>0.001953</td>\n",
       "      <td>0.002930</td>\n",
       "    </tr>\n",
       "    <tr>\n",
       "      <th>989</th>\n",
       "      <td>1584</td>\n",
       "      <td>Quercus_Afares</td>\n",
       "      <td>0.023438</td>\n",
       "      <td>0.019531</td>\n",
       "      <td>0.031250</td>\n",
       "      <td>0.015625</td>\n",
       "      <td>0.005859</td>\n",
       "      <td>0.019531</td>\n",
       "      <td>0.035156</td>\n",
       "      <td>0.0</td>\n",
       "      <td>...</td>\n",
       "      <td>0.000000</td>\n",
       "      <td>0.000000</td>\n",
       "      <td>0.002930</td>\n",
       "      <td>0.000000</td>\n",
       "      <td>0.012695</td>\n",
       "      <td>0.000000</td>\n",
       "      <td>0.000000</td>\n",
       "      <td>0.023438</td>\n",
       "      <td>0.025391</td>\n",
       "      <td>0.022461</td>\n",
       "    </tr>\n",
       "  </tbody>\n",
       "</table>\n",
       "<p>5 rows × 194 columns</p>\n",
       "</div>"
      ],
      "text/plain": [
       "       id               species   margin1   margin2   margin3   margin4  \\\n",
       "985  1575  Magnolia_Salicifolia  0.060547  0.119140  0.007812  0.003906   \n",
       "986  1578           Acer_Pictum  0.001953  0.003906  0.021484  0.107420   \n",
       "987  1581    Alnus_Maximowiczii  0.001953  0.003906  0.000000  0.021484   \n",
       "988  1582         Quercus_Rubra  0.000000  0.000000  0.046875  0.056641   \n",
       "989  1584        Quercus_Afares  0.023438  0.019531  0.031250  0.015625   \n",
       "\n",
       "      margin5   margin6   margin7  margin8    ...      texture55  texture56  \\\n",
       "985  0.000000  0.148440  0.017578      0.0    ...       0.242190   0.000000   \n",
       "986  0.001953  0.000000  0.000000      0.0    ...       0.170900   0.000000   \n",
       "987  0.078125  0.003906  0.007812      0.0    ...       0.004883   0.000977   \n",
       "988  0.009766  0.000000  0.000000      0.0    ...       0.083008   0.030273   \n",
       "989  0.005859  0.019531  0.035156      0.0    ...       0.000000   0.000000   \n",
       "\n",
       "     texture57  texture58  texture59  texture60  texture61  texture62  \\\n",
       "985   0.034180   0.000000   0.010742   0.000000   0.000000   0.000000   \n",
       "986   0.018555   0.000000   0.011719   0.000000   0.000000   0.000977   \n",
       "987   0.004883   0.027344   0.016602   0.007812   0.000000   0.027344   \n",
       "988   0.000977   0.002930   0.014648   0.000000   0.041992   0.000000   \n",
       "989   0.002930   0.000000   0.012695   0.000000   0.000000   0.023438   \n",
       "\n",
       "     texture63  texture64  \n",
       "985   0.000000   0.018555  \n",
       "986   0.000000   0.021484  \n",
       "987   0.000000   0.001953  \n",
       "988   0.001953   0.002930  \n",
       "989   0.025391   0.022461  \n",
       "\n",
       "[5 rows x 194 columns]"
      ]
     },
     "execution_count": 98,
     "metadata": {},
     "output_type": "execute_result"
    }
   ],
   "source": [
    "train = pd.read_csv(\"/Users/desiredewaele/Google Drive/Databases/Leaves/train.csv\")\n",
    "train.tail()"
   ]
  },
  {
   "cell_type": "markdown",
   "metadata": {},
   "source": [
    "---\n",
    "### 1.2 - Data Uniformization\n",
    "By retrieving the filenames, I can import and uniformize the images in one for loop. The steps are:\n",
    "* Import with open computer vision\n",
    "* Padding to square images\n",
    "* Rescaling them to a resolution of 128x128."
   ]
  },
  {
   "cell_type": "code",
   "execution_count": 101,
   "metadata": {
    "colab": {
     "autoexec": {
      "startup": false,
      "wait_interval": 0
     },
     "base_uri": "https://localhost:8080/",
     "height": 34
    },
    "colab_type": "code",
    "executionInfo": {
     "elapsed": 3281,
     "status": "ok",
     "timestamp": 1527752735129,
     "user": {
      "displayName": "Desiré De Waele",
      "photoUrl": "//lh6.googleusercontent.com/-WZlKZyTW8cA/AAAAAAAAAAI/AAAAAAAAF3s/6MlUlB9OrDo/s50-c-k-no/photo.jpg",
      "userId": "114986057329968215338"
     },
     "user_tz": -120
    },
    "id": "8IWiQhLpZgsy",
    "outputId": "20fbafd3-779d-42ca-c463-355a2e5e0a4e"
   },
   "outputs": [
    {
     "name": "stdout",
     "output_type": "stream",
     "text": [
      "Shape of imported data: (990, 128, 128)\n"
     ]
    }
   ],
   "source": [
    "path = \"./\"\n",
    "path = \"/Users/desiredewaele/Google Drive/Databases/Leaves/images/\"\n",
    "\n",
    "filenames = train.id.apply(lambda x: str(x)+\".jpg\").values\n",
    "images = []\n",
    "for f in filenames:\n",
    "    image = cv.imread(path+f)\n",
    "    image = image[...,[0]]\n",
    "    x, y, _ = image.shape\n",
    "    width = np.abs(int((x-y) / 2))\n",
    "    if x > y: image = np.pad(image, ((0,0), (width, width), (0,0)), 'constant')\n",
    "    else: image = np.pad(image, ((width, width), (0,0), (0,0)), 'constant')\n",
    "    image = cv.resize(image, (SIZE, SIZE), interpolation=cv.INTER_LINEAR)\n",
    "    image = np.expand_dims(image, 0)\n",
    "    images.append(image)\n",
    "data = np.concatenate(images)\n",
    "print(\"Shape of imported data:\", data.shape)"
   ]
  },
  {
   "cell_type": "markdown",
   "metadata": {},
   "source": [
    "---\n",
    "### 1.3 - Data Augmentation\n",
    "We now have 990 images of size 128x128. By looping over the images, we can easily augment the data by:\n",
    "* Adding 15° rotations to the dataset.\n",
    "* Per rotation, add its mirror to the dataset."
   ]
  },
  {
   "cell_type": "code",
   "execution_count": 147,
   "metadata": {
    "colab": {
     "autoexec": {
      "startup": false,
      "wait_interval": 0
     },
     "base_uri": "https://localhost:8080/",
     "height": 34
    },
    "colab_type": "code",
    "executionInfo": {
     "elapsed": 4790,
     "status": "ok",
     "timestamp": 1527752742490,
     "user": {
      "displayName": "Desiré De Waele",
      "photoUrl": "//lh6.googleusercontent.com/-WZlKZyTW8cA/AAAAAAAAAAI/AAAAAAAAF3s/6MlUlB9OrDo/s50-c-k-no/photo.jpg",
      "userId": "114986057329968215338"
     },
     "user_tz": -120
    },
    "id": "QllHTSUMnisD",
    "outputId": "5232f971-2b6d-42e0-a495-5b2527c8ea13"
   },
   "outputs": [
    {
     "data": {
      "text/plain": [
       "(47520, 128, 128)"
      ]
     },
     "execution_count": 147,
     "metadata": {},
     "output_type": "execute_result"
    }
   ],
   "source": [
    "rotatedImages, flippedImages = [], []\n",
    "for rotation in np.arange(0, 360, 15):\n",
    "    for image in data:\n",
    "        x, y = image.shape\n",
    "        matrix = cv.getRotationMatrix2D((x/2, y/2), rotation, 1)\n",
    "        rotImg = cv.warpAffine(image, matrix, (SIZE, SIZE))\n",
    "        rotatedImages.append(np.expand_dims(rotImg, 0))\n",
    "        flipImg = cv.flip(rotImg, 1)\n",
    "        flippedImages.append(np.expand_dims(flipImg, 0))\n",
    "tensor = np.concatenate(rotatedImages + flippedImages)\n",
    "tensor.shape"
   ]
  },
  {
   "cell_type": "code",
   "execution_count": 148,
   "metadata": {
    "colab": {
     "autoexec": {
      "startup": false,
      "wait_interval": 0
     },
     "base_uri": "https://localhost:8080/",
     "height": 119
    },
    "colab_type": "code",
    "executionInfo": {
     "elapsed": 548,
     "status": "ok",
     "timestamp": 1527752744362,
     "user": {
      "displayName": "Desiré De Waele",
      "photoUrl": "//lh6.googleusercontent.com/-WZlKZyTW8cA/AAAAAAAAAAI/AAAAAAAAF3s/6MlUlB9OrDo/s50-c-k-no/photo.jpg",
      "userId": "114986057329968215338"
     },
     "user_tz": -120
    },
    "id": "QQQmtxidnisG",
    "outputId": "55a87af3-9dd6-44be-dd51-78a164e29227"
   },
   "outputs": [
    {
     "data": {
      "text/plain": [
       "47515    Magnolia_Salicifolia\n",
       "47516             Acer_Pictum\n",
       "47517      Alnus_Maximowiczii\n",
       "47518           Quercus_Rubra\n",
       "47519          Quercus_Afares\n",
       "Name: species, dtype: object"
      ]
     },
     "execution_count": 148,
     "metadata": {},
     "output_type": "execute_result"
    }
   ],
   "source": [
    "labels = pd.concat((train.species for _ in range(48))).reset_index(drop=True)\n",
    "labels.tail()"
   ]
  },
  {
   "cell_type": "markdown",
   "metadata": {},
   "source": [
    "---\n",
    "### 1.4 - Data Visualization\n",
    "Let's now visualize what we got. Seven random leaves are ploted each with their three next rotations."
   ]
  },
  {
   "cell_type": "code",
   "execution_count": 149,
   "metadata": {
    "colab": {
     "autoexec": {
      "startup": false,
      "wait_interval": 0
     },
     "base_uri": "https://localhost:8080/",
     "height": 487
    },
    "colab_type": "code",
    "executionInfo": {
     "elapsed": 2598,
     "status": "ok",
     "timestamp": 1527752752980,
     "user": {
      "displayName": "Desiré De Waele",
      "photoUrl": "//lh6.googleusercontent.com/-WZlKZyTW8cA/AAAAAAAAAAI/AAAAAAAAF3s/6MlUlB9OrDo/s50-c-k-no/photo.jpg",
      "userId": "114986057329968215338"
     },
     "user_tz": -120
    },
    "id": "JJcIGODJZgs1",
    "outputId": "1b200e9c-50ef-4bbc-f698-7eb17523317c"
   },
   "outputs": [
    {
     "data": {
      "image/png": "[encoded data removed]",
      "text/plain": [
       "<matplotlib.figure.Figure at 0x1830f64b70>"
      ]
     },
     "metadata": {},
     "output_type": "display_data"
    }
   ],
   "source": [
    "fig, ax = plt.subplots(3, 7, figsize = (20, 8))\n",
    "for j in range(7):\n",
    "    x = np.random.randint(0, len(data))\n",
    "    for i in range(3):\n",
    "        index = x+(i*len(data))\n",
    "        ax[i,j].matshow(tensor[index,:,:], cmap=cm.gray_r)\n",
    "        ax[i,j].set_title(\"{}\".format(labels[index]))\n",
    "        ax[i,j].axis('off')\n",
    "plt.show()"
   ]
  },
  {
   "cell_type": "markdown",
   "metadata": {},
   "source": [
    "---\n",
    "### 1.5 - Data Formatting\n",
    "Some final steps are needed to feed them in a convolution network:\n",
    "* Adding a channel dimension for the images, even though our images are black and white. Keras needs this.\n",
    "* One-hot encode our labels to arrays of length 99.\n",
    "* Cut aside a validation set to optimalize our hyperparameters."
   ]
  },
  {
   "cell_type": "code",
   "execution_count": 150,
   "metadata": {
    "colab": {
     "autoexec": {
      "startup": false,
      "wait_interval": 0
     },
     "base_uri": "https://localhost:8080/",
     "height": 51
    },
    "colab_type": "code",
    "executionInfo": {
     "elapsed": 807,
     "status": "ok",
     "timestamp": 1527752760805,
     "user": {
      "displayName": "Desiré De Waele",
      "photoUrl": "//lh6.googleusercontent.com/-WZlKZyTW8cA/AAAAAAAAAAI/AAAAAAAAF3s/6MlUlB9OrDo/s50-c-k-no/photo.jpg",
      "userId": "114986057329968215338"
     },
     "user_tz": -120
    },
    "id": "ntN1vYPGZgs5",
    "outputId": "d48e1c9a-076e-4609-e0cf-24bdcb1b285f"
   },
   "outputs": [
    {
     "name": "stdout",
     "output_type": "stream",
     "text": [
      "Data set: (47520, 128, 128) \n",
      "Labels: (47520,) \n"
     ]
    }
   ],
   "source": [
    "print('Data set: {} '.format(tensor.shape))\n",
    "print('Labels: {} '.format(labels.shape))"
   ]
  },
  {
   "cell_type": "code",
   "execution_count": 190,
   "metadata": {
    "colab": {
     "autoexec": {
      "startup": false,
      "wait_interval": 0
     }
    },
    "colab_type": "code",
    "id": "FU57ufmFZgs8"
   },
   "outputs": [],
   "source": [
    "tensor = np.reshape(tensor, tensor.shape + (1,))\n",
    "target = pd.get_dummies(pd.DataFrame(labels)).values\n",
    "targetLabels = [x[8:] for x in pd.get_dummies(pd.DataFrame(labels)).columns.values]"
   ]
  },
  {
   "cell_type": "code",
   "execution_count": 152,
   "metadata": {
    "colab": {
     "autoexec": {
      "startup": false,
      "wait_interval": 0
     },
     "base_uri": "https://localhost:8080/",
     "height": 51
    },
    "colab_type": "code",
    "executionInfo": {
     "elapsed": 484,
     "status": "ok",
     "timestamp": 1527752762397,
     "user": {
      "displayName": "Desiré De Waele",
      "photoUrl": "//lh6.googleusercontent.com/-WZlKZyTW8cA/AAAAAAAAAAI/AAAAAAAAF3s/6MlUlB9OrDo/s50-c-k-no/photo.jpg",
      "userId": "114986057329968215338"
     },
     "user_tz": -120
    },
    "id": "cjWQLaxgZgs-",
    "outputId": "f75d6721-2651-4afb-c79c-aa1889e2f67c"
   },
   "outputs": [
    {
     "name": "stdout",
     "output_type": "stream",
     "text": [
      "Tensor Shape: (47520, 128, 128, 1) \n",
      "Target Shape: (47520, 99) \n"
     ]
    }
   ],
   "source": [
    "print('Tensor Shape: {} '.format(tensor.shape))\n",
    "print('Target Shape: {} '.format(target.shape))"
   ]
  },
  {
   "cell_type": "code",
   "execution_count": 153,
   "metadata": {
    "colab": {
     "autoexec": {
      "startup": false,
      "wait_interval": 0
     }
    },
    "colab_type": "code",
    "id": "9YfLemqoZgtD"
   },
   "outputs": [],
   "source": [
    "from sklearn.model_selection import train_test_split\n",
    "trainX, validX, trainY, validY = train_test_split(tensor, target, test_size=0.1, random_state=100)"
   ]
  },
  {
   "cell_type": "code",
   "execution_count": 154,
   "metadata": {
    "colab": {
     "autoexec": {
      "startup": false,
      "wait_interval": 0
     },
     "base_uri": "https://localhost:8080/",
     "height": 51
    },
    "colab_type": "code",
    "executionInfo": {
     "elapsed": 439,
     "status": "ok",
     "timestamp": 1527752764559,
     "user": {
      "displayName": "Desiré De Waele",
      "photoUrl": "//lh6.googleusercontent.com/-WZlKZyTW8cA/AAAAAAAAAAI/AAAAAAAAF3s/6MlUlB9OrDo/s50-c-k-no/photo.jpg",
      "userId": "114986057329968215338"
     },
     "user_tz": -120
    },
    "id": "yaqRLRx8ZgtG",
    "outputId": "c7f9bd4f-9cd4-4f76-9052-c881070f7888"
   },
   "outputs": [
    {
     "name": "stdout",
     "output_type": "stream",
     "text": [
      "Training set:   (42768, 128, 128, 1) (42768, 99)\n",
      "Validation set: (4752, 128, 128, 1) (4752, 99)\n"
     ]
    }
   ],
   "source": [
    "print('Training set:   {} {}'.format(trainX.shape, trainY.shape))\n",
    "print('Validation set: {} {}'.format(validX.shape, validY.shape))"
   ]
  },
  {
   "cell_type": "markdown",
   "metadata": {
    "colab_type": "text",
    "id": "2QWnZUaPZgtK"
   },
   "source": [
    "---\n",
    "## 2. - Convolutional Neural Network\n",
    "After some iterations, these hyperparameters look like they work well."
   ]
  },
  {
   "cell_type": "code",
   "execution_count": 32,
   "metadata": {
    "cellView": "code",
    "colab": {
     "autoexec": {
      "startup": false,
      "wait_interval": 0
     }
    },
    "colab_type": "code",
    "id": "y1MsN8E3ZgtK"
   },
   "outputs": [],
   "source": [
    "BATCHSIZE = 1024\n",
    "NUMFILTERS = 16\n",
    "FILTER = 3\n",
    "EPOCHS = 50\n",
    "CHANNELS = 1"
   ]
  },
  {
   "cell_type": "markdown",
   "metadata": {},
   "source": [
    "---\n",
    "### 2.1 - Architecture\n",
    "We choose an architecture with three onculutional layers. Each one is shrinked down by max-pooling. Howeve, the depth increases. Next, we add two dense layers, accompanied by dropouts and activations."
   ]
  },
  {
   "cell_type": "code",
   "execution_count": 33,
   "metadata": {
    "colab": {
     "autoexec": {
      "startup": false,
      "wait_interval": 0
     }
    },
    "colab_type": "code",
    "id": "5Rg1anZQ2YxU"
   },
   "outputs": [],
   "source": [
    "model = Sequential([\n",
    "    Conv2D(NUMFILTERS, (FILTER, FILTER), padding='same', activation='tanh', input_shape=(SIZE, SIZE, CHANNELS)),\n",
    "    MaxPooling2D(pool_size=(2, 2), strides=(2, 2)),\n",
    "\n",
    "    Conv2D(NUMFILTERS*2, (FILTER, FILTER), padding='same', activation='tanh'),\n",
    "    MaxPooling2D(pool_size=(2, 2), strides=(2, 2)),\n",
    "\n",
    "    Conv2D(NUMFILTERS*3, (FILTER, FILTER), padding='same', activation='tanh'),\n",
    "    MaxPooling2D(pool_size=(2, 2), strides=(2, 2)),\n",
    "\n",
    "    Flatten(),\n",
    "    Dropout(0.5),\n",
    "    Dense(LABELS*4, activation='tanh'),\n",
    "    Dropout(0.5),\n",
    "    Dense(LABELS, activation='softmax'),\n",
    "])\n",
    "\n",
    "model.compile(optimizer='adam', loss='categorical_crossentropy', metrics=['accuracy'])"
   ]
  },
  {
   "cell_type": "markdown",
   "metadata": {},
   "source": [
    "This great Keras feature sumarizes our model."
   ]
  },
  {
   "cell_type": "code",
   "execution_count": 34,
   "metadata": {
    "colab": {
     "autoexec": {
      "startup": false,
      "wait_interval": 0
     },
     "base_uri": "https://localhost:8080/",
     "height": 510
    },
    "colab_type": "code",
    "executionInfo": {
     "elapsed": 531,
     "status": "ok",
     "timestamp": 1527752827587,
     "user": {
      "displayName": "Desiré De Waele",
      "photoUrl": "//lh6.googleusercontent.com/-WZlKZyTW8cA/AAAAAAAAAAI/AAAAAAAAF3s/6MlUlB9OrDo/s50-c-k-no/photo.jpg",
      "userId": "114986057329968215338"
     },
     "user_tz": -120
    },
    "id": "vQ0F_ik12YxW",
    "outputId": "f7c2c7a9-4c65-4a47-b5e1-2d1a007673b9"
   },
   "outputs": [
    {
     "name": "stdout",
     "output_type": "stream",
     "text": [
      "_________________________________________________________________\n",
      "Layer (type)                 Output Shape              Param #   \n",
      "=================================================================\n",
      "conv2d_1 (Conv2D)            (None, 128, 128, 16)      160       \n",
      "_________________________________________________________________\n",
      "max_pooling2d_1 (MaxPooling2 (None, 64, 64, 16)        0         \n",
      "_________________________________________________________________\n",
      "conv2d_2 (Conv2D)            (None, 64, 64, 32)        4640      \n",
      "_________________________________________________________________\n",
      "max_pooling2d_2 (MaxPooling2 (None, 32, 32, 32)        0         \n",
      "_________________________________________________________________\n",
      "conv2d_3 (Conv2D)            (None, 32, 32, 48)        13872     \n",
      "_________________________________________________________________\n",
      "max_pooling2d_3 (MaxPooling2 (None, 16, 16, 48)        0         \n",
      "_________________________________________________________________\n",
      "flatten_1 (Flatten)          (None, 12288)             0         \n",
      "_________________________________________________________________\n",
      "dropout_6 (Dropout)          (None, 12288)             0         \n",
      "_________________________________________________________________\n",
      "dense_7 (Dense)              (None, 396)               4866444   \n",
      "_________________________________________________________________\n",
      "dropout_7 (Dropout)          (None, 396)               0         \n",
      "_________________________________________________________________\n",
      "dense_8 (Dense)              (None, 99)                39303     \n",
      "=================================================================\n",
      "Total params: 4,924,419\n",
      "Trainable params: 4,924,419\n",
      "Non-trainable params: 0\n",
      "_________________________________________________________________\n"
     ]
    }
   ],
   "source": [
    "model.summary()"
   ]
  },
  {
   "cell_type": "markdown",
   "metadata": {},
   "source": [
    "---\n",
    "### 2.2 - Model Training\n",
    "I trained this model on [Colab](https://colab.research.google.com)."
   ]
  },
  {
   "cell_type": "code",
   "execution_count": 23,
   "metadata": {
    "colab": {
     "autoexec": {
      "startup": false,
      "wait_interval": 0
     },
     "base_uri": "https://localhost:8080/",
     "height": 1754
    },
    "colab_type": "code",
    "executionInfo": {
     "elapsed": 1233629,
     "status": "ok",
     "timestamp": 1527754066287,
     "user": {
      "displayName": "Desiré De Waele",
      "photoUrl": "//lh6.googleusercontent.com/-WZlKZyTW8cA/AAAAAAAAAAI/AAAAAAAAF3s/6MlUlB9OrDo/s50-c-k-no/photo.jpg",
      "userId": "114986057329968215338"
     },
     "user_tz": -120
    },
    "id": "P9lTVF012YxZ",
    "outputId": "7bcfb2ce-cba6-445a-98a7-a599376886c4",
    "scrolled": false
   },
   "outputs": [
    {
     "name": "stdout",
     "output_type": "stream",
     "text": [
      "Train on 42768 samples, validate on 4752 samples\n",
      "Epoch 1/50\n",
      "42768/42768 [==============================] - 31s 723us/step - loss: 3.2987 - acc: 0.1573 - val_loss: 2.1387 - val_acc: 0.4181\n",
      "Epoch 2/50\n",
      "42768/42768 [==============================] - 24s 573us/step - loss: 2.2073 - acc: 0.3517 - val_loss: 1.6255 - val_acc: 0.5347\n",
      "Epoch 3/50\n",
      "42768/42768 [==============================] - 25s 573us/step - loss: 1.7547 - acc: 0.4645 - val_loss: 1.3218 - val_acc: 0.6080\n",
      "Epoch 4/50\n",
      "42768/42768 [==============================] - 25s 574us/step - loss: 1.4626 - acc: 0.5391 - val_loss: 1.1074 - val_acc: 0.6759\n",
      "Epoch 5/50\n",
      "42768/42768 [==============================] - 25s 574us/step - loss: 1.2418 - acc: 0.6052 - val_loss: 0.9354 - val_acc: 0.7229\n",
      "Epoch 6/50\n",
      "10240/42768 [======>.......................] - ETA: 17s - loss: 1.1072 - acc: 0.640642768/42768 [==============================] - 25s 574us/step - loss: 1.0828 - acc: 0.6492 - val_loss: 0.8675 - val_acc: 0.7330\n",
      "Epoch 7/50\n",
      "42768/42768 [==============================] - 25s 573us/step - loss: 0.9605 - acc: 0.6906 - val_loss: 0.7341 - val_acc: 0.7736\n",
      "Epoch 8/50\n",
      "42768/42768 [==============================] - 25s 573us/step - loss: 0.8485 - acc: 0.7246 - val_loss: 0.6391 - val_acc: 0.8117\n",
      "Epoch 9/50\n",
      "42768/42768 [==============================] - 25s 573us/step - loss: 0.7678 - acc: 0.7490 - val_loss: 0.5818 - val_acc: 0.8249\n",
      "Epoch 10/50\n",
      "42768/42768 [==============================] - 25s 573us/step - loss: 0.6950 - acc: 0.7727 - val_loss: 0.5200 - val_acc: 0.8470\n",
      "Epoch 11/50\n",
      "28672/42768 [===================>..........] - ETA: 7s - loss: 0.6430 - acc: 0.790842768/42768 [==============================] - 25s 573us/step - loss: 0.6345 - acc: 0.7926 - val_loss: 0.4852 - val_acc: 0.8502\n",
      "Epoch 12/50\n",
      "42768/42768 [==============================] - 25s 573us/step - loss: 0.5780 - acc: 0.8123 - val_loss: 0.4508 - val_acc: 0.8641\n",
      "Epoch 13/50\n",
      "42768/42768 [==============================] - 25s 574us/step - loss: 0.5376 - acc: 0.8243 - val_loss: 0.4102 - val_acc: 0.8773\n",
      "Epoch 14/50\n",
      "42768/42768 [==============================] - 25s 573us/step - loss: 0.5116 - acc: 0.8320 - val_loss: 0.3945 - val_acc: 0.8758\n",
      "Epoch 15/50\n",
      "42768/42768 [==============================] - 25s 574us/step - loss: 0.4714 - acc: 0.8453 - val_loss: 0.3720 - val_acc: 0.8811\n",
      "Epoch 16/50\n",
      "30720/42768 [====================>.........] - ETA: 6s - loss: 0.4448 - acc: 0.855742768/42768 [==============================] - 25s 574us/step - loss: 0.4449 - acc: 0.8558 - val_loss: 0.3537 - val_acc: 0.8908\n",
      "Epoch 17/50\n",
      "42768/42768 [==============================] - 25s 573us/step - loss: 0.4183 - acc: 0.8628 - val_loss: 0.3245 - val_acc: 0.8948\n",
      "Epoch 18/50\n",
      "42768/42768 [==============================] - 25s 574us/step - loss: 0.3973 - acc: 0.8692 - val_loss: 0.3049 - val_acc: 0.9043\n",
      "Epoch 19/50\n",
      "42768/42768 [==============================] - 25s 573us/step - loss: 0.3773 - acc: 0.8768 - val_loss: 0.2993 - val_acc: 0.9045\n",
      "Epoch 20/50\n",
      "42768/42768 [==============================] - 25s 574us/step - loss: 0.3615 - acc: 0.8795 - val_loss: 0.2831 - val_acc: 0.9118\n",
      "Epoch 21/50\n",
      "30720/42768 [====================>.........] - ETA: 6s - loss: 0.3391 - acc: 0.891442768/42768 [==============================] - 25s 574us/step - loss: 0.3420 - acc: 0.8894 - val_loss: 0.2695 - val_acc: 0.9173\n",
      "Epoch 22/50\n",
      "42768/42768 [==============================] - 25s 573us/step - loss: 0.3369 - acc: 0.8899 - val_loss: 0.2711 - val_acc: 0.9156\n",
      "Epoch 23/50\n",
      "42768/42768 [==============================] - 25s 574us/step - loss: 0.3177 - acc: 0.8960 - val_loss: 0.2502 - val_acc: 0.9209\n",
      "Epoch 24/50\n",
      "42768/42768 [==============================] - 25s 574us/step - loss: 0.3073 - acc: 0.8989 - val_loss: 0.2455 - val_acc: 0.9230\n",
      "Epoch 25/50\n",
      "42768/42768 [==============================] - 25s 573us/step - loss: 0.2916 - acc: 0.9046 - val_loss: 0.2495 - val_acc: 0.9179\n",
      "Epoch 26/50\n",
      "30720/42768 [====================>.........] - ETA: 6s - loss: 0.2798 - acc: 0.907642768/42768 [==============================] - 25s 574us/step - loss: 0.2813 - acc: 0.9068 - val_loss: 0.2410 - val_acc: 0.9215\n",
      "Epoch 27/50\n",
      "42768/42768 [==============================] - 25s 574us/step - loss: 0.2667 - acc: 0.9127 - val_loss: 0.2271 - val_acc: 0.9306\n",
      "Epoch 28/50\n",
      "42768/42768 [==============================] - 25s 574us/step - loss: 0.2553 - acc: 0.9165 - val_loss: 0.2293 - val_acc: 0.9238\n",
      "Epoch 29/50\n",
      "42768/42768 [==============================] - 25s 574us/step - loss: 0.2491 - acc: 0.9188 - val_loss: 0.2194 - val_acc: 0.9268\n",
      "Epoch 30/50\n",
      "42768/42768 [==============================] - 25s 574us/step - loss: 0.2446 - acc: 0.9196 - val_loss: 0.2134 - val_acc: 0.9318\n",
      "Epoch 31/50\n",
      "30720/42768 [====================>.........] - ETA: 6s - loss: 0.2404 - acc: 0.920642768/42768 [==============================] - 25s 573us/step - loss: 0.2413 - acc: 0.9205 - val_loss: 0.2209 - val_acc: 0.9268\n",
      "Epoch 32/50\n",
      "42768/42768 [==============================] - 25s 573us/step - loss: 0.2286 - acc: 0.9248 - val_loss: 0.2222 - val_acc: 0.9287\n",
      "Epoch 33/50\n",
      "42768/42768 [==============================] - 24s 573us/step - loss: 0.2181 - acc: 0.9290 - val_loss: 0.2203 - val_acc: 0.9274\n",
      "Epoch 34/50\n",
      "42768/42768 [==============================] - 25s 574us/step - loss: 0.2160 - acc: 0.9287 - val_loss: 0.1985 - val_acc: 0.9375\n",
      "Epoch 35/50\n",
      "42768/42768 [==============================] - 24s 573us/step - loss: 0.2039 - acc: 0.9335 - val_loss: 0.1994 - val_acc: 0.9301\n",
      "Epoch 36/50\n",
      "30720/42768 [====================>.........] - ETA: 6s - loss: 0.2003 - acc: 0.935942768/42768 [==============================] - 25s 574us/step - loss: 0.2022 - acc: 0.9352 - val_loss: 0.1901 - val_acc: 0.9396\n",
      "Epoch 37/50\n",
      "42768/42768 [==============================] - 24s 573us/step - loss: 0.1981 - acc: 0.9357 - val_loss: 0.2043 - val_acc: 0.9299\n",
      "Epoch 38/50\n",
      "42768/42768 [==============================] - 25s 573us/step - loss: 0.1968 - acc: 0.9347 - val_loss: 0.2137 - val_acc: 0.9310\n",
      "Epoch 39/50\n",
      "42768/42768 [==============================] - 24s 573us/step - loss: 0.1968 - acc: 0.9351 - val_loss: 0.1994 - val_acc: 0.9346\n",
      "Epoch 40/50\n",
      "42768/42768 [==============================] - 24s 572us/step - loss: 0.1959 - acc: 0.9353 - val_loss: 0.2004 - val_acc: 0.9322\n",
      "Epoch 41/50\n",
      "30720/42768 [====================>.........] - ETA: 6s - loss: 0.1929 - acc: 0.936742768/42768 [==============================] - 24s 573us/step - loss: 0.1924 - acc: 0.9367 - val_loss: 0.1898 - val_acc: 0.9352\n",
      "Epoch 42/50\n",
      "42768/42768 [==============================] - 25s 573us/step - loss: 0.1785 - acc: 0.9410 - val_loss: 0.1976 - val_acc: 0.9324\n",
      "Epoch 43/50\n",
      "42768/42768 [==============================] - 24s 572us/step - loss: 0.1786 - acc: 0.9412 - val_loss: 0.1882 - val_acc: 0.9390\n",
      "Epoch 44/50\n",
      "42768/42768 [==============================] - 24s 572us/step - loss: 0.1700 - acc: 0.9445 - val_loss: 0.1813 - val_acc: 0.9400\n",
      "Epoch 45/50\n",
      "42768/42768 [==============================] - 25s 573us/step - loss: 0.1700 - acc: 0.9429 - val_loss: 0.1860 - val_acc: 0.9352\n",
      "Epoch 46/50\n",
      "30720/42768 [====================>.........] - ETA: 6s - loss: 0.1566 - acc: 0.948042768/42768 [==============================] - 24s 572us/step - loss: 0.1585 - acc: 0.9472 - val_loss: 0.1799 - val_acc: 0.9394\n",
      "Epoch 47/50\n",
      "42768/42768 [==============================] - 24s 572us/step - loss: 0.1588 - acc: 0.9479 - val_loss: 0.1809 - val_acc: 0.9392\n",
      "Epoch 48/50\n",
      "42768/42768 [==============================] - 25s 573us/step - loss: 0.1550 - acc: 0.9490 - val_loss: 0.1840 - val_acc: 0.9339\n",
      "Epoch 49/50\n",
      "42768/42768 [==============================] - 24s 572us/step - loss: 0.1577 - acc: 0.9473 - val_loss: 0.1864 - val_acc: 0.9396\n",
      "Epoch 50/50\n",
      "42768/42768 [==============================] - 25s 573us/step - loss: 0.1549 - acc: 0.9479 - val_loss: 0.1694 - val_acc: 0.9428\n"
     ]
    }
   ],
   "source": [
    "history = convolutionalModel.fit(trainX, trainY, BATCHSIZE, EPOCHS, validation_data=(validX, validY))"
   ]
  },
  {
   "cell_type": "markdown",
   "metadata": {},
   "source": [
    "---\n",
    "### 2.3 Model Evaluation\n",
    "Let's plot the accuracy and loss on both the training and validation set, during training time."
   ]
  },
  {
   "cell_type": "code",
   "execution_count": 26,
   "metadata": {
    "colab": {
     "autoexec": {
      "startup": false,
      "wait_interval": 0
     },
     "base_uri": "https://localhost:8080/",
     "height": 310
    },
    "colab_type": "code",
    "executionInfo": {
     "elapsed": 1303,
     "status": "ok",
     "timestamp": 1527755165735,
     "user": {
      "displayName": "Desiré De Waele",
      "photoUrl": "//lh6.googleusercontent.com/-WZlKZyTW8cA/AAAAAAAAAAI/AAAAAAAAF3s/6MlUlB9OrDo/s50-c-k-no/photo.jpg",
      "userId": "114986057329968215338"
     },
     "user_tz": -120
    },
    "id": "F2FcXDPlnisj",
    "outputId": "90aef0b1-84b1-4849-8ce0-3e989bf0ef78"
   },
   "outputs": [
    {
     "data": {
      "image/png": "[encoded data removed]",
      "text/plain": [
       "<matplotlib.figure.Figure at 0x7fa17a244550>"
      ]
     },
     "metadata": {
      "tags": []
     },
     "output_type": "display_data"
    }
   ],
   "source": [
    "plt.style.use('seaborn-white')\n",
    "\n",
    "fig = plt.figure(figsize=(17, 10)); ax1 = fig.add_subplot(221); ax2 = fig.add_subplot(222)\n",
    "positions = np.arange(1, EPOCHS+1)\n",
    "xticks = np.arange(0, EPOCHS+1, 2)\n",
    "ta, tl = history.history['acc'], history.history['loss']\n",
    "va, vl = history.history['val_acc'], history.history['val_loss']\n",
    "\n",
    "ax1.plot(positions, ta,\".-\", color='#2A6EA6', label=\"Training: {0:.2f}%\".format(ta[-1]))\n",
    "ax1.plot(positions, va,\".-\", color='#FFA933', label=\"Validation: {0:.2f}%\".format(va[-1]))\n",
    "ax1.grid(True); ax1.legend(); ax1.set_title(\"Accuracy per epoch\");\n",
    "ax1.set_xticks(xticks)\n",
    "\n",
    "ax2.plot(positions, tl, \".-\", color='#2A6EA6', label=\"Training: {0:.2f}\".format(tl[-1]))\n",
    "ax2.plot(positions, vl,\".-\", color='#FFA933', label=\"Validation: {0:.2f}\".format(vl[-1]))\n",
    "ax2.grid(True); ax2.legend(); ax2.set_title(\"Loss per epoch\")\n",
    "ax2.set_xticks(xticks)\n",
    "\n",
    "plt.show()"
   ]
  },
  {
   "cell_type": "markdown",
   "metadata": {
    "colab_type": "text",
    "id": "c0Orqj790VzF"
   },
   "source": [
    "At first sight, it's curious that the validation metrics perform better. However:\n",
    "* Regularization is turned off at testing time.\n",
    "* Accuracy and loss are averaged over training time. At testing time, only the model state at the end is used.\n",
    "\n",
    "Our final metrics on both training and validation set are the following."
   ]
  },
  {
   "cell_type": "code",
   "execution_count": 38,
   "metadata": {
    "colab": {
     "autoexec": {
      "startup": false,
      "wait_interval": 0
     },
     "base_uri": "https://localhost:8080/",
     "height": 51
    },
    "colab_type": "code",
    "executionInfo": {
     "elapsed": 14326,
     "status": "ok",
     "timestamp": 1527755232997,
     "user": {
      "displayName": "Desiré De Waele",
      "photoUrl": "//lh6.googleusercontent.com/-WZlKZyTW8cA/AAAAAAAAAAI/AAAAAAAAF3s/6MlUlB9OrDo/s50-c-k-no/photo.jpg",
      "userId": "114986057329968215338"
     },
     "user_tz": -120
    },
    "id": "A-QQYAnb39WE",
    "outputId": "37e287d3-f6bc-4324-a5dd-5cc53f5b667f"
   },
   "outputs": [
    {
     "name": "stdout",
     "output_type": "stream",
     "text": [
      "42768/42768 [==============================] - 107s 3ms/step\n"
     ]
    },
    {
     "data": {
      "text/plain": [
       "[0.009674549791693627, 0.999883090160868]"
      ]
     },
     "execution_count": 38,
     "metadata": {},
     "output_type": "execute_result"
    }
   ],
   "source": [
    "model.evaluate(trainX, trainY)"
   ]
  },
  {
   "cell_type": "code",
   "execution_count": 39,
   "metadata": {
    "colab": {
     "autoexec": {
      "startup": false,
      "wait_interval": 0
     },
     "base_uri": "https://localhost:8080/",
     "height": 51
    },
    "colab_type": "code",
    "executionInfo": {
     "elapsed": 2031,
     "status": "ok",
     "timestamp": 1527755241407,
     "user": {
      "displayName": "Desiré De Waele",
      "photoUrl": "//lh6.googleusercontent.com/-WZlKZyTW8cA/AAAAAAAAAAI/AAAAAAAAF3s/6MlUlB9OrDo/s50-c-k-no/photo.jpg",
      "userId": "114986057329968215338"
     },
     "user_tz": -120
    },
    "id": "P2nMQ3p34Zkq",
    "outputId": "4d1d56ed-7e11-41b8-ee60-1ee88b5a0b8e"
   },
   "outputs": [
    {
     "name": "stdout",
     "output_type": "stream",
     "text": [
      "4752/4752 [==============================] - 13s 3ms/step\n"
     ]
    },
    {
     "data": {
      "text/plain": [
       "[0.1694076214650464, 0.9427609427609428]"
      ]
     },
     "execution_count": 39,
     "metadata": {},
     "output_type": "execute_result"
    }
   ],
   "source": [
    "model.evaluate(validX, validY)"
   ]
  },
  {
   "cell_type": "markdown",
   "metadata": {},
   "source": [
    "---\n",
    "### 2.4 - Model Predictions\n",
    "Lets use the model now to retrieve both the probabilities and the predicted classes on the validation set."
   ]
  },
  {
   "cell_type": "code",
   "execution_count": 155,
   "metadata": {},
   "outputs": [],
   "source": [
    "probabilities = model.predict(validX)\n",
    "classes = np.argmax(probabilities, axis=1)"
   ]
  },
  {
   "cell_type": "markdown",
   "metadata": {},
   "source": [
    "Now we can print some images with their true and predicted labels, as well as the probability distribution over the 99 classes."
   ]
  },
  {
   "cell_type": "code",
   "execution_count": 192,
   "metadata": {},
   "outputs": [
    {
     "data": {
      "image/png": "[encoded data removed]",
      "text/plain": [
       "<matplotlib.figure.Figure at 0x182970e710>"
      ]
     },
     "metadata": {},
     "output_type": "display_data"
    },
    {
     "data": {
      "image/png": "[encoded data removed]",
      "text/plain": [
       "<matplotlib.figure.Figure at 0x182970efd0>"
      ]
     },
     "metadata": {},
     "output_type": "display_data"
    }
   ],
   "source": [
    "fig1, ax1 = plt.subplots(1, 7, figsize = (20, 2))\n",
    "fig2, ax2 = plt.subplots(1, 7, figsize = (20, 2))\n",
    "for t in range(7):\n",
    "    x = np.random.randint(len(validY))\n",
    "    ax1[t].matshow(validX.reshape(-1, SIZE, SIZE)[x], cmap=cm.gray_r)\n",
    "    ax1[t].set_title(\"True Label:\\n{}\".format(targetLabels[np.argmax(validY, axis=1)[x]]))\n",
    "\n",
    "    ax1[t].get_yaxis().set_visible(False); ax1[t].get_xaxis().set_visible(False)\n",
    "    ax2[t].plot(probabilities[x], lw=2)\n",
    "    ax2[t].set_title(\"Predicted Label:\\n{}\".format(targetLabels[classes[x]]))\n",
    "    ax2[t].get_yaxis().set_visible(False); ax2[t].set_ylim([0, 1]); ax2[t].grid(True)\n",
    "plt.show()"
   ]
  },
  {
   "cell_type": "markdown",
   "metadata": {},
   "source": [
    "More interesting are the wrongly predicted classes. We can see the probabilites for those being more uncertain as well."
   ]
  },
  {
   "cell_type": "code",
   "execution_count": 193,
   "metadata": {},
   "outputs": [],
   "source": [
    "falseMask = np.argmax(validY, axis=1) != classes\n",
    "falseImages = validX[falseMask]\n",
    "falseLabels = validY[falseMask]\n",
    "falseProbabilities = probabilities[falseMask]\n",
    "falseClasses = classes[falseMask]"
   ]
  },
  {
   "cell_type": "code",
   "execution_count": 194,
   "metadata": {},
   "outputs": [
    {
     "data": {
      "image/png": "[encoded data removed]",
      "text/plain": [
       "<matplotlib.figure.Figure at 0x182c1239e8>"
      ]
     },
     "metadata": {},
     "output_type": "display_data"
    },
    {
     "data": {
      "image/png": "[encoded data removed]",
      "text/plain": [
       "<matplotlib.figure.Figure at 0x182c123e10>"
      ]
     },
     "metadata": {},
     "output_type": "display_data"
    }
   ],
   "source": [
    "fig1, ax1 = plt.subplots(1, 7, figsize = (20, 2))\n",
    "fig2, ax2 = plt.subplots(1, 7, figsize = (20, 2))\n",
    "for t in range(7):\n",
    "    x = np.random.randint(len(falseLabels))\n",
    "    ax1[t].matshow(falseImages.reshape(-1, SIZE, SIZE)[x], cmap=cm.gray_r)\n",
    "    ax1[t].set_title(\"True Label:\\n{}\".format(targetLabels[np.argmax(falseLabels, axis=1)[x]]))\n",
    "\n",
    "    ax1[t].get_yaxis().set_visible(False); ax1[t].get_xaxis().set_visible(False)\n",
    "    ax2[t].plot(falseProbabilities[x], lw=2)\n",
    "    ax2[t].set_title(\"Predicted Label:\\n{}\".format(targetLabels[falseClasses[x]]))\n",
    "    ax2[t].get_yaxis().set_visible(False); ax2[t].set_ylim([0, 1]); ax2[t].grid(True)\n",
    "plt.show()"
   ]
  }
 ],
 "metadata": {
  "accelerator": "GPU",
  "colab": {
   "collapsed_sections": [],
   "default_view": {},
   "name": "leaves.ipynb",
   "provenance": [
    {
     "file_id": "16eyiMMbagjVikTxFZgSMEGkmdiUzuBUj",
     "timestamp": 1527579790589
    },
    {
     "file_id": "1_7eHzyETzOs0VigbKVKWoTOkUcSrOgyl",
     "timestamp": 1526799832812
    }
   ],
   "toc_visible": true,
   "version": "0.3.2",
   "views": {}
  },
  "kernelspec": {
   "display_name": "Python 3",
   "language": "python",
   "name": "python3"
  },
  "language_info": {
   "codemirror_mode": {
    "name": "ipython",
    "version": 3
   },
   "file_extension": ".py",
   "mimetype": "text/x-python",
   "name": "python",
   "nbconvert_exporter": "python",
   "pygments_lexer": "ipython3",
   "version": "3.6.4"
  }
 },
 "nbformat": 4,
 "nbformat_minor": 1
}
