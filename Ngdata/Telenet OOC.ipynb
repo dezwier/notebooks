{
 "cells": [
  {
   "cell_type": "markdown",
   "metadata": {},
   "source": [
    "# Telenet OOC"
   ]
  },
  {
   "cell_type": "code",
   "execution_count": 102,
   "metadata": {
    "collapsed": true
   },
   "outputs": [],
   "source": [
    "import pandas as pd\n",
    "import numpy as np\n",
    "import matplotlib.pyplot as plt\n",
    "from datetime import datetime\n",
    "from scipy.stats import t, ttest_ind"
   ]
  },
  {
   "cell_type": "markdown",
   "metadata": {
    "collapsed": true
   },
   "source": [
    "# Series\n",
    "### Load Data"
   ]
  },
  {
   "cell_type": "code",
   "execution_count": 195,
   "metadata": {},
   "outputs": [
    {
     "name": "stdout",
     "output_type": "stream",
     "text": [
      "3628 records\n"
     ]
    },
    {
     "data": {
      "text/html": [
       "<div>\n",
       "<table border=\"1\" class=\"dataframe\">\n",
       "  <thead>\n",
       "    <tr style=\"text-align: right;\">\n",
       "      <th></th>\n",
       "      <th>customernumber</th>\n",
       "      <th>timestamp</th>\n",
       "      <th>programcrid</th>\n",
       "      <th>programseriesname</th>\n",
       "      <th>sessionrecordduration</th>\n",
       "      <th>date</th>\n",
       "    </tr>\n",
       "  </thead>\n",
       "  <tbody>\n",
       "    <tr>\n",
       "      <th>2730</th>\n",
       "      <td>1029981160</td>\n",
       "      <td>1492552700000</td>\n",
       "      <td>crid://telenet.be/AA/TN00036628_02_0005-OSNL-SD</td>\n",
       "      <td>Ordinary Lies</td>\n",
       "      <td>37.850000</td>\n",
       "      <td>2017-04-18 23:58:20</td>\n",
       "    </tr>\n",
       "    <tr>\n",
       "      <th>2731</th>\n",
       "      <td>1029981160</td>\n",
       "      <td>1492549286000</td>\n",
       "      <td>crid://telenet.be/AA/TN00036628_02_0004-OSNL-SD</td>\n",
       "      <td>Ordinary Lies</td>\n",
       "      <td>23.116667</td>\n",
       "      <td>2017-04-18 23:01:26</td>\n",
       "    </tr>\n",
       "    <tr>\n",
       "      <th>2347</th>\n",
       "      <td>1029981160</td>\n",
       "      <td>1492381705000</td>\n",
       "      <td>crid://telenet.be/AA/TN00036628_02_0002-OSNL-SD</td>\n",
       "      <td>Ordinary Lies</td>\n",
       "      <td>48.150000</td>\n",
       "      <td>2017-04-17 00:28:25</td>\n",
       "    </tr>\n",
       "    <tr>\n",
       "      <th>2348</th>\n",
       "      <td>1029981160</td>\n",
       "      <td>1492380671000</td>\n",
       "      <td>crid://telenet.be/AA/TN00036628_02_0001-OSNL-SD</td>\n",
       "      <td>Ordinary Lies</td>\n",
       "      <td>17.133333</td>\n",
       "      <td>2017-04-17 00:11:11</td>\n",
       "    </tr>\n",
       "    <tr>\n",
       "      <th>2349</th>\n",
       "      <td>1029981160</td>\n",
       "      <td>1492304022000</td>\n",
       "      <td>crid://telenet.be/AA/TN00036628_02_0001-OSNL-SD</td>\n",
       "      <td>Ordinary Lies</td>\n",
       "      <td>51.616667</td>\n",
       "      <td>2017-04-16 02:53:42</td>\n",
       "    </tr>\n",
       "  </tbody>\n",
       "</table>\n",
       "</div>"
      ],
      "text/plain": [
       "      customernumber      timestamp  \\\n",
       "2730      1029981160  1492552700000   \n",
       "2731      1029981160  1492549286000   \n",
       "2347      1029981160  1492381705000   \n",
       "2348      1029981160  1492380671000   \n",
       "2349      1029981160  1492304022000   \n",
       "\n",
       "                                          programcrid programseriesname  \\\n",
       "2730  crid://telenet.be/AA/TN00036628_02_0005-OSNL-SD     Ordinary Lies   \n",
       "2731  crid://telenet.be/AA/TN00036628_02_0004-OSNL-SD     Ordinary Lies   \n",
       "2347  crid://telenet.be/AA/TN00036628_02_0002-OSNL-SD     Ordinary Lies   \n",
       "2348  crid://telenet.be/AA/TN00036628_02_0001-OSNL-SD     Ordinary Lies   \n",
       "2349  crid://telenet.be/AA/TN00036628_02_0001-OSNL-SD     Ordinary Lies   \n",
       "\n",
       "      sessionrecordduration                date  \n",
       "2730              37.850000 2017-04-18 23:58:20  \n",
       "2731              23.116667 2017-04-18 23:01:26  \n",
       "2347              48.150000 2017-04-17 00:28:25  \n",
       "2348              17.133333 2017-04-17 00:11:11  \n",
       "2349              51.616667 2017-04-16 02:53:42  "
      ]
     },
     "execution_count": 195,
     "metadata": {},
     "output_type": "execute_result"
    }
   ],
   "source": [
    "series = pd.read_excel('query_result (64).xls')\n",
    "series['date'] = series.timestamp.apply(lambda x: datetime.fromtimestamp(x/1000))\n",
    "print len(series), 'records'\n",
    "series.sort_values('customernumber', ascending=False).head()"
   ]
  },
  {
   "cell_type": "code",
   "execution_count": 196,
   "metadata": {},
   "outputs": [
    {
     "name": "stdout",
     "output_type": "stream",
     "text": [
      "201 records\n"
     ]
    },
    {
     "data": {
      "text/html": [
       "<div>\n",
       "<table border=\"1\" class=\"dataframe\">\n",
       "  <thead>\n",
       "    <tr style=\"text-align: right;\">\n",
       "      <th></th>\n",
       "      <th>customernumber</th>\n",
       "      <th>group</th>\n",
       "      <th>series</th>\n",
       "      <th>maildate</th>\n",
       "    </tr>\n",
       "  </thead>\n",
       "  <tbody>\n",
       "    <tr>\n",
       "      <th>196</th>\n",
       "      <td>264411488</td>\n",
       "      <td>test</td>\n",
       "      <td>Ordinary Lies</td>\n",
       "      <td>2017-04-27</td>\n",
       "    </tr>\n",
       "    <tr>\n",
       "      <th>197</th>\n",
       "      <td>592780033</td>\n",
       "      <td>test</td>\n",
       "      <td>Ordinary Lies</td>\n",
       "      <td>2017-04-27</td>\n",
       "    </tr>\n",
       "    <tr>\n",
       "      <th>198</th>\n",
       "      <td>663266802</td>\n",
       "      <td>test</td>\n",
       "      <td>Ordinary Lies</td>\n",
       "      <td>2017-04-27</td>\n",
       "    </tr>\n",
       "    <tr>\n",
       "      <th>199</th>\n",
       "      <td>671609509</td>\n",
       "      <td>test</td>\n",
       "      <td>Ordinary Lies</td>\n",
       "      <td>2017-04-27</td>\n",
       "    </tr>\n",
       "    <tr>\n",
       "      <th>200</th>\n",
       "      <td>683208786</td>\n",
       "      <td>test</td>\n",
       "      <td>Ordinary Lies</td>\n",
       "      <td>2017-04-27</td>\n",
       "    </tr>\n",
       "  </tbody>\n",
       "</table>\n",
       "</div>"
      ],
      "text/plain": [
       "    customernumber group         series   maildate\n",
       "196      264411488  test  Ordinary Lies 2017-04-27\n",
       "197      592780033  test  Ordinary Lies 2017-04-27\n",
       "198      663266802  test  Ordinary Lies 2017-04-27\n",
       "199      671609509  test  Ordinary Lies 2017-04-27\n",
       "200      683208786  test  Ordinary Lies 2017-04-27"
      ]
     },
     "execution_count": 196,
     "metadata": {},
     "output_type": "execute_result"
    }
   ],
   "source": [
    "header = ['customernumber', 'group', 'series', 'maildate']\n",
    "mails = pd.read_excel('eval OOC triggers mail.xlsx', sheetname=2, names=header)\n",
    "print len(mails), 'records'\n",
    "mails.tail()"
   ]
  },
  {
   "cell_type": "code",
   "execution_count": 197,
   "metadata": {
    "scrolled": true
   },
   "outputs": [
    {
     "name": "stdout",
     "output_type": "stream",
     "text": [
      "3611 records\n"
     ]
    },
    {
     "data": {
      "text/html": [
       "<div>\n",
       "<table border=\"1\" class=\"dataframe\">\n",
       "  <thead>\n",
       "    <tr style=\"text-align: right;\">\n",
       "      <th></th>\n",
       "      <th>customernumber</th>\n",
       "      <th>group</th>\n",
       "      <th>series</th>\n",
       "      <th>maildate</th>\n",
       "      <th>date</th>\n",
       "      <th>sessionrecordduration</th>\n",
       "      <th>programcrid</th>\n",
       "    </tr>\n",
       "  </thead>\n",
       "  <tbody>\n",
       "    <tr>\n",
       "      <th>485</th>\n",
       "      <td>723149245</td>\n",
       "      <td>test</td>\n",
       "      <td>Black-ish</td>\n",
       "      <td>2017-04-21</td>\n",
       "      <td>2017-04-30 23:42:58</td>\n",
       "      <td>20.716667</td>\n",
       "      <td>crid://telenet.be/AA/TN00037209_02_0006-OSNL-SD</td>\n",
       "    </tr>\n",
       "    <tr>\n",
       "      <th>483</th>\n",
       "      <td>723149245</td>\n",
       "      <td>test</td>\n",
       "      <td>Black-ish</td>\n",
       "      <td>2017-04-21</td>\n",
       "      <td>2017-04-30 23:22:23</td>\n",
       "      <td>20.500000</td>\n",
       "      <td>crid://telenet.be/AA/TN00037209_02_0005-OSNL-SD</td>\n",
       "    </tr>\n",
       "    <tr>\n",
       "      <th>482</th>\n",
       "      <td>723149245</td>\n",
       "      <td>test</td>\n",
       "      <td>Black-ish</td>\n",
       "      <td>2017-04-21</td>\n",
       "      <td>2017-04-30 23:01:40</td>\n",
       "      <td>20.633333</td>\n",
       "      <td>crid://telenet.be/AA/TN00037209_02_0004-OSNL-SD</td>\n",
       "    </tr>\n",
       "    <tr>\n",
       "      <th>484</th>\n",
       "      <td>723149245</td>\n",
       "      <td>test</td>\n",
       "      <td>Black-ish</td>\n",
       "      <td>2017-04-21</td>\n",
       "      <td>2017-04-30 22:40:51</td>\n",
       "      <td>20.716667</td>\n",
       "      <td>crid://telenet.be/AA/TN00037209_02_0003-OSNL-SD</td>\n",
       "    </tr>\n",
       "    <tr>\n",
       "      <th>493</th>\n",
       "      <td>723149245</td>\n",
       "      <td>test</td>\n",
       "      <td>Black-ish</td>\n",
       "      <td>2017-04-21</td>\n",
       "      <td>2017-04-30 22:26:00</td>\n",
       "      <td>14.566667</td>\n",
       "      <td>crid://telenet.be/AA/TN00037209_02_0002-OSNL-SD</td>\n",
       "    </tr>\n",
       "  </tbody>\n",
       "</table>\n",
       "</div>"
      ],
      "text/plain": [
       "    customernumber group     series   maildate                date  \\\n",
       "485      723149245  test  Black-ish 2017-04-21 2017-04-30 23:42:58   \n",
       "483      723149245  test  Black-ish 2017-04-21 2017-04-30 23:22:23   \n",
       "482      723149245  test  Black-ish 2017-04-21 2017-04-30 23:01:40   \n",
       "484      723149245  test  Black-ish 2017-04-21 2017-04-30 22:40:51   \n",
       "493      723149245  test  Black-ish 2017-04-21 2017-04-30 22:26:00   \n",
       "\n",
       "     sessionrecordduration                                      programcrid  \n",
       "485              20.716667  crid://telenet.be/AA/TN00037209_02_0006-OSNL-SD  \n",
       "483              20.500000  crid://telenet.be/AA/TN00037209_02_0005-OSNL-SD  \n",
       "482              20.633333  crid://telenet.be/AA/TN00037209_02_0004-OSNL-SD  \n",
       "484              20.716667  crid://telenet.be/AA/TN00037209_02_0003-OSNL-SD  \n",
       "493              14.566667  crid://telenet.be/AA/TN00037209_02_0002-OSNL-SD  "
      ]
     },
     "execution_count": 197,
     "metadata": {},
     "output_type": "execute_result"
    }
   ],
   "source": [
    "data = pd.merge(mails, series, on='customernumber')\n",
    "data = data[data.series == data.programseriesname]\n",
    "data = data[['customernumber', 'group', 'series', 'maildate', 'date', 'sessionrecordduration', 'programcrid']]\n",
    "print len(data), 'records'\n",
    "data.sort_values('date', ascending=False).head()"
   ]
  },
  {
   "cell_type": "markdown",
   "metadata": {},
   "source": [
    "### Retrieve viewing counts and minutes watched"
   ]
  },
  {
   "cell_type": "markdown",
   "metadata": {},
   "source": [
    "Viewings splitted pre and post trigger"
   ]
  },
  {
   "cell_type": "code",
   "execution_count": 239,
   "metadata": {
    "collapsed": true
   },
   "outputs": [],
   "source": [
    "pre = data[(data.maildate - data.date) > pd.Timedelta(0)]\n",
    "post = data[(data.maildate - data.date) <= pd.Timedelta(0)]"
   ]
  },
  {
   "cell_type": "markdown",
   "metadata": {},
   "source": [
    "Number of unique serie viewings and total minutes watched grouped per customer"
   ]
  },
  {
   "cell_type": "code",
   "execution_count": 240,
   "metadata": {},
   "outputs": [
    {
     "data": {
      "text/html": [
       "<div>\n",
       "<table border=\"1\" class=\"dataframe\">\n",
       "  <thead>\n",
       "    <tr style=\"text-align: right;\">\n",
       "      <th></th>\n",
       "      <th>maildate</th>\n",
       "      <th>programcrid</th>\n",
       "      <th>group</th>\n",
       "      <th>sessionrecordduration</th>\n",
       "    </tr>\n",
       "    <tr>\n",
       "      <th>customernumber</th>\n",
       "      <th></th>\n",
       "      <th></th>\n",
       "      <th></th>\n",
       "      <th></th>\n",
       "    </tr>\n",
       "  </thead>\n",
       "  <tbody>\n",
       "    <tr>\n",
       "      <th>3070553</th>\n",
       "      <td>2017-04-27</td>\n",
       "      <td>29</td>\n",
       "      <td>test</td>\n",
       "      <td>635.850000</td>\n",
       "    </tr>\n",
       "    <tr>\n",
       "      <th>5748056</th>\n",
       "      <td>2017-04-21</td>\n",
       "      <td>28</td>\n",
       "      <td>test</td>\n",
       "      <td>521.250000</td>\n",
       "    </tr>\n",
       "    <tr>\n",
       "      <th>8823360</th>\n",
       "      <td>2017-04-21</td>\n",
       "      <td>3</td>\n",
       "      <td>test</td>\n",
       "      <td>152.800000</td>\n",
       "    </tr>\n",
       "    <tr>\n",
       "      <th>10664542</th>\n",
       "      <td>2017-04-21</td>\n",
       "      <td>34</td>\n",
       "      <td>test</td>\n",
       "      <td>681.316667</td>\n",
       "    </tr>\n",
       "    <tr>\n",
       "      <th>12230585</th>\n",
       "      <td>2017-04-21</td>\n",
       "      <td>13</td>\n",
       "      <td>test</td>\n",
       "      <td>246.366667</td>\n",
       "    </tr>\n",
       "  </tbody>\n",
       "</table>\n",
       "</div>"
      ],
      "text/plain": [
       "                 maildate  programcrid group  sessionrecordduration\n",
       "customernumber                                                     \n",
       "3070553        2017-04-27           29  test             635.850000\n",
       "5748056        2017-04-21           28  test             521.250000\n",
       "8823360        2017-04-21            3  test             152.800000\n",
       "10664542       2017-04-21           34  test             681.316667\n",
       "12230585       2017-04-21           13  test             246.366667"
      ]
     },
     "execution_count": 240,
     "metadata": {},
     "output_type": "execute_result"
    }
   ],
   "source": [
    "agg = {'group':'min', 'programcrid':'nunique', 'sessionrecordduration':'sum', 'maildate':'min'}\n",
    "pre = pre.groupby(['customernumber']).agg(agg)\n",
    "post = post.groupby(['customernumber']).agg(agg)\n",
    "pre.head()"
   ]
  },
  {
   "cell_type": "markdown",
   "metadata": {},
   "source": [
    "Merge pre and post to include zero values per customer"
   ]
  },
  {
   "cell_type": "code",
   "execution_count": 241,
   "metadata": {
    "scrolled": false
   },
   "outputs": [
    {
     "data": {
      "text/html": [
       "<div>\n",
       "<table border=\"1\" class=\"dataframe\">\n",
       "  <thead>\n",
       "    <tr style=\"text-align: right;\">\n",
       "      <th></th>\n",
       "      <th>maildate</th>\n",
       "      <th>precount</th>\n",
       "      <th>group</th>\n",
       "      <th>preminutes</th>\n",
       "      <th>postcount</th>\n",
       "      <th>postminutes</th>\n",
       "    </tr>\n",
       "    <tr>\n",
       "      <th>customernumber</th>\n",
       "      <th></th>\n",
       "      <th></th>\n",
       "      <th></th>\n",
       "      <th></th>\n",
       "      <th></th>\n",
       "      <th></th>\n",
       "    </tr>\n",
       "  </thead>\n",
       "  <tbody>\n",
       "    <tr>\n",
       "      <th>3070553</th>\n",
       "      <td>2017-04-27</td>\n",
       "      <td>29</td>\n",
       "      <td>test</td>\n",
       "      <td>635.850000</td>\n",
       "      <td>2.0</td>\n",
       "      <td>41.433333</td>\n",
       "    </tr>\n",
       "    <tr>\n",
       "      <th>5748056</th>\n",
       "      <td>2017-04-21</td>\n",
       "      <td>28</td>\n",
       "      <td>test</td>\n",
       "      <td>521.250000</td>\n",
       "      <td>0.0</td>\n",
       "      <td>0.000000</td>\n",
       "    </tr>\n",
       "    <tr>\n",
       "      <th>8823360</th>\n",
       "      <td>2017-04-21</td>\n",
       "      <td>3</td>\n",
       "      <td>test</td>\n",
       "      <td>152.800000</td>\n",
       "      <td>0.0</td>\n",
       "      <td>0.000000</td>\n",
       "    </tr>\n",
       "    <tr>\n",
       "      <th>10664542</th>\n",
       "      <td>2017-04-21</td>\n",
       "      <td>34</td>\n",
       "      <td>test</td>\n",
       "      <td>681.316667</td>\n",
       "      <td>4.0</td>\n",
       "      <td>82.300000</td>\n",
       "    </tr>\n",
       "    <tr>\n",
       "      <th>12230585</th>\n",
       "      <td>2017-04-21</td>\n",
       "      <td>13</td>\n",
       "      <td>test</td>\n",
       "      <td>246.366667</td>\n",
       "      <td>9.0</td>\n",
       "      <td>185.283333</td>\n",
       "    </tr>\n",
       "    <tr>\n",
       "      <th>13607581</th>\n",
       "      <td>2017-04-21</td>\n",
       "      <td>6</td>\n",
       "      <td>control</td>\n",
       "      <td>124.000000</td>\n",
       "      <td>0.0</td>\n",
       "      <td>0.000000</td>\n",
       "    </tr>\n",
       "    <tr>\n",
       "      <th>14710250</th>\n",
       "      <td>2017-04-21</td>\n",
       "      <td>8</td>\n",
       "      <td>test</td>\n",
       "      <td>160.750000</td>\n",
       "      <td>7.0</td>\n",
       "      <td>143.216667</td>\n",
       "    </tr>\n",
       "    <tr>\n",
       "      <th>15678735</th>\n",
       "      <td>2017-04-21</td>\n",
       "      <td>3</td>\n",
       "      <td>test</td>\n",
       "      <td>166.866667</td>\n",
       "      <td>0.0</td>\n",
       "      <td>0.000000</td>\n",
       "    </tr>\n",
       "    <tr>\n",
       "      <th>16645503</th>\n",
       "      <td>2017-04-21</td>\n",
       "      <td>5</td>\n",
       "      <td>test</td>\n",
       "      <td>257.233333</td>\n",
       "      <td>0.0</td>\n",
       "      <td>0.000000</td>\n",
       "    </tr>\n",
       "    <tr>\n",
       "      <th>19657351</th>\n",
       "      <td>2017-04-21</td>\n",
       "      <td>18</td>\n",
       "      <td>control</td>\n",
       "      <td>357.116667</td>\n",
       "      <td>4.0</td>\n",
       "      <td>77.516667</td>\n",
       "    </tr>\n",
       "  </tbody>\n",
       "</table>\n",
       "</div>"
      ],
      "text/plain": [
       "                 maildate  precount    group  preminutes  postcount  \\\n",
       "customernumber                                                        \n",
       "3070553        2017-04-27        29     test  635.850000        2.0   \n",
       "5748056        2017-04-21        28     test  521.250000        0.0   \n",
       "8823360        2017-04-21         3     test  152.800000        0.0   \n",
       "10664542       2017-04-21        34     test  681.316667        4.0   \n",
       "12230585       2017-04-21        13     test  246.366667        9.0   \n",
       "13607581       2017-04-21         6  control  124.000000        0.0   \n",
       "14710250       2017-04-21         8     test  160.750000        7.0   \n",
       "15678735       2017-04-21         3     test  166.866667        0.0   \n",
       "16645503       2017-04-21         5     test  257.233333        0.0   \n",
       "19657351       2017-04-21        18  control  357.116667        4.0   \n",
       "\n",
       "                postminutes  \n",
       "customernumber               \n",
       "3070553           41.433333  \n",
       "5748056            0.000000  \n",
       "8823360            0.000000  \n",
       "10664542          82.300000  \n",
       "12230585         185.283333  \n",
       "13607581           0.000000  \n",
       "14710250         143.216667  \n",
       "15678735           0.000000  \n",
       "16645503           0.000000  \n",
       "19657351          77.516667  "
      ]
     },
     "execution_count": 241,
     "metadata": {},
     "output_type": "execute_result"
    }
   ],
   "source": [
    "counts = pd.merge(pre, post, left_index=True, right_index=True, how='outer').fillna(0)\n",
    "counts.drop(['group_y', 'maildate_y'], 1, inplace=True)\n",
    "counts.columns=['maildate', 'precount', 'group', 'preminutes', 'postcount', 'postminutes']\n",
    "counts.head(10)"
   ]
  },
  {
   "cell_type": "code",
   "execution_count": 242,
   "metadata": {},
   "outputs": [
    {
     "data": {
      "text/html": [
       "<div>\n",
       "<table border=\"1\" class=\"dataframe\">\n",
       "  <thead>\n",
       "    <tr style=\"text-align: right;\">\n",
       "      <th></th>\n",
       "      <th>maildate</th>\n",
       "      <th>precount</th>\n",
       "      <th>group</th>\n",
       "      <th>preminutes</th>\n",
       "      <th>postcount</th>\n",
       "      <th>postminutes</th>\n",
       "      <th>preweeks</th>\n",
       "      <th>postweeks</th>\n",
       "    </tr>\n",
       "    <tr>\n",
       "      <th>customernumber</th>\n",
       "      <th></th>\n",
       "      <th></th>\n",
       "      <th></th>\n",
       "      <th></th>\n",
       "      <th></th>\n",
       "      <th></th>\n",
       "      <th></th>\n",
       "      <th></th>\n",
       "    </tr>\n",
       "  </thead>\n",
       "  <tbody>\n",
       "    <tr>\n",
       "      <th>3070553</th>\n",
       "      <td>2017-04-27</td>\n",
       "      <td>1.750000</td>\n",
       "      <td>test</td>\n",
       "      <td>38.370259</td>\n",
       "      <td>4.666667</td>\n",
       "      <td>96.677778</td>\n",
       "      <td>16.428571</td>\n",
       "      <td>0.428571</td>\n",
       "    </tr>\n",
       "    <tr>\n",
       "      <th>5748056</th>\n",
       "      <td>2017-04-21</td>\n",
       "      <td>1.781818</td>\n",
       "      <td>test</td>\n",
       "      <td>33.170455</td>\n",
       "      <td>0.000000</td>\n",
       "      <td>0.000000</td>\n",
       "      <td>15.571429</td>\n",
       "      <td>1.285714</td>\n",
       "    </tr>\n",
       "    <tr>\n",
       "      <th>8823360</th>\n",
       "      <td>2017-04-21</td>\n",
       "      <td>0.190909</td>\n",
       "      <td>test</td>\n",
       "      <td>9.723636</td>\n",
       "      <td>0.000000</td>\n",
       "      <td>0.000000</td>\n",
       "      <td>15.571429</td>\n",
       "      <td>1.285714</td>\n",
       "    </tr>\n",
       "    <tr>\n",
       "      <th>10664542</th>\n",
       "      <td>2017-04-21</td>\n",
       "      <td>2.163636</td>\n",
       "      <td>test</td>\n",
       "      <td>43.356515</td>\n",
       "      <td>3.111111</td>\n",
       "      <td>64.011111</td>\n",
       "      <td>15.571429</td>\n",
       "      <td>1.285714</td>\n",
       "    </tr>\n",
       "    <tr>\n",
       "      <th>12230585</th>\n",
       "      <td>2017-04-21</td>\n",
       "      <td>0.827273</td>\n",
       "      <td>test</td>\n",
       "      <td>15.677879</td>\n",
       "      <td>7.000000</td>\n",
       "      <td>144.109259</td>\n",
       "      <td>15.571429</td>\n",
       "      <td>1.285714</td>\n",
       "    </tr>\n",
       "  </tbody>\n",
       "</table>\n",
       "</div>"
      ],
      "text/plain": [
       "                 maildate  precount group  preminutes  postcount  postminutes  \\\n",
       "customernumber                                                                  \n",
       "3070553        2017-04-27  1.750000  test   38.370259   4.666667    96.677778   \n",
       "5748056        2017-04-21  1.781818  test   33.170455   0.000000     0.000000   \n",
       "8823360        2017-04-21  0.190909  test    9.723636   0.000000     0.000000   \n",
       "10664542       2017-04-21  2.163636  test   43.356515   3.111111    64.011111   \n",
       "12230585       2017-04-21  0.827273  test   15.677879   7.000000   144.109259   \n",
       "\n",
       "                 preweeks  postweeks  \n",
       "customernumber                        \n",
       "3070553         16.428571   0.428571  \n",
       "5748056         15.571429   1.285714  \n",
       "8823360         15.571429   1.285714  \n",
       "10664542        15.571429   1.285714  \n",
       "12230585        15.571429   1.285714  "
      ]
     },
     "execution_count": 242,
     "metadata": {},
     "output_type": "execute_result"
    }
   ],
   "source": [
    "earliest = data.date.min()\n",
    "latest = data.date.max()\n",
    "\n",
    "counts['preweeks'] = counts.maildate.apply(lambda x: ((x - earliest).days) / float(7))\n",
    "counts['postweeks'] = counts.maildate.apply(lambda x: ((latest - x).days) / float(7))\n",
    "\n",
    "counts.precount = counts.precount / preweeks\n",
    "counts.preminutes = counts.preminutes / preweeks\n",
    "counts.postcount = counts.postcount / postweeks\n",
    "counts.postminutes = counts.postminutes / postweeks\n",
    "\n",
    "counts.head()"
   ]
  },
  {
   "cell_type": "code",
   "execution_count": 243,
   "metadata": {},
   "outputs": [],
   "source": [
    "test = counts[counts.group=='test']\n",
    "control = counts[counts.group=='control']"
   ]
  },
  {
   "cell_type": "code",
   "execution_count": 244,
   "metadata": {
    "scrolled": false
   },
   "outputs": [
    {
     "name": "stdout",
     "output_type": "stream",
     "text": [
      "154 test records, 30 control records\n",
      "(13401.522575470186, 73911.93333334144)\n"
     ]
    }
   ],
   "source": [
    "print len(test), 'test records,', len(control), 'control records'\n",
    "print (sum(test.preminutes) + sum(test.postminutes) + sum(control.preminutes) + sum(control.postminutes), sum(data.sessionrecordduration))"
   ]
  },
  {
   "cell_type": "markdown",
   "metadata": {},
   "source": [
    "### Comparing Counts"
   ]
  },
  {
   "cell_type": "code",
   "execution_count": 245,
   "metadata": {},
   "outputs": [
    {
     "data": {
      "image/png": "[encoded data removed]",
      "text/plain": [
       "<matplotlib.figure.Figure at 0x10d05ce10>"
      ]
     },
     "metadata": {},
     "output_type": "display_data"
    }
   ],
   "source": [
    "x = np.linspace(0,1, num=1000)\n",
    "fig = plt.figure(figsize=(18, 10))\n",
    "ax1 = fig.add_subplot(221); ax2 = fig.add_subplot(222)\n",
    "\n",
    "ax1.hist(test.precount, bins=50, alpha=0.75, label='Test group')\n",
    "ax1.hist(control.precount, bins=25, alpha=0.75, label='Control group')\n",
    "ax2.hist(test.postcount, bins=50, alpha=0.75, label='Test group')\n",
    "ax2.hist(control.postcount, bins=25, alpha=0.75, label='Control group')\n",
    "\n",
    "ax1.legend(); ax2.legend()\n",
    "ax1.set_title('Number of unique series watched - pre trigger')\n",
    "ax2.set_title('Number of unique series watched - post trigger')\n",
    "plt.show()"
   ]
  },
  {
   "cell_type": "markdown",
   "metadata": {},
   "source": [
    "Independent t-test between test & control pre-trigger should fail to reject null hypothesis as neither received mails. Fails to reject H0."
   ]
  },
  {
   "cell_type": "code",
   "execution_count": 246,
   "metadata": {},
   "outputs": [
    {
     "name": "stdout",
     "output_type": "stream",
     "text": [
      "Ttest_indResult(statistic=-0.62671811301040248, pvalue=0.53162935796792299)\n",
      "Critical T values: (-1.9730840773322158, 1.9730840773322158)\n"
     ]
    }
   ],
   "source": [
    "print ttest_ind(test.precount, control.precount)\n",
    "print 'Critical T values:', t.interval(.95, len(test) + len(control) - 2)"
   ]
  },
  {
   "cell_type": "markdown",
   "metadata": {},
   "source": [
    "Independent t-test between test & control post-trigger should reject null hypothesis as one group received mails. Fails to reject H0."
   ]
  },
  {
   "cell_type": "code",
   "execution_count": 247,
   "metadata": {
    "scrolled": true
   },
   "outputs": [
    {
     "name": "stdout",
     "output_type": "stream",
     "text": [
      "Ttest_indResult(statistic=0.14936483622713032, pvalue=0.88143113972990539)\n",
      "Critical T value: (-1.9730840773322158, 1.9730840773322158)\n"
     ]
    }
   ],
   "source": [
    "print ttest_ind(test.postcount, control.postcount)\n",
    "print 'Critical T value:', t.interval(.95, len(test) + len(control) - 2)"
   ]
  },
  {
   "cell_type": "markdown",
   "metadata": {},
   "source": [
    "### Comparing Minutes"
   ]
  },
  {
   "cell_type": "code",
   "execution_count": 248,
   "metadata": {
    "scrolled": true
   },
   "outputs": [
    {
     "data": {
      "image/png": "[encoded data removed]",
      "text/plain": [
       "<matplotlib.figure.Figure at 0x10e5dadd0>"
      ]
     },
     "metadata": {},
     "output_type": "display_data"
    }
   ],
   "source": [
    "x = np.linspace(0,1, num=1000)\n",
    "fig = plt.figure(figsize=(18, 10))\n",
    "ax1 = fig.add_subplot(221); ax2 = fig.add_subplot(222)\n",
    "\n",
    "ax1.hist(test.preminutes, bins=50, alpha=0.75, label='Test group')\n",
    "ax1.hist(control.preminutes, bins=25, alpha=0.75, label='Control group')\n",
    "ax2.hist(test.postminutes, bins=50, alpha=0.75, label='Test group')\n",
    "ax2.hist(control.postminutes, bins=25, alpha=0.75, label='Control group')\n",
    "\n",
    "ax1.legend(); ax2.legend()\n",
    "ax1.set_title('Minutes watched - pre trigger')\n",
    "ax2.set_title('Minutes watched - post trigger')\n",
    "plt.show()"
   ]
  },
  {
   "cell_type": "markdown",
   "metadata": {},
   "source": [
    "Independent t-test between test & control pre-trigger should fail to reject null hypothesis as neither received mails. Fails to reject H0."
   ]
  },
  {
   "cell_type": "code",
   "execution_count": 249,
   "metadata": {},
   "outputs": [
    {
     "data": {
      "text/plain": [
       "customernumber\n",
       "899722991    819.777778\n",
       "Name: postminutes, dtype: float64"
      ]
     },
     "execution_count": 249,
     "metadata": {},
     "output_type": "execute_result"
    }
   ],
   "source": [
    "test.postminutes[test.postminutes>799] "
   ]
  },
  {
   "cell_type": "code",
   "execution_count": 254,
   "metadata": {},
   "outputs": [
    {
     "name": "stdout",
     "output_type": "stream",
     "text": [
      "351.333333334\n"
     ]
    }
   ],
   "source": [
    "#print pre.loc[899722991,:].sessionrecordduration\n",
    "print post.loc[899722991,:].sessionrecordduration"
   ]
  },
  {
   "cell_type": "code",
   "execution_count": 256,
   "metadata": {},
   "outputs": [
    {
     "data": {
      "text/html": [
       "<div>\n",
       "<table border=\"1\" class=\"dataframe\">\n",
       "  <thead>\n",
       "    <tr style=\"text-align: right;\">\n",
       "      <th></th>\n",
       "      <th>customernumber</th>\n",
       "      <th>group</th>\n",
       "      <th>series</th>\n",
       "      <th>maildate</th>\n",
       "      <th>date</th>\n",
       "      <th>sessionrecordduration</th>\n",
       "      <th>programcrid</th>\n",
       "    </tr>\n",
       "  </thead>\n",
       "  <tbody>\n",
       "    <tr>\n",
       "      <th>3087</th>\n",
       "      <td>899722991</td>\n",
       "      <td>test</td>\n",
       "      <td>Black-ish</td>\n",
       "      <td>2017-04-27</td>\n",
       "      <td>2017-04-19 20:57:15</td>\n",
       "      <td>20.716667</td>\n",
       "      <td>crid://telenet.be/AA/TN00037209_01_0011-OSNL-SD</td>\n",
       "    </tr>\n",
       "    <tr>\n",
       "      <th>3088</th>\n",
       "      <td>899722991</td>\n",
       "      <td>test</td>\n",
       "      <td>Black-ish</td>\n",
       "      <td>2017-04-27</td>\n",
       "      <td>2017-04-19 20:08:02</td>\n",
       "      <td>20.766667</td>\n",
       "      <td>crid://telenet.be/AA/TN00037209_01_0009-OSNL-SD</td>\n",
       "    </tr>\n",
       "    <tr>\n",
       "      <th>3089</th>\n",
       "      <td>899722991</td>\n",
       "      <td>test</td>\n",
       "      <td>Black-ish</td>\n",
       "      <td>2017-04-27</td>\n",
       "      <td>2017-04-19 20:36:07</td>\n",
       "      <td>20.716667</td>\n",
       "      <td>crid://telenet.be/AA/TN00037209_01_0010-OSNL-SD</td>\n",
       "    </tr>\n",
       "    <tr>\n",
       "      <th>3090</th>\n",
       "      <td>899722991</td>\n",
       "      <td>test</td>\n",
       "      <td>Black-ish</td>\n",
       "      <td>2017-04-27</td>\n",
       "      <td>2017-04-19 19:41:54</td>\n",
       "      <td>20.733333</td>\n",
       "      <td>crid://telenet.be/AA/TN00037209_01_0008-OSNL-SD</td>\n",
       "    </tr>\n",
       "    <tr>\n",
       "      <th>3091</th>\n",
       "      <td>899722991</td>\n",
       "      <td>test</td>\n",
       "      <td>Black-ish</td>\n",
       "      <td>2017-04-27</td>\n",
       "      <td>2017-04-18 20:46:17</td>\n",
       "      <td>19.916667</td>\n",
       "      <td>crid://telenet.be/AA/TN00037209_01_0005-OSNL-SD</td>\n",
       "    </tr>\n",
       "    <tr>\n",
       "      <th>3092</th>\n",
       "      <td>899722991</td>\n",
       "      <td>test</td>\n",
       "      <td>Black-ish</td>\n",
       "      <td>2017-04-27</td>\n",
       "      <td>2017-04-18 21:06:15</td>\n",
       "      <td>10.666667</td>\n",
       "      <td>crid://telenet.be/AA/TN00037209_01_0006-OSNL-SD</td>\n",
       "    </tr>\n",
       "    <tr>\n",
       "      <th>3093</th>\n",
       "      <td>899722991</td>\n",
       "      <td>test</td>\n",
       "      <td>Black-ish</td>\n",
       "      <td>2017-04-27</td>\n",
       "      <td>2017-04-18 20:15:30</td>\n",
       "      <td>15.200000</td>\n",
       "      <td>crid://telenet.be/AA/TN00037209_01_0004-OSNL-SD</td>\n",
       "    </tr>\n",
       "    <tr>\n",
       "      <th>3094</th>\n",
       "      <td>899722991</td>\n",
       "      <td>test</td>\n",
       "      <td>Black-ish</td>\n",
       "      <td>2017-04-27</td>\n",
       "      <td>2017-04-18 18:14:46</td>\n",
       "      <td>13.016667</td>\n",
       "      <td>crid://telenet.be/AA/TN00037209_01_0001-OSNL-SD</td>\n",
       "    </tr>\n",
       "    <tr>\n",
       "      <th>3095</th>\n",
       "      <td>899722991</td>\n",
       "      <td>test</td>\n",
       "      <td>Black-ish</td>\n",
       "      <td>2017-04-27</td>\n",
       "      <td>2017-04-18 19:32:57</td>\n",
       "      <td>16.616667</td>\n",
       "      <td>crid://telenet.be/AA/TN00037209_01_0003-OSNL-SD</td>\n",
       "    </tr>\n",
       "    <tr>\n",
       "      <th>3096</th>\n",
       "      <td>899722991</td>\n",
       "      <td>test</td>\n",
       "      <td>Black-ish</td>\n",
       "      <td>2017-04-27</td>\n",
       "      <td>2017-04-18 18:39:29</td>\n",
       "      <td>15.100000</td>\n",
       "      <td>crid://telenet.be/AA/TN00037209_01_0002-OSNL-SD</td>\n",
       "    </tr>\n",
       "    <tr>\n",
       "      <th>3097</th>\n",
       "      <td>899722991</td>\n",
       "      <td>test</td>\n",
       "      <td>Black-ish</td>\n",
       "      <td>2017-04-27</td>\n",
       "      <td>2017-04-22 11:25:00</td>\n",
       "      <td>19.816667</td>\n",
       "      <td>crid://telenet.be/AA/TN00037209_01_0014-OSNL-SD</td>\n",
       "    </tr>\n",
       "    <tr>\n",
       "      <th>3098</th>\n",
       "      <td>899722991</td>\n",
       "      <td>test</td>\n",
       "      <td>Black-ish</td>\n",
       "      <td>2017-04-27</td>\n",
       "      <td>2017-04-22 10:14:41</td>\n",
       "      <td>15.983333</td>\n",
       "      <td>crid://telenet.be/AA/TN00037209_01_0012-OSNL-SD</td>\n",
       "    </tr>\n",
       "    <tr>\n",
       "      <th>3099</th>\n",
       "      <td>899722991</td>\n",
       "      <td>test</td>\n",
       "      <td>Black-ish</td>\n",
       "      <td>2017-04-27</td>\n",
       "      <td>2017-04-22 10:50:41</td>\n",
       "      <td>15.383333</td>\n",
       "      <td>crid://telenet.be/AA/TN00037209_01_0013-OSNL-SD</td>\n",
       "    </tr>\n",
       "    <tr>\n",
       "      <th>3100</th>\n",
       "      <td>899722991</td>\n",
       "      <td>test</td>\n",
       "      <td>Black-ish</td>\n",
       "      <td>2017-04-27</td>\n",
       "      <td>2017-04-22 21:11:24</td>\n",
       "      <td>16.233333</td>\n",
       "      <td>crid://telenet.be/AA/TN00037209_01_0015-OSNL-SD</td>\n",
       "    </tr>\n",
       "    <tr>\n",
       "      <th>3101</th>\n",
       "      <td>899722991</td>\n",
       "      <td>test</td>\n",
       "      <td>Black-ish</td>\n",
       "      <td>2017-04-27</td>\n",
       "      <td>2017-04-22 21:27:46</td>\n",
       "      <td>20.800000</td>\n",
       "      <td>crid://telenet.be/AA/TN00037209_01_0016-OSNL-SD</td>\n",
       "    </tr>\n",
       "    <tr>\n",
       "      <th>3102</th>\n",
       "      <td>899722991</td>\n",
       "      <td>test</td>\n",
       "      <td>Black-ish</td>\n",
       "      <td>2017-04-27</td>\n",
       "      <td>2017-04-27 17:57:12</td>\n",
       "      <td>20.716667</td>\n",
       "      <td>crid://telenet.be/AA/TN00037209_01_0018-OSNL-SD</td>\n",
       "    </tr>\n",
       "    <tr>\n",
       "      <th>3103</th>\n",
       "      <td>899722991</td>\n",
       "      <td>test</td>\n",
       "      <td>Black-ish</td>\n",
       "      <td>2017-04-27</td>\n",
       "      <td>2017-04-27 18:17:59</td>\n",
       "      <td>20.716667</td>\n",
       "      <td>crid://telenet.be/AA/TN00037209_01_0019-OSNL-SD</td>\n",
       "    </tr>\n",
       "    <tr>\n",
       "      <th>3104</th>\n",
       "      <td>899722991</td>\n",
       "      <td>test</td>\n",
       "      <td>Black-ish</td>\n",
       "      <td>2017-04-27</td>\n",
       "      <td>2017-04-27 19:06:14</td>\n",
       "      <td>20.716667</td>\n",
       "      <td>crid://telenet.be/AA/TN00037209_01_0021-OSNL-SD</td>\n",
       "    </tr>\n",
       "    <tr>\n",
       "      <th>3105</th>\n",
       "      <td>899722991</td>\n",
       "      <td>test</td>\n",
       "      <td>Black-ish</td>\n",
       "      <td>2017-04-27</td>\n",
       "      <td>2017-04-27 18:45:27</td>\n",
       "      <td>20.716667</td>\n",
       "      <td>crid://telenet.be/AA/TN00037209_01_0020-OSNL-SD</td>\n",
       "    </tr>\n",
       "    <tr>\n",
       "      <th>3106</th>\n",
       "      <td>899722991</td>\n",
       "      <td>test</td>\n",
       "      <td>Black-ish</td>\n",
       "      <td>2017-04-27</td>\n",
       "      <td>2017-04-27 17:36:25</td>\n",
       "      <td>20.716667</td>\n",
       "      <td>crid://telenet.be/AA/TN00037209_01_0017-OSNL-SD</td>\n",
       "    </tr>\n",
       "    <tr>\n",
       "      <th>3107</th>\n",
       "      <td>899722991</td>\n",
       "      <td>test</td>\n",
       "      <td>Black-ish</td>\n",
       "      <td>2017-04-27</td>\n",
       "      <td>2017-04-29 21:34:39</td>\n",
       "      <td>20.716667</td>\n",
       "      <td>crid://telenet.be/AA/TN00037209_02_0002-OSNL-SD</td>\n",
       "    </tr>\n",
       "    <tr>\n",
       "      <th>3108</th>\n",
       "      <td>899722991</td>\n",
       "      <td>test</td>\n",
       "      <td>Black-ish</td>\n",
       "      <td>2017-04-27</td>\n",
       "      <td>2017-04-29 21:14:14</td>\n",
       "      <td>20.333333</td>\n",
       "      <td>crid://telenet.be/AA/TN00037209_02_0001-OSNL-SD</td>\n",
       "    </tr>\n",
       "    <tr>\n",
       "      <th>3109</th>\n",
       "      <td>899722991</td>\n",
       "      <td>test</td>\n",
       "      <td>Black-ish</td>\n",
       "      <td>2017-04-27</td>\n",
       "      <td>2017-04-30 02:22:46</td>\n",
       "      <td>20.716667</td>\n",
       "      <td>crid://telenet.be/AA/TN00037209_02_0003-OSNL-SD</td>\n",
       "    </tr>\n",
       "    <tr>\n",
       "      <th>3110</th>\n",
       "      <td>899722991</td>\n",
       "      <td>test</td>\n",
       "      <td>Black-ish</td>\n",
       "      <td>2017-04-27</td>\n",
       "      <td>2017-04-30 02:43:34</td>\n",
       "      <td>20.650000</td>\n",
       "      <td>crid://telenet.be/AA/TN00037209_02_0004-OSNL-SD</td>\n",
       "    </tr>\n",
       "    <tr>\n",
       "      <th>3111</th>\n",
       "      <td>899722991</td>\n",
       "      <td>test</td>\n",
       "      <td>Black-ish</td>\n",
       "      <td>2017-04-27</td>\n",
       "      <td>2017-04-30 06:27:04</td>\n",
       "      <td>20.683333</td>\n",
       "      <td>crid://telenet.be/AA/TN00037209_02_0008-OSNL-SD</td>\n",
       "    </tr>\n",
       "    <tr>\n",
       "      <th>3112</th>\n",
       "      <td>899722991</td>\n",
       "      <td>test</td>\n",
       "      <td>Black-ish</td>\n",
       "      <td>2017-04-27</td>\n",
       "      <td>2017-04-30 05:15:59</td>\n",
       "      <td>20.500000</td>\n",
       "      <td>crid://telenet.be/AA/TN00037209_02_0005-OSNL-SD</td>\n",
       "    </tr>\n",
       "    <tr>\n",
       "      <th>3113</th>\n",
       "      <td>899722991</td>\n",
       "      <td>test</td>\n",
       "      <td>Black-ish</td>\n",
       "      <td>2017-04-27</td>\n",
       "      <td>2017-04-30 05:36:33</td>\n",
       "      <td>20.716667</td>\n",
       "      <td>crid://telenet.be/AA/TN00037209_02_0006-OSNL-SD</td>\n",
       "    </tr>\n",
       "    <tr>\n",
       "      <th>3114</th>\n",
       "      <td>899722991</td>\n",
       "      <td>test</td>\n",
       "      <td>Black-ish</td>\n",
       "      <td>2017-04-27</td>\n",
       "      <td>2017-04-30 06:02:19</td>\n",
       "      <td>20.733333</td>\n",
       "      <td>crid://telenet.be/AA/TN00037209_02_0007-OSNL-SD</td>\n",
       "    </tr>\n",
       "    <tr>\n",
       "      <th>3115</th>\n",
       "      <td>899722991</td>\n",
       "      <td>test</td>\n",
       "      <td>Black-ish</td>\n",
       "      <td>2017-04-27</td>\n",
       "      <td>2017-04-30 07:16:25</td>\n",
       "      <td>20.716667</td>\n",
       "      <td>crid://telenet.be/AA/TN00037209_02_0010-OSNL-SD</td>\n",
       "    </tr>\n",
       "    <tr>\n",
       "      <th>3116</th>\n",
       "      <td>899722991</td>\n",
       "      <td>test</td>\n",
       "      <td>Black-ish</td>\n",
       "      <td>2017-04-27</td>\n",
       "      <td>2017-04-30 08:05:51</td>\n",
       "      <td>20.716667</td>\n",
       "      <td>crid://telenet.be/AA/TN00037209_02_0012-OSNL-SD</td>\n",
       "    </tr>\n",
       "    <tr>\n",
       "      <th>3117</th>\n",
       "      <td>899722991</td>\n",
       "      <td>test</td>\n",
       "      <td>Black-ish</td>\n",
       "      <td>2017-04-27</td>\n",
       "      <td>2017-04-30 07:45:05</td>\n",
       "      <td>20.683333</td>\n",
       "      <td>crid://telenet.be/AA/TN00037209_02_0011-OSNL-SD</td>\n",
       "    </tr>\n",
       "    <tr>\n",
       "      <th>3118</th>\n",
       "      <td>899722991</td>\n",
       "      <td>test</td>\n",
       "      <td>Black-ish</td>\n",
       "      <td>2017-04-27</td>\n",
       "      <td>2017-04-30 06:47:49</td>\n",
       "      <td>20.583333</td>\n",
       "      <td>crid://telenet.be/AA/TN00037209_02_0009-OSNL-SD</td>\n",
       "    </tr>\n",
       "  </tbody>\n",
       "</table>\n",
       "</div>"
      ],
      "text/plain": [
       "     customernumber group     series   maildate                date  \\\n",
       "3087      899722991  test  Black-ish 2017-04-27 2017-04-19 20:57:15   \n",
       "3088      899722991  test  Black-ish 2017-04-27 2017-04-19 20:08:02   \n",
       "3089      899722991  test  Black-ish 2017-04-27 2017-04-19 20:36:07   \n",
       "3090      899722991  test  Black-ish 2017-04-27 2017-04-19 19:41:54   \n",
       "3091      899722991  test  Black-ish 2017-04-27 2017-04-18 20:46:17   \n",
       "3092      899722991  test  Black-ish 2017-04-27 2017-04-18 21:06:15   \n",
       "3093      899722991  test  Black-ish 2017-04-27 2017-04-18 20:15:30   \n",
       "3094      899722991  test  Black-ish 2017-04-27 2017-04-18 18:14:46   \n",
       "3095      899722991  test  Black-ish 2017-04-27 2017-04-18 19:32:57   \n",
       "3096      899722991  test  Black-ish 2017-04-27 2017-04-18 18:39:29   \n",
       "3097      899722991  test  Black-ish 2017-04-27 2017-04-22 11:25:00   \n",
       "3098      899722991  test  Black-ish 2017-04-27 2017-04-22 10:14:41   \n",
       "3099      899722991  test  Black-ish 2017-04-27 2017-04-22 10:50:41   \n",
       "3100      899722991  test  Black-ish 2017-04-27 2017-04-22 21:11:24   \n",
       "3101      899722991  test  Black-ish 2017-04-27 2017-04-22 21:27:46   \n",
       "3102      899722991  test  Black-ish 2017-04-27 2017-04-27 17:57:12   \n",
       "3103      899722991  test  Black-ish 2017-04-27 2017-04-27 18:17:59   \n",
       "3104      899722991  test  Black-ish 2017-04-27 2017-04-27 19:06:14   \n",
       "3105      899722991  test  Black-ish 2017-04-27 2017-04-27 18:45:27   \n",
       "3106      899722991  test  Black-ish 2017-04-27 2017-04-27 17:36:25   \n",
       "3107      899722991  test  Black-ish 2017-04-27 2017-04-29 21:34:39   \n",
       "3108      899722991  test  Black-ish 2017-04-27 2017-04-29 21:14:14   \n",
       "3109      899722991  test  Black-ish 2017-04-27 2017-04-30 02:22:46   \n",
       "3110      899722991  test  Black-ish 2017-04-27 2017-04-30 02:43:34   \n",
       "3111      899722991  test  Black-ish 2017-04-27 2017-04-30 06:27:04   \n",
       "3112      899722991  test  Black-ish 2017-04-27 2017-04-30 05:15:59   \n",
       "3113      899722991  test  Black-ish 2017-04-27 2017-04-30 05:36:33   \n",
       "3114      899722991  test  Black-ish 2017-04-27 2017-04-30 06:02:19   \n",
       "3115      899722991  test  Black-ish 2017-04-27 2017-04-30 07:16:25   \n",
       "3116      899722991  test  Black-ish 2017-04-27 2017-04-30 08:05:51   \n",
       "3117      899722991  test  Black-ish 2017-04-27 2017-04-30 07:45:05   \n",
       "3118      899722991  test  Black-ish 2017-04-27 2017-04-30 06:47:49   \n",
       "\n",
       "      sessionrecordduration                                      programcrid  \n",
       "3087              20.716667  crid://telenet.be/AA/TN00037209_01_0011-OSNL-SD  \n",
       "3088              20.766667  crid://telenet.be/AA/TN00037209_01_0009-OSNL-SD  \n",
       "3089              20.716667  crid://telenet.be/AA/TN00037209_01_0010-OSNL-SD  \n",
       "3090              20.733333  crid://telenet.be/AA/TN00037209_01_0008-OSNL-SD  \n",
       "3091              19.916667  crid://telenet.be/AA/TN00037209_01_0005-OSNL-SD  \n",
       "3092              10.666667  crid://telenet.be/AA/TN00037209_01_0006-OSNL-SD  \n",
       "3093              15.200000  crid://telenet.be/AA/TN00037209_01_0004-OSNL-SD  \n",
       "3094              13.016667  crid://telenet.be/AA/TN00037209_01_0001-OSNL-SD  \n",
       "3095              16.616667  crid://telenet.be/AA/TN00037209_01_0003-OSNL-SD  \n",
       "3096              15.100000  crid://telenet.be/AA/TN00037209_01_0002-OSNL-SD  \n",
       "3097              19.816667  crid://telenet.be/AA/TN00037209_01_0014-OSNL-SD  \n",
       "3098              15.983333  crid://telenet.be/AA/TN00037209_01_0012-OSNL-SD  \n",
       "3099              15.383333  crid://telenet.be/AA/TN00037209_01_0013-OSNL-SD  \n",
       "3100              16.233333  crid://telenet.be/AA/TN00037209_01_0015-OSNL-SD  \n",
       "3101              20.800000  crid://telenet.be/AA/TN00037209_01_0016-OSNL-SD  \n",
       "3102              20.716667  crid://telenet.be/AA/TN00037209_01_0018-OSNL-SD  \n",
       "3103              20.716667  crid://telenet.be/AA/TN00037209_01_0019-OSNL-SD  \n",
       "3104              20.716667  crid://telenet.be/AA/TN00037209_01_0021-OSNL-SD  \n",
       "3105              20.716667  crid://telenet.be/AA/TN00037209_01_0020-OSNL-SD  \n",
       "3106              20.716667  crid://telenet.be/AA/TN00037209_01_0017-OSNL-SD  \n",
       "3107              20.716667  crid://telenet.be/AA/TN00037209_02_0002-OSNL-SD  \n",
       "3108              20.333333  crid://telenet.be/AA/TN00037209_02_0001-OSNL-SD  \n",
       "3109              20.716667  crid://telenet.be/AA/TN00037209_02_0003-OSNL-SD  \n",
       "3110              20.650000  crid://telenet.be/AA/TN00037209_02_0004-OSNL-SD  \n",
       "3111              20.683333  crid://telenet.be/AA/TN00037209_02_0008-OSNL-SD  \n",
       "3112              20.500000  crid://telenet.be/AA/TN00037209_02_0005-OSNL-SD  \n",
       "3113              20.716667  crid://telenet.be/AA/TN00037209_02_0006-OSNL-SD  \n",
       "3114              20.733333  crid://telenet.be/AA/TN00037209_02_0007-OSNL-SD  \n",
       "3115              20.716667  crid://telenet.be/AA/TN00037209_02_0010-OSNL-SD  \n",
       "3116              20.716667  crid://telenet.be/AA/TN00037209_02_0012-OSNL-SD  \n",
       "3117              20.683333  crid://telenet.be/AA/TN00037209_02_0011-OSNL-SD  \n",
       "3118              20.583333  crid://telenet.be/AA/TN00037209_02_0009-OSNL-SD  "
      ]
     },
     "execution_count": 256,
     "metadata": {},
     "output_type": "execute_result"
    }
   ],
   "source": [
    "data[data.customernumber== 899722991]#.sessionrecordduration.sum()"
   ]
  },
  {
   "cell_type": "code",
   "execution_count": 217,
   "metadata": {},
   "outputs": [
    {
     "name": "stdout",
     "output_type": "stream",
     "text": [
      "Ttest_indResult(statistic=-0.18256485283956134, pvalue=0.85534266234815326)\n",
      "Critical T values: (-1.9730840773322158, 1.9730840773322158)\n"
     ]
    }
   ],
   "source": [
    "print ttest_ind(test.preminutes, control.preminutes)\n",
    "print 'Critical T values:', t.interval(.95, len(test) + len(control) - 2)"
   ]
  },
  {
   "cell_type": "markdown",
   "metadata": {},
   "source": [
    "Independent t-test between test & control post-trigger should reject null hypothesis as one group received mails. Fails to reject H0."
   ]
  },
  {
   "cell_type": "code",
   "execution_count": 88,
   "metadata": {
    "scrolled": false
   },
   "outputs": [
    {
     "name": "stdout",
     "output_type": "stream",
     "text": [
      "Ttest_indResult(statistic=0.3553211830227988, pvalue=0.72276043903426312)\n",
      "Critical T value: (-1.9730840773322158, 1.9730840773322158)\n"
     ]
    }
   ],
   "source": [
    "print ttest_ind(test.postminutes, control.postminutes)\n",
    "print 'Critical T value:', t.interval(.95, len(test) + len(control) - 2)"
   ]
  },
  {
   "cell_type": "markdown",
   "metadata": {},
   "source": [
    "# Play More\n",
    "### Load Data"
   ]
  },
  {
   "cell_type": "code",
   "execution_count": 89,
   "metadata": {},
   "outputs": [
    {
     "name": "stdout",
     "output_type": "stream",
     "text": [
      "17415 records\n"
     ]
    },
    {
     "data": {
      "text/html": [
       "<div>\n",
       "<table border=\"1\" class=\"dataframe\">\n",
       "  <thead>\n",
       "    <tr style=\"text-align: right;\">\n",
       "      <th></th>\n",
       "      <th>customernumber</th>\n",
       "      <th>year</th>\n",
       "      <th>month</th>\n",
       "      <th>day</th>\n",
       "      <th>cnt_programs</th>\n",
       "      <th>sum_srd</th>\n",
       "      <th>date</th>\n",
       "    </tr>\n",
       "  </thead>\n",
       "  <tbody>\n",
       "    <tr>\n",
       "      <th>0</th>\n",
       "      <td>12230585</td>\n",
       "      <td>2017</td>\n",
       "      <td>1</td>\n",
       "      <td>26</td>\n",
       "      <td>1</td>\n",
       "      <td>35.000000</td>\n",
       "      <td>2017-01-26</td>\n",
       "    </tr>\n",
       "    <tr>\n",
       "      <th>1</th>\n",
       "      <td>214177919</td>\n",
       "      <td>2017</td>\n",
       "      <td>1</td>\n",
       "      <td>15</td>\n",
       "      <td>3</td>\n",
       "      <td>72.933333</td>\n",
       "      <td>2017-01-15</td>\n",
       "    </tr>\n",
       "    <tr>\n",
       "      <th>2</th>\n",
       "      <td>214177919</td>\n",
       "      <td>2017</td>\n",
       "      <td>2</td>\n",
       "      <td>5</td>\n",
       "      <td>2</td>\n",
       "      <td>43.583333</td>\n",
       "      <td>2017-02-05</td>\n",
       "    </tr>\n",
       "    <tr>\n",
       "      <th>3</th>\n",
       "      <td>25594963</td>\n",
       "      <td>2017</td>\n",
       "      <td>1</td>\n",
       "      <td>6</td>\n",
       "      <td>2</td>\n",
       "      <td>113.750000</td>\n",
       "      <td>2017-01-06</td>\n",
       "    </tr>\n",
       "    <tr>\n",
       "      <th>4</th>\n",
       "      <td>47823121</td>\n",
       "      <td>2017</td>\n",
       "      <td>2</td>\n",
       "      <td>10</td>\n",
       "      <td>4</td>\n",
       "      <td>181.650000</td>\n",
       "      <td>2017-02-10</td>\n",
       "    </tr>\n",
       "  </tbody>\n",
       "</table>\n",
       "</div>"
      ],
      "text/plain": [
       "   customernumber  year  month  day  cnt_programs     sum_srd       date\n",
       "0        12230585  2017      1   26             1   35.000000 2017-01-26\n",
       "1       214177919  2017      1   15             3   72.933333 2017-01-15\n",
       "2       214177919  2017      2    5             2   43.583333 2017-02-05\n",
       "3        25594963  2017      1    6             2  113.750000 2017-01-06\n",
       "4        47823121  2017      2   10             4  181.650000 2017-02-10"
      ]
     },
     "execution_count": 89,
     "metadata": {},
     "output_type": "execute_result"
    }
   ],
   "source": [
    "playmore = pd.read_excel('query_result (63).xls')\n",
    "print len(playmore), 'records'\n",
    "playmore['date'] = playmore[['year', 'month', 'day']].apply(lambda s : datetime(*s), axis=1)\n",
    "playmore.head()"
   ]
  },
  {
   "cell_type": "code",
   "execution_count": 90,
   "metadata": {},
   "outputs": [
    {
     "name": "stdout",
     "output_type": "stream",
     "text": [
      "17415 records\n"
     ]
    },
    {
     "data": {
      "text/html": [
       "<div>\n",
       "<table border=\"1\" class=\"dataframe\">\n",
       "  <thead>\n",
       "    <tr style=\"text-align: right;\">\n",
       "      <th></th>\n",
       "      <th>customernumber</th>\n",
       "      <th>group</th>\n",
       "      <th>maildate</th>\n",
       "      <th>date</th>\n",
       "      <th>cnt_programs</th>\n",
       "      <th>sum_srd</th>\n",
       "    </tr>\n",
       "  </thead>\n",
       "  <tbody>\n",
       "    <tr>\n",
       "      <th>11182</th>\n",
       "      <td>724766721</td>\n",
       "      <td>test</td>\n",
       "      <td>2017-04-21</td>\n",
       "      <td>2017-04-30</td>\n",
       "      <td>2</td>\n",
       "      <td>98.550000</td>\n",
       "    </tr>\n",
       "    <tr>\n",
       "      <th>11951</th>\n",
       "      <td>990003925</td>\n",
       "      <td>control</td>\n",
       "      <td>2017-04-27</td>\n",
       "      <td>2017-04-30</td>\n",
       "      <td>6</td>\n",
       "      <td>134.466667</td>\n",
       "    </tr>\n",
       "    <tr>\n",
       "      <th>15505</th>\n",
       "      <td>266575194</td>\n",
       "      <td>test</td>\n",
       "      <td>2017-04-21</td>\n",
       "      <td>2017-04-30</td>\n",
       "      <td>6</td>\n",
       "      <td>285.066667</td>\n",
       "    </tr>\n",
       "    <tr>\n",
       "      <th>13697</th>\n",
       "      <td>965559723</td>\n",
       "      <td>test</td>\n",
       "      <td>2017-04-21</td>\n",
       "      <td>2017-04-30</td>\n",
       "      <td>1</td>\n",
       "      <td>13.866667</td>\n",
       "    </tr>\n",
       "    <tr>\n",
       "      <th>1461</th>\n",
       "      <td>507305754</td>\n",
       "      <td>test</td>\n",
       "      <td>2017-04-21</td>\n",
       "      <td>2017-04-30</td>\n",
       "      <td>1</td>\n",
       "      <td>107.150000</td>\n",
       "    </tr>\n",
       "  </tbody>\n",
       "</table>\n",
       "</div>"
      ],
      "text/plain": [
       "      customernumber    group   maildate       date  cnt_programs     sum_srd\n",
       "11182      724766721     test 2017-04-21 2017-04-30             2   98.550000\n",
       "11951      990003925  control 2017-04-27 2017-04-30             6  134.466667\n",
       "15505      266575194     test 2017-04-21 2017-04-30             6  285.066667\n",
       "13697      965559723     test 2017-04-21 2017-04-30             1   13.866667\n",
       "1461       507305754     test 2017-04-21 2017-04-30             1  107.150000"
      ]
     },
     "execution_count": 90,
     "metadata": {},
     "output_type": "execute_result"
    }
   ],
   "source": [
    "data = pd.merge(mails, playmore, on='customernumber', how='inner')\n",
    "data = data[['customernumber', 'group', 'maildate', 'date', 'cnt_programs', 'sum_srd']]\n",
    "print len(data), 'records'\n",
    "data.sort_values('date', ascending=False).head()"
   ]
  },
  {
   "cell_type": "markdown",
   "metadata": {},
   "source": [
    "### Retrieve viewing counts, minutes watched and averages"
   ]
  },
  {
   "cell_type": "markdown",
   "metadata": {},
   "source": [
    "Viewings splitted pre and post trigger"
   ]
  },
  {
   "cell_type": "code",
   "execution_count": 173,
   "metadata": {
    "collapsed": true
   },
   "outputs": [],
   "source": [
    "pre = data[(data.maildate - data.date) > pd.Timedelta(0)]\n",
    "post = data[(data.maildate - data.date) <= pd.Timedelta(0)]"
   ]
  },
  {
   "cell_type": "markdown",
   "metadata": {},
   "source": [
    "Number of viewings and total minutes watched grouped per customer"
   ]
  },
  {
   "cell_type": "code",
   "execution_count": 174,
   "metadata": {},
   "outputs": [
    {
     "data": {
      "text/html": [
       "<div>\n",
       "<table border=\"1\" class=\"dataframe\">\n",
       "  <thead>\n",
       "    <tr style=\"text-align: right;\">\n",
       "      <th></th>\n",
       "      <th>maildate</th>\n",
       "      <th>group</th>\n",
       "      <th>sum_srd</th>\n",
       "      <th>cnt_programs</th>\n",
       "    </tr>\n",
       "    <tr>\n",
       "      <th>customernumber</th>\n",
       "      <th></th>\n",
       "      <th></th>\n",
       "      <th></th>\n",
       "      <th></th>\n",
       "    </tr>\n",
       "  </thead>\n",
       "  <tbody>\n",
       "    <tr>\n",
       "      <th>3070553</th>\n",
       "      <td>2017-04-27</td>\n",
       "      <td>test</td>\n",
       "      <td>13980.900000</td>\n",
       "      <td>338</td>\n",
       "    </tr>\n",
       "    <tr>\n",
       "      <th>5748056</th>\n",
       "      <td>2017-04-21</td>\n",
       "      <td>test</td>\n",
       "      <td>4846.150000</td>\n",
       "      <td>116</td>\n",
       "    </tr>\n",
       "    <tr>\n",
       "      <th>8823360</th>\n",
       "      <td>2017-04-21</td>\n",
       "      <td>test</td>\n",
       "      <td>46750.983333</td>\n",
       "      <td>1054</td>\n",
       "    </tr>\n",
       "    <tr>\n",
       "      <th>10664542</th>\n",
       "      <td>2017-04-21</td>\n",
       "      <td>test</td>\n",
       "      <td>9163.016667</td>\n",
       "      <td>278</td>\n",
       "    </tr>\n",
       "    <tr>\n",
       "      <th>12230585</th>\n",
       "      <td>2017-04-21</td>\n",
       "      <td>test</td>\n",
       "      <td>6945.566667</td>\n",
       "      <td>133</td>\n",
       "    </tr>\n",
       "  </tbody>\n",
       "</table>\n",
       "</div>"
      ],
      "text/plain": [
       "                 maildate group       sum_srd  cnt_programs\n",
       "customernumber                                             \n",
       "3070553        2017-04-27  test  13980.900000           338\n",
       "5748056        2017-04-21  test   4846.150000           116\n",
       "8823360        2017-04-21  test  46750.983333          1054\n",
       "10664542       2017-04-21  test   9163.016667           278\n",
       "12230585       2017-04-21  test   6945.566667           133"
      ]
     },
     "execution_count": 174,
     "metadata": {},
     "output_type": "execute_result"
    }
   ],
   "source": [
    "pre = pre.groupby(['customernumber']).agg({'group':'min', 'cnt_programs':'sum', 'sum_srd':'sum', 'maildate':'min'})\n",
    "post = post.groupby(['customernumber']).agg({'group':'min', 'cnt_programs':'sum', 'sum_srd':'sum', 'maildate':'min'})\n",
    "pre.head()"
   ]
  },
  {
   "cell_type": "markdown",
   "metadata": {},
   "source": [
    "Merge pre and post to include zero values per customer"
   ]
  },
  {
   "cell_type": "code",
   "execution_count": 191,
   "metadata": {
    "scrolled": true
   },
   "outputs": [
    {
     "data": {
      "text/html": [
       "<div>\n",
       "<table border=\"1\" class=\"dataframe\">\n",
       "  <thead>\n",
       "    <tr style=\"text-align: right;\">\n",
       "      <th></th>\n",
       "      <th>maildate</th>\n",
       "      <th>group</th>\n",
       "      <th>preminutes</th>\n",
       "      <th>precount</th>\n",
       "      <th>postminutes</th>\n",
       "      <th>postcount</th>\n",
       "    </tr>\n",
       "    <tr>\n",
       "      <th>customernumber</th>\n",
       "      <th></th>\n",
       "      <th></th>\n",
       "      <th></th>\n",
       "      <th></th>\n",
       "      <th></th>\n",
       "      <th></th>\n",
       "    </tr>\n",
       "  </thead>\n",
       "  <tbody>\n",
       "    <tr>\n",
       "      <th>3070553</th>\n",
       "      <td>2017-04-27</td>\n",
       "      <td>test</td>\n",
       "      <td>13980.900000</td>\n",
       "      <td>338.0</td>\n",
       "      <td>535.250000</td>\n",
       "      <td>15.0</td>\n",
       "    </tr>\n",
       "    <tr>\n",
       "      <th>5748056</th>\n",
       "      <td>2017-04-21</td>\n",
       "      <td>test</td>\n",
       "      <td>4846.150000</td>\n",
       "      <td>116.0</td>\n",
       "      <td>753.033333</td>\n",
       "      <td>22.0</td>\n",
       "    </tr>\n",
       "    <tr>\n",
       "      <th>8823360</th>\n",
       "      <td>2017-04-21</td>\n",
       "      <td>test</td>\n",
       "      <td>46750.983333</td>\n",
       "      <td>1054.0</td>\n",
       "      <td>4010.616667</td>\n",
       "      <td>84.0</td>\n",
       "    </tr>\n",
       "    <tr>\n",
       "      <th>10664542</th>\n",
       "      <td>2017-04-21</td>\n",
       "      <td>test</td>\n",
       "      <td>9163.016667</td>\n",
       "      <td>278.0</td>\n",
       "      <td>710.233333</td>\n",
       "      <td>16.0</td>\n",
       "    </tr>\n",
       "    <tr>\n",
       "      <th>12230585</th>\n",
       "      <td>2017-04-21</td>\n",
       "      <td>test</td>\n",
       "      <td>6945.566667</td>\n",
       "      <td>133.0</td>\n",
       "      <td>817.733333</td>\n",
       "      <td>20.0</td>\n",
       "    </tr>\n",
       "    <tr>\n",
       "      <th>13607581</th>\n",
       "      <td>2017-04-21</td>\n",
       "      <td>control</td>\n",
       "      <td>15089.316667</td>\n",
       "      <td>313.0</td>\n",
       "      <td>1933.516667</td>\n",
       "      <td>42.0</td>\n",
       "    </tr>\n",
       "    <tr>\n",
       "      <th>14710250</th>\n",
       "      <td>2017-04-21</td>\n",
       "      <td>test</td>\n",
       "      <td>13424.866667</td>\n",
       "      <td>320.0</td>\n",
       "      <td>1798.400000</td>\n",
       "      <td>43.0</td>\n",
       "    </tr>\n",
       "    <tr>\n",
       "      <th>15678735</th>\n",
       "      <td>2017-04-21</td>\n",
       "      <td>test</td>\n",
       "      <td>17050.883333</td>\n",
       "      <td>387.0</td>\n",
       "      <td>1001.600000</td>\n",
       "      <td>22.0</td>\n",
       "    </tr>\n",
       "    <tr>\n",
       "      <th>16645503</th>\n",
       "      <td>2017-04-21</td>\n",
       "      <td>test</td>\n",
       "      <td>24553.766667</td>\n",
       "      <td>466.0</td>\n",
       "      <td>2104.166667</td>\n",
       "      <td>37.0</td>\n",
       "    </tr>\n",
       "    <tr>\n",
       "      <th>19657351</th>\n",
       "      <td>2017-04-21</td>\n",
       "      <td>control</td>\n",
       "      <td>7898.816667</td>\n",
       "      <td>221.0</td>\n",
       "      <td>554.283333</td>\n",
       "      <td>18.0</td>\n",
       "    </tr>\n",
       "  </tbody>\n",
       "</table>\n",
       "</div>"
      ],
      "text/plain": [
       "                 maildate    group    preminutes  precount  postminutes  \\\n",
       "customernumber                                                            \n",
       "3070553        2017-04-27     test  13980.900000     338.0   535.250000   \n",
       "5748056        2017-04-21     test   4846.150000     116.0   753.033333   \n",
       "8823360        2017-04-21     test  46750.983333    1054.0  4010.616667   \n",
       "10664542       2017-04-21     test   9163.016667     278.0   710.233333   \n",
       "12230585       2017-04-21     test   6945.566667     133.0   817.733333   \n",
       "13607581       2017-04-21  control  15089.316667     313.0  1933.516667   \n",
       "14710250       2017-04-21     test  13424.866667     320.0  1798.400000   \n",
       "15678735       2017-04-21     test  17050.883333     387.0  1001.600000   \n",
       "16645503       2017-04-21     test  24553.766667     466.0  2104.166667   \n",
       "19657351       2017-04-21  control   7898.816667     221.0   554.283333   \n",
       "\n",
       "                postcount  \n",
       "customernumber             \n",
       "3070553              15.0  \n",
       "5748056              22.0  \n",
       "8823360              84.0  \n",
       "10664542             16.0  \n",
       "12230585             20.0  \n",
       "13607581             42.0  \n",
       "14710250             43.0  \n",
       "15678735             22.0  \n",
       "16645503             37.0  \n",
       "19657351             18.0  "
      ]
     },
     "execution_count": 191,
     "metadata": {},
     "output_type": "execute_result"
    }
   ],
   "source": [
    "counts = pd.merge(pre, post, left_index=True, right_index=True, how='outer').fillna(0)\n",
    "counts.drop(['group_y', 'maildate_y'], 1, inplace=True)\n",
    "counts.columns=['maildate', 'group', 'preminutes', 'precount', 'postminutes', 'postcount']\n",
    "counts.head(10)"
   ]
  },
  {
   "cell_type": "code",
   "execution_count": 192,
   "metadata": {},
   "outputs": [
    {
     "data": {
      "text/html": [
       "<div>\n",
       "<table border=\"1\" class=\"dataframe\">\n",
       "  <thead>\n",
       "    <tr style=\"text-align: right;\">\n",
       "      <th></th>\n",
       "      <th>maildate</th>\n",
       "      <th>group</th>\n",
       "      <th>preminutes</th>\n",
       "      <th>precount</th>\n",
       "      <th>postminutes</th>\n",
       "      <th>postcount</th>\n",
       "      <th>preweeks</th>\n",
       "      <th>postweeks</th>\n",
       "    </tr>\n",
       "    <tr>\n",
       "      <th>customernumber</th>\n",
       "      <th></th>\n",
       "      <th></th>\n",
       "      <th></th>\n",
       "      <th></th>\n",
       "      <th></th>\n",
       "      <th></th>\n",
       "      <th></th>\n",
       "      <th></th>\n",
       "    </tr>\n",
       "  </thead>\n",
       "  <tbody>\n",
       "    <tr>\n",
       "      <th>3070553</th>\n",
       "      <td>2017-04-27</td>\n",
       "      <td>test</td>\n",
       "      <td>843.675000</td>\n",
       "      <td>20.396552</td>\n",
       "      <td>1248.916667</td>\n",
       "      <td>35.000000</td>\n",
       "      <td>16.571429</td>\n",
       "      <td>0.428571</td>\n",
       "    </tr>\n",
       "    <tr>\n",
       "      <th>5748056</th>\n",
       "      <td>2017-04-21</td>\n",
       "      <td>test</td>\n",
       "      <td>308.391364</td>\n",
       "      <td>7.381818</td>\n",
       "      <td>585.692593</td>\n",
       "      <td>17.111111</td>\n",
       "      <td>15.714286</td>\n",
       "      <td>1.285714</td>\n",
       "    </tr>\n",
       "    <tr>\n",
       "      <th>8823360</th>\n",
       "      <td>2017-04-21</td>\n",
       "      <td>test</td>\n",
       "      <td>2975.062576</td>\n",
       "      <td>67.072727</td>\n",
       "      <td>3119.368519</td>\n",
       "      <td>65.333333</td>\n",
       "      <td>15.714286</td>\n",
       "      <td>1.285714</td>\n",
       "    </tr>\n",
       "    <tr>\n",
       "      <th>10664542</th>\n",
       "      <td>2017-04-21</td>\n",
       "      <td>test</td>\n",
       "      <td>583.101061</td>\n",
       "      <td>17.690909</td>\n",
       "      <td>552.403704</td>\n",
       "      <td>12.444444</td>\n",
       "      <td>15.714286</td>\n",
       "      <td>1.285714</td>\n",
       "    </tr>\n",
       "    <tr>\n",
       "      <th>12230585</th>\n",
       "      <td>2017-04-21</td>\n",
       "      <td>test</td>\n",
       "      <td>441.990606</td>\n",
       "      <td>8.463636</td>\n",
       "      <td>636.014815</td>\n",
       "      <td>15.555556</td>\n",
       "      <td>15.714286</td>\n",
       "      <td>1.285714</td>\n",
       "    </tr>\n",
       "  </tbody>\n",
       "</table>\n",
       "</div>"
      ],
      "text/plain": [
       "                 maildate group   preminutes   precount  postminutes  \\\n",
       "customernumber                                                         \n",
       "3070553        2017-04-27  test   843.675000  20.396552  1248.916667   \n",
       "5748056        2017-04-21  test   308.391364   7.381818   585.692593   \n",
       "8823360        2017-04-21  test  2975.062576  67.072727  3119.368519   \n",
       "10664542       2017-04-21  test   583.101061  17.690909   552.403704   \n",
       "12230585       2017-04-21  test   441.990606   8.463636   636.014815   \n",
       "\n",
       "                postcount   preweeks  postweeks  \n",
       "customernumber                                   \n",
       "3070553         35.000000  16.571429   0.428571  \n",
       "5748056         17.111111  15.714286   1.285714  \n",
       "8823360         65.333333  15.714286   1.285714  \n",
       "10664542        12.444444  15.714286   1.285714  \n",
       "12230585        15.555556  15.714286   1.285714  "
      ]
     },
     "execution_count": 192,
     "metadata": {},
     "output_type": "execute_result"
    }
   ],
   "source": [
    "earliest = data.date.min()\n",
    "latest = data.date.max()\n",
    "\n",
    "counts['preweeks'] = counts.maildate.apply(lambda x: ((x - earliest).days) / float(7))\n",
    "counts['postweeks'] = counts.maildate.apply(lambda x: ((latest - x).days) / float(7))\n",
    "\n",
    "counts.precount = counts.precount / preweeks\n",
    "counts.preminutes = counts.preminutes / preweeks\n",
    "counts.postcount = counts.postcount / postweeks\n",
    "counts.postminutes = counts.postminutes / postweeks\n",
    "\n",
    "counts.head()"
   ]
  },
  {
   "cell_type": "code",
   "execution_count": 193,
   "metadata": {
    "collapsed": true
   },
   "outputs": [],
   "source": [
    "test = counts[counts.group=='test']\n",
    "control = counts[counts.group=='control']"
   ]
  },
  {
   "cell_type": "code",
   "execution_count": 194,
   "metadata": {
    "scrolled": false
   },
   "outputs": [
    {
     "name": "stdout",
     "output_type": "stream",
     "text": [
      "155 test records, 32 control records\n",
      "(415738.07820766675, 3268857.7666666382)\n"
     ]
    }
   ],
   "source": [
    "print len(test), 'test records,', len(control), 'control records'\n",
    "print (sum(test.preminutes) + sum(test.postminutes) + sum(control.preminutes) + sum(control.postminutes), sum(data.sum_srd))"
   ]
  },
  {
   "cell_type": "markdown",
   "metadata": {},
   "source": [
    "### Comparing Counts"
   ]
  },
  {
   "cell_type": "code",
   "execution_count": 185,
   "metadata": {},
   "outputs": [
    {
     "data": {
      "image/png": "[encoded data removed]",
      "text/plain": [
       "<matplotlib.figure.Figure at 0x10deaa490>"
      ]
     },
     "metadata": {},
     "output_type": "display_data"
    }
   ],
   "source": [
    "x = np.linspace(0,1, num=1000)\n",
    "fig = plt.figure(figsize=(18, 10))\n",
    "ax1 = fig.add_subplot(221); ax2 = fig.add_subplot(222)\n",
    "\n",
    "ax1.hist(test.precount, bins=50, alpha=0.75, label='Test group')\n",
    "ax1.hist(control.precount, bins=25, alpha=0.75, label='Control group')\n",
    "ax2.hist(test.postcount, bins=50, alpha=0.75, label='Test group')\n",
    "ax2.hist(control.postcount, bins=25, alpha=0.75, label='Control group')\n",
    "\n",
    "ax1.legend(); ax2.legend()\n",
    "ax1.set_title('Number of counts - pre trigger')\n",
    "ax2.set_title('Number of counts - post trigger')\n",
    "plt.show()"
   ]
  },
  {
   "cell_type": "markdown",
   "metadata": {},
   "source": [
    "Independent t-test between test & control pre-trigger should fail to reject null hypothesis as neither received mails. Fails to reject H0."
   ]
  },
  {
   "cell_type": "code",
   "execution_count": 186,
   "metadata": {},
   "outputs": [
    {
     "name": "stdout",
     "output_type": "stream",
     "text": [
      "Ttest_indResult(statistic=1.4884600167456039, pvalue=0.13833224735760394)\n",
      "Critical T values: (-1.9728699462074988, 1.9728699462074988)\n"
     ]
    }
   ],
   "source": [
    "print ttest_ind(test.precount, control.precount)\n",
    "print 'Critical T values:', t.interval(.95, len(test.precount) + len(control.precount) - 2)"
   ]
  },
  {
   "cell_type": "markdown",
   "metadata": {},
   "source": [
    "Independent t-test between test & control post-trigger should reject null hypothesis as one group received mails. Fails to reject H0."
   ]
  },
  {
   "cell_type": "code",
   "execution_count": 187,
   "metadata": {
    "scrolled": true
   },
   "outputs": [
    {
     "name": "stdout",
     "output_type": "stream",
     "text": [
      "Ttest_indResult(statistic=1.5609212688843455, pvalue=0.12025134135943225)\n",
      "Critical T values: (-1.9728699462074988, 1.9728699462074988)\n"
     ]
    }
   ],
   "source": [
    "print ttest_ind(test.postcount, control.postcount)\n",
    "print 'Critical T values:', t.interval(.95, len(test.postcount) + len(control.postcount) - 2)"
   ]
  },
  {
   "cell_type": "markdown",
   "metadata": {},
   "source": [
    "### Comparing Minutes"
   ]
  },
  {
   "cell_type": "code",
   "execution_count": 188,
   "metadata": {
    "scrolled": true
   },
   "outputs": [
    {
     "data": {
      "image/png": "[encoded data removed]",
      "text/plain": [
       "<matplotlib.figure.Figure at 0x10e28a610>"
      ]
     },
     "metadata": {},
     "output_type": "display_data"
    }
   ],
   "source": [
    "x = np.linspace(0,1, num=1000)\n",
    "fig = plt.figure(figsize=(18, 10))\n",
    "ax1 = fig.add_subplot(221); ax2 = fig.add_subplot(222)\n",
    "\n",
    "ax1.hist(test.preminutes, bins=50, alpha=0.75, label='Test group')\n",
    "ax1.hist(control.preminutes, bins=25, alpha=0.75, label='Control group')\n",
    "ax2.hist(test.postminutes, bins=50, alpha=0.75, label='Test group')\n",
    "ax2.hist(control.postminutes, bins=25, alpha=0.75, label='Control group')\n",
    "\n",
    "ax1.legend(); ax2.legend()\n",
    "ax1.set_title('Minutes watched - pre trigger')\n",
    "ax2.set_title('Minutes watched - post trigger')\n",
    "plt.show()"
   ]
  },
  {
   "cell_type": "markdown",
   "metadata": {},
   "source": [
    "Independent t-test between test & control pre-trigger should fail to reject null hypothesis as neither received mails. Fails to reject H0."
   ]
  },
  {
   "cell_type": "code",
   "execution_count": 189,
   "metadata": {},
   "outputs": [
    {
     "name": "stdout",
     "output_type": "stream",
     "text": [
      "Ttest_indResult(statistic=1.1732013956334171, pvalue=0.24222335189729957)\n",
      "Critical T values: (-1.9728699462074988, 1.9728699462074988)\n"
     ]
    }
   ],
   "source": [
    "print ttest_ind(test.preminutes, control.preminutes)\n",
    "print 'Critical T values:', t.interval(.95, len(test) + len(control) - 2)"
   ]
  },
  {
   "cell_type": "markdown",
   "metadata": {},
   "source": [
    "Independent t-test between test & control post-trigger should reject null hypothesis as one group received mails. Fails to reject H0."
   ]
  },
  {
   "cell_type": "code",
   "execution_count": 190,
   "metadata": {
    "scrolled": false
   },
   "outputs": [
    {
     "name": "stdout",
     "output_type": "stream",
     "text": [
      "Ttest_indResult(statistic=1.0697839021541378, pvalue=0.28611037106492243)\n",
      "Critical T value: (-1.9728699462074988, 1.9728699462074988)\n"
     ]
    }
   ],
   "source": [
    "print ttest_ind(test.postminutes, control.postminutes)\n",
    "print 'Critical T value:', t.interval(.95, len(test) + len(control) - 2)"
   ]
  },
  {
   "cell_type": "code",
   "execution_count": null,
   "metadata": {
    "collapsed": true
   },
   "outputs": [],
   "source": []
  }
 ],
 "metadata": {
  "kernelspec": {
   "display_name": "Python 2",
   "language": "python",
   "name": "python2"
  },
  "language_info": {
   "codemirror_mode": {
    "name": "ipython",
    "version": 2
   },
   "file_extension": ".py",
   "mimetype": "text/x-python",
   "name": "python",
   "nbconvert_exporter": "python",
   "pygments_lexer": "ipython2",
   "version": "2.7.13"
  }
 },
 "nbformat": 4,
 "nbformat_minor": 2
}
