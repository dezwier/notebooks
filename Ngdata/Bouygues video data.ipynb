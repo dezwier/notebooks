{
 "cells": [
  {
   "cell_type": "markdown",
   "metadata": {},
   "source": [
    "# Comparing Bouygues data pre & post trigger"
   ]
  },
  {
   "cell_type": "code",
   "execution_count": 1,
   "metadata": {
    "collapsed": true
   },
   "outputs": [],
   "source": [
    "import pandas as pd\n",
    "import numpy as np\n",
    "import matplotlib.pyplot as plt\n",
    "from datetime import datetime\n",
    "from scipy.stats import norm, t, ttest_ind, ttest_rel"
   ]
  },
  {
   "cell_type": "markdown",
   "metadata": {},
   "source": [
    "1. [Series](#Series)    \n",
    "2. [Play More](#Play-More)"
   ]
  },
  {
   "cell_type": "markdown",
   "metadata": {
    "collapsed": true
   },
   "source": [
    "# Series\n",
    "### Load Data"
   ]
  },
  {
   "cell_type": "code",
   "execution_count": 58,
   "metadata": {},
   "outputs": [
    {
     "name": "stdout",
     "output_type": "stream",
     "text": [
      "3628 records\n"
     ]
    },
    {
     "data": {
      "text/html": [
       "<div>\n",
       "<table border=\"1\" class=\"dataframe\">\n",
       "  <thead>\n",
       "    <tr style=\"text-align: right;\">\n",
       "      <th></th>\n",
       "      <th>customernumber</th>\n",
       "      <th>timestamp</th>\n",
       "      <th>programcrid</th>\n",
       "      <th>programseriesname</th>\n",
       "      <th>sessionrecordduration</th>\n",
       "      <th>date</th>\n",
       "    </tr>\n",
       "  </thead>\n",
       "  <tbody>\n",
       "    <tr>\n",
       "      <th>2730</th>\n",
       "      <td>1029981160</td>\n",
       "      <td>1492552700000</td>\n",
       "      <td>crid://telenet.be/AA/TN00036628_02_0005-OSNL-SD</td>\n",
       "      <td>Ordinary Lies</td>\n",
       "      <td>37.850000</td>\n",
       "      <td>2017-04-18 23:58:20</td>\n",
       "    </tr>\n",
       "    <tr>\n",
       "      <th>2731</th>\n",
       "      <td>1029981160</td>\n",
       "      <td>1492549286000</td>\n",
       "      <td>crid://telenet.be/AA/TN00036628_02_0004-OSNL-SD</td>\n",
       "      <td>Ordinary Lies</td>\n",
       "      <td>23.116667</td>\n",
       "      <td>2017-04-18 23:01:26</td>\n",
       "    </tr>\n",
       "    <tr>\n",
       "      <th>2347</th>\n",
       "      <td>1029981160</td>\n",
       "      <td>1492381705000</td>\n",
       "      <td>crid://telenet.be/AA/TN00036628_02_0002-OSNL-SD</td>\n",
       "      <td>Ordinary Lies</td>\n",
       "      <td>48.150000</td>\n",
       "      <td>2017-04-17 00:28:25</td>\n",
       "    </tr>\n",
       "    <tr>\n",
       "      <th>2348</th>\n",
       "      <td>1029981160</td>\n",
       "      <td>1492380671000</td>\n",
       "      <td>crid://telenet.be/AA/TN00036628_02_0001-OSNL-SD</td>\n",
       "      <td>Ordinary Lies</td>\n",
       "      <td>17.133333</td>\n",
       "      <td>2017-04-17 00:11:11</td>\n",
       "    </tr>\n",
       "    <tr>\n",
       "      <th>2349</th>\n",
       "      <td>1029981160</td>\n",
       "      <td>1492304022000</td>\n",
       "      <td>crid://telenet.be/AA/TN00036628_02_0001-OSNL-SD</td>\n",
       "      <td>Ordinary Lies</td>\n",
       "      <td>51.616667</td>\n",
       "      <td>2017-04-16 02:53:42</td>\n",
       "    </tr>\n",
       "  </tbody>\n",
       "</table>\n",
       "</div>"
      ],
      "text/plain": [
       "      customernumber      timestamp  \\\n",
       "2730      1029981160  1492552700000   \n",
       "2731      1029981160  1492549286000   \n",
       "2347      1029981160  1492381705000   \n",
       "2348      1029981160  1492380671000   \n",
       "2349      1029981160  1492304022000   \n",
       "\n",
       "                                          programcrid programseriesname  \\\n",
       "2730  crid://telenet.be/AA/TN00036628_02_0005-OSNL-SD     Ordinary Lies   \n",
       "2731  crid://telenet.be/AA/TN00036628_02_0004-OSNL-SD     Ordinary Lies   \n",
       "2347  crid://telenet.be/AA/TN00036628_02_0002-OSNL-SD     Ordinary Lies   \n",
       "2348  crid://telenet.be/AA/TN00036628_02_0001-OSNL-SD     Ordinary Lies   \n",
       "2349  crid://telenet.be/AA/TN00036628_02_0001-OSNL-SD     Ordinary Lies   \n",
       "\n",
       "      sessionrecordduration                date  \n",
       "2730              37.850000 2017-04-18 23:58:20  \n",
       "2731              23.116667 2017-04-18 23:01:26  \n",
       "2347              48.150000 2017-04-17 00:28:25  \n",
       "2348              17.133333 2017-04-17 00:11:11  \n",
       "2349              51.616667 2017-04-16 02:53:42  "
      ]
     },
     "execution_count": 58,
     "metadata": {},
     "output_type": "execute_result"
    }
   ],
   "source": [
    "series = pd.read_excel('query_result (64).xls')\n",
    "series['date'] = series.timestamp.apply(lambda x: datetime.fromtimestamp(x/1000))\n",
    "print len(series), 'records'\n",
    "series.sort_values('customernumber', ascending=False).head()"
   ]
  },
  {
   "cell_type": "code",
   "execution_count": 59,
   "metadata": {},
   "outputs": [
    {
     "name": "stdout",
     "output_type": "stream",
     "text": [
      "201 records\n"
     ]
    },
    {
     "data": {
      "text/html": [
       "<div>\n",
       "<table border=\"1\" class=\"dataframe\">\n",
       "  <thead>\n",
       "    <tr style=\"text-align: right;\">\n",
       "      <th></th>\n",
       "      <th>customernumber</th>\n",
       "      <th>group</th>\n",
       "      <th>series</th>\n",
       "      <th>maildate</th>\n",
       "    </tr>\n",
       "  </thead>\n",
       "  <tbody>\n",
       "    <tr>\n",
       "      <th>196</th>\n",
       "      <td>264411488</td>\n",
       "      <td>test</td>\n",
       "      <td>Ordinary Lies</td>\n",
       "      <td>2017-04-27</td>\n",
       "    </tr>\n",
       "    <tr>\n",
       "      <th>197</th>\n",
       "      <td>592780033</td>\n",
       "      <td>test</td>\n",
       "      <td>Ordinary Lies</td>\n",
       "      <td>2017-04-27</td>\n",
       "    </tr>\n",
       "    <tr>\n",
       "      <th>198</th>\n",
       "      <td>663266802</td>\n",
       "      <td>test</td>\n",
       "      <td>Ordinary Lies</td>\n",
       "      <td>2017-04-27</td>\n",
       "    </tr>\n",
       "    <tr>\n",
       "      <th>199</th>\n",
       "      <td>671609509</td>\n",
       "      <td>test</td>\n",
       "      <td>Ordinary Lies</td>\n",
       "      <td>2017-04-27</td>\n",
       "    </tr>\n",
       "    <tr>\n",
       "      <th>200</th>\n",
       "      <td>683208786</td>\n",
       "      <td>test</td>\n",
       "      <td>Ordinary Lies</td>\n",
       "      <td>2017-04-27</td>\n",
       "    </tr>\n",
       "  </tbody>\n",
       "</table>\n",
       "</div>"
      ],
      "text/plain": [
       "    customernumber group         series   maildate\n",
       "196      264411488  test  Ordinary Lies 2017-04-27\n",
       "197      592780033  test  Ordinary Lies 2017-04-27\n",
       "198      663266802  test  Ordinary Lies 2017-04-27\n",
       "199      671609509  test  Ordinary Lies 2017-04-27\n",
       "200      683208786  test  Ordinary Lies 2017-04-27"
      ]
     },
     "execution_count": 59,
     "metadata": {},
     "output_type": "execute_result"
    }
   ],
   "source": [
    "header = ['customernumber', 'group', 'series', 'maildate']\n",
    "mails = pd.read_excel('eval OOC triggers mail.xlsx', sheetname=2, names=header)\n",
    "print len(mails), 'records'\n",
    "mails.tail()"
   ]
  },
  {
   "cell_type": "code",
   "execution_count": 144,
   "metadata": {
    "scrolled": true
   },
   "outputs": [
    {
     "name": "stdout",
     "output_type": "stream",
     "text": [
      "3611 records\n"
     ]
    },
    {
     "data": {
      "text/html": [
       "<div>\n",
       "<table border=\"1\" class=\"dataframe\">\n",
       "  <thead>\n",
       "    <tr style=\"text-align: right;\">\n",
       "      <th></th>\n",
       "      <th>customernumber</th>\n",
       "      <th>group</th>\n",
       "      <th>series</th>\n",
       "      <th>maildate</th>\n",
       "      <th>date</th>\n",
       "      <th>sessionrecordduration</th>\n",
       "    </tr>\n",
       "  </thead>\n",
       "  <tbody>\n",
       "    <tr>\n",
       "      <th>485</th>\n",
       "      <td>723149245</td>\n",
       "      <td>test</td>\n",
       "      <td>Black-ish</td>\n",
       "      <td>2017-04-21</td>\n",
       "      <td>2017-04-30 23:42:58</td>\n",
       "      <td>20.716667</td>\n",
       "    </tr>\n",
       "    <tr>\n",
       "      <th>483</th>\n",
       "      <td>723149245</td>\n",
       "      <td>test</td>\n",
       "      <td>Black-ish</td>\n",
       "      <td>2017-04-21</td>\n",
       "      <td>2017-04-30 23:22:23</td>\n",
       "      <td>20.500000</td>\n",
       "    </tr>\n",
       "    <tr>\n",
       "      <th>482</th>\n",
       "      <td>723149245</td>\n",
       "      <td>test</td>\n",
       "      <td>Black-ish</td>\n",
       "      <td>2017-04-21</td>\n",
       "      <td>2017-04-30 23:01:40</td>\n",
       "      <td>20.633333</td>\n",
       "    </tr>\n",
       "    <tr>\n",
       "      <th>484</th>\n",
       "      <td>723149245</td>\n",
       "      <td>test</td>\n",
       "      <td>Black-ish</td>\n",
       "      <td>2017-04-21</td>\n",
       "      <td>2017-04-30 22:40:51</td>\n",
       "      <td>20.716667</td>\n",
       "    </tr>\n",
       "    <tr>\n",
       "      <th>493</th>\n",
       "      <td>723149245</td>\n",
       "      <td>test</td>\n",
       "      <td>Black-ish</td>\n",
       "      <td>2017-04-21</td>\n",
       "      <td>2017-04-30 22:26:00</td>\n",
       "      <td>14.566667</td>\n",
       "    </tr>\n",
       "  </tbody>\n",
       "</table>\n",
       "</div>"
      ],
      "text/plain": [
       "    customernumber group     series   maildate                date  \\\n",
       "485      723149245  test  Black-ish 2017-04-21 2017-04-30 23:42:58   \n",
       "483      723149245  test  Black-ish 2017-04-21 2017-04-30 23:22:23   \n",
       "482      723149245  test  Black-ish 2017-04-21 2017-04-30 23:01:40   \n",
       "484      723149245  test  Black-ish 2017-04-21 2017-04-30 22:40:51   \n",
       "493      723149245  test  Black-ish 2017-04-21 2017-04-30 22:26:00   \n",
       "\n",
       "     sessionrecordduration  \n",
       "485              20.716667  \n",
       "483              20.500000  \n",
       "482              20.633333  \n",
       "484              20.716667  \n",
       "493              14.566667  "
      ]
     },
     "execution_count": 144,
     "metadata": {},
     "output_type": "execute_result"
    }
   ],
   "source": [
    "data = pd.merge(mails, series, on='customernumber')\n",
    "data = data[data.series == data.programseriesname]\n",
    "data = data[['customernumber', 'group', 'series', 'maildate', 'date', 'sessionrecordduration']]\n",
    "print len(data), 'records'\n",
    "data.sort_values('date', ascending=False).head()"
   ]
  },
  {
   "cell_type": "markdown",
   "metadata": {},
   "source": [
    "### Retrieve viewing counts, minutes watched and averages"
   ]
  },
  {
   "cell_type": "markdown",
   "metadata": {},
   "source": [
    "Viewings splitted pre and post trigger"
   ]
  },
  {
   "cell_type": "code",
   "execution_count": 145,
   "metadata": {
    "collapsed": true
   },
   "outputs": [],
   "source": [
    "pre = data[(data.maildate - data.date) > pd.Timedelta(0)]\n",
    "post = data[(data.maildate - data.date) <= pd.Timedelta(0)]"
   ]
  },
  {
   "cell_type": "markdown",
   "metadata": {},
   "source": [
    "Number of viewings and total minutes watched grouped per customer"
   ]
  },
  {
   "cell_type": "code",
   "execution_count": 146,
   "metadata": {
    "collapsed": true
   },
   "outputs": [],
   "source": [
    "pre = pre.groupby(['customernumber']).agg({'group':'min', 'customernumber':'count', 'sessionrecordduration':'sum'})\n",
    "post = post.groupby(['customernumber']).agg({'group':'min', 'customernumber':'count', 'sessionrecordduration':'sum'})"
   ]
  },
  {
   "cell_type": "markdown",
   "metadata": {},
   "source": [
    "Include average minutes per viewing"
   ]
  },
  {
   "cell_type": "code",
   "execution_count": 147,
   "metadata": {},
   "outputs": [
    {
     "data": {
      "text/html": [
       "<div>\n",
       "<table border=\"1\" class=\"dataframe\">\n",
       "  <thead>\n",
       "    <tr style=\"text-align: right;\">\n",
       "      <th></th>\n",
       "      <th>group</th>\n",
       "      <th>customernumber</th>\n",
       "      <th>sessionrecordduration</th>\n",
       "      <th>average</th>\n",
       "    </tr>\n",
       "    <tr>\n",
       "      <th>customernumber</th>\n",
       "      <th></th>\n",
       "      <th></th>\n",
       "      <th></th>\n",
       "      <th></th>\n",
       "    </tr>\n",
       "  </thead>\n",
       "  <tbody>\n",
       "    <tr>\n",
       "      <th>3070553</th>\n",
       "      <td>test</td>\n",
       "      <td>2</td>\n",
       "      <td>41.433333</td>\n",
       "      <td>20.716667</td>\n",
       "    </tr>\n",
       "    <tr>\n",
       "      <th>10664542</th>\n",
       "      <td>test</td>\n",
       "      <td>4</td>\n",
       "      <td>82.300000</td>\n",
       "      <td>20.575000</td>\n",
       "    </tr>\n",
       "    <tr>\n",
       "      <th>12230585</th>\n",
       "      <td>test</td>\n",
       "      <td>9</td>\n",
       "      <td>185.283333</td>\n",
       "      <td>20.587037</td>\n",
       "    </tr>\n",
       "    <tr>\n",
       "      <th>14710250</th>\n",
       "      <td>test</td>\n",
       "      <td>7</td>\n",
       "      <td>143.216667</td>\n",
       "      <td>20.459524</td>\n",
       "    </tr>\n",
       "    <tr>\n",
       "      <th>19657351</th>\n",
       "      <td>control</td>\n",
       "      <td>4</td>\n",
       "      <td>77.516667</td>\n",
       "      <td>19.379167</td>\n",
       "    </tr>\n",
       "  </tbody>\n",
       "</table>\n",
       "</div>"
      ],
      "text/plain": [
       "                  group  customernumber  sessionrecordduration    average\n",
       "customernumber                                                           \n",
       "3070553            test               2              41.433333  20.716667\n",
       "10664542           test               4              82.300000  20.575000\n",
       "12230585           test               9             185.283333  20.587037\n",
       "14710250           test               7             143.216667  20.459524\n",
       "19657351        control               4              77.516667  19.379167"
      ]
     },
     "execution_count": 147,
     "metadata": {},
     "output_type": "execute_result"
    }
   ],
   "source": [
    "pre['average'] = pre.sessionrecordduration / pre.customernumber\n",
    "post['average'] = post.sessionrecordduration / post.customernumber\n",
    "post.head()"
   ]
  },
  {
   "cell_type": "markdown",
   "metadata": {},
   "source": [
    "Merge pre and post to include zero values per customer"
   ]
  },
  {
   "cell_type": "code",
   "execution_count": 148,
   "metadata": {
    "scrolled": true
   },
   "outputs": [
    {
     "data": {
      "text/html": [
       "<div>\n",
       "<table border=\"1\" class=\"dataframe\">\n",
       "  <thead>\n",
       "    <tr style=\"text-align: right;\">\n",
       "      <th></th>\n",
       "      <th>group</th>\n",
       "      <th>precount</th>\n",
       "      <th>preminutes</th>\n",
       "      <th>preaverage</th>\n",
       "      <th>postcount</th>\n",
       "      <th>postminutes</th>\n",
       "      <th>postaverage</th>\n",
       "    </tr>\n",
       "    <tr>\n",
       "      <th>customernumber</th>\n",
       "      <th></th>\n",
       "      <th></th>\n",
       "      <th></th>\n",
       "      <th></th>\n",
       "      <th></th>\n",
       "      <th></th>\n",
       "      <th></th>\n",
       "    </tr>\n",
       "  </thead>\n",
       "  <tbody>\n",
       "    <tr>\n",
       "      <th>3070553</th>\n",
       "      <td>test</td>\n",
       "      <td>29</td>\n",
       "      <td>635.850000</td>\n",
       "      <td>21.925862</td>\n",
       "      <td>2.0</td>\n",
       "      <td>41.433333</td>\n",
       "      <td>20.716667</td>\n",
       "    </tr>\n",
       "    <tr>\n",
       "      <th>5748056</th>\n",
       "      <td>test</td>\n",
       "      <td>28</td>\n",
       "      <td>521.250000</td>\n",
       "      <td>18.616071</td>\n",
       "      <td>0.0</td>\n",
       "      <td>0.000000</td>\n",
       "      <td>0.000000</td>\n",
       "    </tr>\n",
       "    <tr>\n",
       "      <th>8823360</th>\n",
       "      <td>test</td>\n",
       "      <td>6</td>\n",
       "      <td>152.800000</td>\n",
       "      <td>25.466667</td>\n",
       "      <td>0.0</td>\n",
       "      <td>0.000000</td>\n",
       "      <td>0.000000</td>\n",
       "    </tr>\n",
       "    <tr>\n",
       "      <th>10664542</th>\n",
       "      <td>test</td>\n",
       "      <td>34</td>\n",
       "      <td>681.316667</td>\n",
       "      <td>20.038725</td>\n",
       "      <td>4.0</td>\n",
       "      <td>82.300000</td>\n",
       "      <td>20.575000</td>\n",
       "    </tr>\n",
       "    <tr>\n",
       "      <th>12230585</th>\n",
       "      <td>test</td>\n",
       "      <td>13</td>\n",
       "      <td>246.366667</td>\n",
       "      <td>18.951282</td>\n",
       "      <td>9.0</td>\n",
       "      <td>185.283333</td>\n",
       "      <td>20.587037</td>\n",
       "    </tr>\n",
       "    <tr>\n",
       "      <th>13607581</th>\n",
       "      <td>control</td>\n",
       "      <td>6</td>\n",
       "      <td>124.000000</td>\n",
       "      <td>20.666667</td>\n",
       "      <td>0.0</td>\n",
       "      <td>0.000000</td>\n",
       "      <td>0.000000</td>\n",
       "    </tr>\n",
       "    <tr>\n",
       "      <th>14710250</th>\n",
       "      <td>test</td>\n",
       "      <td>8</td>\n",
       "      <td>160.750000</td>\n",
       "      <td>20.093750</td>\n",
       "      <td>7.0</td>\n",
       "      <td>143.216667</td>\n",
       "      <td>20.459524</td>\n",
       "    </tr>\n",
       "    <tr>\n",
       "      <th>15678735</th>\n",
       "      <td>test</td>\n",
       "      <td>5</td>\n",
       "      <td>166.866667</td>\n",
       "      <td>33.373333</td>\n",
       "      <td>0.0</td>\n",
       "      <td>0.000000</td>\n",
       "      <td>0.000000</td>\n",
       "    </tr>\n",
       "    <tr>\n",
       "      <th>16645503</th>\n",
       "      <td>test</td>\n",
       "      <td>6</td>\n",
       "      <td>257.233333</td>\n",
       "      <td>42.872222</td>\n",
       "      <td>0.0</td>\n",
       "      <td>0.000000</td>\n",
       "      <td>0.000000</td>\n",
       "    </tr>\n",
       "    <tr>\n",
       "      <th>19657351</th>\n",
       "      <td>control</td>\n",
       "      <td>18</td>\n",
       "      <td>357.116667</td>\n",
       "      <td>19.839815</td>\n",
       "      <td>4.0</td>\n",
       "      <td>77.516667</td>\n",
       "      <td>19.379167</td>\n",
       "    </tr>\n",
       "  </tbody>\n",
       "</table>\n",
       "</div>"
      ],
      "text/plain": [
       "                  group  precount  preminutes  preaverage  postcount  \\\n",
       "customernumber                                                         \n",
       "3070553            test        29  635.850000   21.925862        2.0   \n",
       "5748056            test        28  521.250000   18.616071        0.0   \n",
       "8823360            test         6  152.800000   25.466667        0.0   \n",
       "10664542           test        34  681.316667   20.038725        4.0   \n",
       "12230585           test        13  246.366667   18.951282        9.0   \n",
       "13607581        control         6  124.000000   20.666667        0.0   \n",
       "14710250           test         8  160.750000   20.093750        7.0   \n",
       "15678735           test         5  166.866667   33.373333        0.0   \n",
       "16645503           test         6  257.233333   42.872222        0.0   \n",
       "19657351        control        18  357.116667   19.839815        4.0   \n",
       "\n",
       "                postminutes  postaverage  \n",
       "customernumber                            \n",
       "3070553           41.433333    20.716667  \n",
       "5748056            0.000000     0.000000  \n",
       "8823360            0.000000     0.000000  \n",
       "10664542          82.300000    20.575000  \n",
       "12230585         185.283333    20.587037  \n",
       "13607581           0.000000     0.000000  \n",
       "14710250         143.216667    20.459524  \n",
       "15678735           0.000000     0.000000  \n",
       "16645503           0.000000     0.000000  \n",
       "19657351          77.516667    19.379167  "
      ]
     },
     "execution_count": 148,
     "metadata": {},
     "output_type": "execute_result"
    }
   ],
   "source": [
    "counts = pd.merge(pre, post, left_index=True, right_index=True, how='outer').fillna(0)\n",
    "counts.drop('group_y', 1, inplace=True)\n",
    "counts.columns=['group', 'precount', 'preminutes', 'preaverage', 'postcount', 'postminutes', 'postaverage']\n",
    "counts.head(10)"
   ]
  },
  {
   "cell_type": "markdown",
   "metadata": {},
   "source": [
    "### Retrieve values"
   ]
  },
  {
   "cell_type": "code",
   "execution_count": 149,
   "metadata": {},
   "outputs": [],
   "source": [
    "# To Include 0 values\n",
    "pretestcount = counts[counts.group=='test'].precount\n",
    "precontrolcount = counts[counts.group=='control'].precount\n",
    "posttestcount = counts[counts.group=='test'].postcount\n",
    "postcontrolcount = counts[counts.group=='control'].postcount\n",
    "\n",
    "pretestminutes = counts[counts.group=='test'].preminutes\n",
    "precontrolminutes = counts[counts.group=='control'].preminutes\n",
    "posttestminutes = counts[counts.group=='test'].postminutes\n",
    "postcontrolminutes = counts[counts.group=='control'].postminutes\n",
    "\n",
    "pretestaverage = counts[counts.group=='test'].preaverage\n",
    "precontrolaverage = counts[counts.group=='control'].preaverage\n",
    "posttestaverage = counts[counts.group=='test'].postaverage\n",
    "postcontrolaverage = counts[counts.group=='control'].postaverage\n",
    "\n",
    "# To exclude 0 values\n",
    "pretestcount = pre[pre.group=='test'].customernumber\n",
    "precontrolcount = pre[pre.group=='control'].customernumber\n",
    "posttestcount = post[post.group=='test'].customernumber\n",
    "postcontrolcount = post[post.group=='control'].customernumber\n",
    "\n",
    "pretestminutes = pre[pre.group=='test'].sessionrecordduration\n",
    "precontrolminutes = pre[pre.group=='control'].sessionrecordduration\n",
    "posttestminutes = post[post.group=='test'].sessionrecordduration\n",
    "postcontrolminutes = post[post.group=='control'].sessionrecordduration\n",
    "\n",
    "pretestaverage = pre[pre.group=='test'].average\n",
    "precontrolaverage = pre[pre.group=='control'].average\n",
    "posttestaverage = post[post.group=='test'].average\n",
    "postcontrolaverage = post[post.group=='control'].average"
   ]
  },
  {
   "cell_type": "markdown",
   "metadata": {},
   "source": [
    "Check"
   ]
  },
  {
   "cell_type": "code",
   "execution_count": 150,
   "metadata": {
    "scrolled": false
   },
   "outputs": [
    {
     "name": "stdout",
     "output_type": "stream",
     "text": [
      "(3611, 3611)\n",
      "(73911.933333341207, 73911.93333334144)\n",
      "154 30 63 14\n"
     ]
    }
   ],
   "source": [
    "print (sum(pretestcount) + sum(precontrolcount) + sum(postcontrolcount) + sum(posttestcount), len(data))\n",
    "print (sum(pretestminutes) + sum(precontrolminutes) + sum(postcontrolminutes) + sum(posttestminutes), sum(data.sessionrecordduration))\n",
    "print len(pretestaverage), len(precontrolaverage), len(posttestaverage), len(postcontrolaverage)"
   ]
  },
  {
   "cell_type": "markdown",
   "metadata": {},
   "source": [
    "### Comparing Counts"
   ]
  },
  {
   "cell_type": "code",
   "execution_count": 99,
   "metadata": {},
   "outputs": [
    {
     "data": {
      "image/png": "[encoded data removed]",
      "text/plain": [
       "<matplotlib.figure.Figure at 0x1166dd110>"
      ]
     },
     "metadata": {},
     "output_type": "display_data"
    }
   ],
   "source": [
    "x = np.linspace(0,1, num=1000)\n",
    "fig = plt.figure(figsize=(18, 10))\n",
    "ax1 = fig.add_subplot(221); ax2 = fig.add_subplot(222)\n",
    "\n",
    "ax1.hist(pretestcount, bins=50, alpha=0.75, label='Test group')\n",
    "ax1.hist(precontrolcount, bins=50, alpha=0.75, label='Control group')\n",
    "ax2.hist(posttestcount, bins=50, alpha=0.75, label='Test group')\n",
    "ax2.hist(postcontrolcount, bins=50, alpha=0.75, label='Control group')\n",
    "\n",
    "ax1.legend(); ax2.legend()\n",
    "ax1.set_title('Number of series watched - pre trigger')\n",
    "ax2.set_title('Number of series watched - post trigger')\n",
    "plt.show()"
   ]
  },
  {
   "cell_type": "markdown",
   "metadata": {},
   "source": [
    "Independent t-test between test & control pre-trigger should fail to reject null hypothesis as neither received mails. Fails to reject H0."
   ]
  },
  {
   "cell_type": "code",
   "execution_count": 100,
   "metadata": {},
   "outputs": [
    {
     "name": "stdout",
     "output_type": "stream",
     "text": [
      "Ttest_indResult(statistic=-0.25623210434201216, pvalue=0.79806101233390092)\n",
      "Critical T values: (-1.9730840773322158, 1.9730840773322158)\n"
     ]
    }
   ],
   "source": [
    "print ttest_ind(pretestcount, precontrolcount)\n",
    "print 'Critical T values:', t.interval(.95, len(pretestcount) + len(precontrolcount) - 2)"
   ]
  },
  {
   "cell_type": "markdown",
   "metadata": {},
   "source": [
    "Independent t-test between test & control post-trigger should reject null hypothesis as one group received mails. Fails to reject H0."
   ]
  },
  {
   "cell_type": "code",
   "execution_count": 101,
   "metadata": {
    "scrolled": true
   },
   "outputs": [
    {
     "name": "stdout",
     "output_type": "stream",
     "text": [
      "Ttest_indResult(statistic=0.63210355511237049, pvalue=0.52924143590011252)\n",
      "Critical T value: (-1.9921021536898653, 1.9921021536898653)\n"
     ]
    }
   ],
   "source": [
    "print ttest_ind(posttestcount, postcontrolcount)\n",
    "print 'Critical T value:', t.interval(.95, len(posttestcount) + len(postcontrolcount) - 2)"
   ]
  },
  {
   "cell_type": "markdown",
   "metadata": {},
   "source": [
    "### Comparing Minutes"
   ]
  },
  {
   "cell_type": "code",
   "execution_count": 104,
   "metadata": {
    "scrolled": true
   },
   "outputs": [
    {
     "data": {
      "image/png": "[encoded data removed]",
      "text/plain": [
       "<matplotlib.figure.Figure at 0x116265390>"
      ]
     },
     "metadata": {},
     "output_type": "display_data"
    }
   ],
   "source": [
    "x = np.linspace(0,1, num=1000)\n",
    "fig = plt.figure(figsize=(18, 10))\n",
    "ax1 = fig.add_subplot(221); ax2 = fig.add_subplot(222)\n",
    "\n",
    "ax1.hist(pretestminutes, bins=50, alpha=0.75, label='Test group')\n",
    "ax1.hist(precontrolminutes, bins=50, alpha=0.75, label='Control group')\n",
    "ax2.hist(posttestminutes, bins=50, alpha=0.75, label='Test group')\n",
    "ax2.hist(postcontrolminutes, bins=50, alpha=0.75, label='Control group')\n",
    "\n",
    "ax1.legend(); ax2.legend()\n",
    "ax1.set_title('Minutes watched - pre trigger')\n",
    "ax2.set_title('Minutes watched - post trigger')\n",
    "plt.show()"
   ]
  },
  {
   "cell_type": "markdown",
   "metadata": {},
   "source": [
    "Independent t-test between test & control pre-trigger should fail to reject null hypothesis as neither received mails. Fails to reject H0."
   ]
  },
  {
   "cell_type": "code",
   "execution_count": 105,
   "metadata": {},
   "outputs": [
    {
     "name": "stdout",
     "output_type": "stream",
     "text": [
      "Ttest_indResult(statistic=-0.1466365482075673, pvalue=0.88358120332375623)\n",
      "Critical T values: (-1.9730840773322158, 1.9730840773322158)\n"
     ]
    }
   ],
   "source": [
    "print ttest_ind(pretestminutes, precontrolminutes)\n",
    "print 'Critical T values:', t.interval(.95, len(pretestminutes) + len(precontrolminutes) - 2)"
   ]
  },
  {
   "cell_type": "markdown",
   "metadata": {},
   "source": [
    "Independent t-test between test & control post-trigger should reject null hypothesis as one group received mails. Fails to reject H0."
   ]
  },
  {
   "cell_type": "code",
   "execution_count": 106,
   "metadata": {
    "scrolled": true
   },
   "outputs": [
    {
     "name": "stdout",
     "output_type": "stream",
     "text": [
      "Ttest_indResult(statistic=0.72941396325706476, pvalue=0.46802039023171926)\n",
      "Critical T value: (-1.9921021536898653, 1.9921021536898653)\n"
     ]
    }
   ],
   "source": [
    "print ttest_ind(posttestminutes, postcontrolminutes)\n",
    "print 'Critical T value:', t.interval(.95, len(posttestminutes) + len(postcontrolminutes) - 2)"
   ]
  },
  {
   "cell_type": "markdown",
   "metadata": {},
   "source": [
    "### Comparing Averages"
   ]
  },
  {
   "cell_type": "code",
   "execution_count": 109,
   "metadata": {
    "scrolled": true
   },
   "outputs": [
    {
     "data": {
      "image/png": "[encoded data removed]",
      "text/plain": [
       "<matplotlib.figure.Figure at 0x115584790>"
      ]
     },
     "metadata": {},
     "output_type": "display_data"
    }
   ],
   "source": [
    "x = np.linspace(0,1, num=1000)\n",
    "fig = plt.figure(figsize=(18, 10))\n",
    "ax1 = fig.add_subplot(221); ax2 = fig.add_subplot(222)\n",
    "\n",
    "ax1.hist(pretestaverage, bins=50, alpha=0.75, label='Test group')\n",
    "ax1.hist(precontrolaverage, bins=50, alpha=0.75, label='Control group')\n",
    "ax2.hist(posttestaverage, bins=50, alpha=0.75, label='Test group')\n",
    "ax2.hist(postcontrolaverage, bins=50, alpha=0.75, label='Control group')\n",
    "\n",
    "ax1.legend(); ax2.legend()\n",
    "ax1.set_title('Average minutes per viewing - pre trigger')\n",
    "ax2.set_title('Average minutes per viewing - post trigger')\n",
    "plt.show()"
   ]
  },
  {
   "cell_type": "markdown",
   "metadata": {},
   "source": [
    "Independent t-test between test & control pre-trigger should fail to reject null hypothesis as neither received mails. Fails to reject H0."
   ]
  },
  {
   "cell_type": "code",
   "execution_count": 110,
   "metadata": {},
   "outputs": [
    {
     "name": "stdout",
     "output_type": "stream",
     "text": [
      "Ttest_indResult(statistic=0.47017633773097917, pvalue=0.63879195385176657)\n",
      "Critical T values: (-1.9730840773322158, 1.9730840773322158)\n"
     ]
    }
   ],
   "source": [
    "print ttest_ind(pretestaverage, precontrolaverage)\n",
    "print 'Critical T values:', t.interval(.95, len(pretestaverage) + len(precontrolaverage) - 2)"
   ]
  },
  {
   "cell_type": "markdown",
   "metadata": {},
   "source": [
    "Independent t-test between test & control post-trigger should reject null hypothesis as one group received mails. Fails to reject H0."
   ]
  },
  {
   "cell_type": "code",
   "execution_count": 111,
   "metadata": {
    "scrolled": true
   },
   "outputs": [
    {
     "name": "stdout",
     "output_type": "stream",
     "text": [
      "Ttest_indResult(statistic=0.85611251521186893, pvalue=0.39466253135326246)\n",
      "Critical T value: (-1.9921021536898653, 1.9921021536898653)\n"
     ]
    }
   ],
   "source": [
    "print ttest_ind(posttestaverage, postcontrolaverage)\n",
    "print 'Critical T value:', t.interval(.95, len(posttestaverage) + len(postcontrolaverage) - 2)"
   ]
  },
  {
   "cell_type": "markdown",
   "metadata": {},
   "source": [
    "# Play More\n",
    "### Load Data"
   ]
  },
  {
   "cell_type": "code",
   "execution_count": 114,
   "metadata": {},
   "outputs": [
    {
     "name": "stdout",
     "output_type": "stream",
     "text": [
      "17415 records\n"
     ]
    },
    {
     "data": {
      "text/html": [
       "<div>\n",
       "<table border=\"1\" class=\"dataframe\">\n",
       "  <thead>\n",
       "    <tr style=\"text-align: right;\">\n",
       "      <th></th>\n",
       "      <th>customernumber</th>\n",
       "      <th>year</th>\n",
       "      <th>month</th>\n",
       "      <th>day</th>\n",
       "      <th>cnt_programs</th>\n",
       "      <th>sum_srd</th>\n",
       "      <th>date</th>\n",
       "    </tr>\n",
       "  </thead>\n",
       "  <tbody>\n",
       "    <tr>\n",
       "      <th>0</th>\n",
       "      <td>12230585</td>\n",
       "      <td>2017</td>\n",
       "      <td>1</td>\n",
       "      <td>26</td>\n",
       "      <td>1</td>\n",
       "      <td>35.000000</td>\n",
       "      <td>2017-01-26</td>\n",
       "    </tr>\n",
       "    <tr>\n",
       "      <th>1</th>\n",
       "      <td>214177919</td>\n",
       "      <td>2017</td>\n",
       "      <td>1</td>\n",
       "      <td>15</td>\n",
       "      <td>3</td>\n",
       "      <td>72.933333</td>\n",
       "      <td>2017-01-15</td>\n",
       "    </tr>\n",
       "    <tr>\n",
       "      <th>2</th>\n",
       "      <td>214177919</td>\n",
       "      <td>2017</td>\n",
       "      <td>2</td>\n",
       "      <td>5</td>\n",
       "      <td>2</td>\n",
       "      <td>43.583333</td>\n",
       "      <td>2017-02-05</td>\n",
       "    </tr>\n",
       "    <tr>\n",
       "      <th>3</th>\n",
       "      <td>25594963</td>\n",
       "      <td>2017</td>\n",
       "      <td>1</td>\n",
       "      <td>6</td>\n",
       "      <td>2</td>\n",
       "      <td>113.750000</td>\n",
       "      <td>2017-01-06</td>\n",
       "    </tr>\n",
       "    <tr>\n",
       "      <th>4</th>\n",
       "      <td>47823121</td>\n",
       "      <td>2017</td>\n",
       "      <td>2</td>\n",
       "      <td>10</td>\n",
       "      <td>4</td>\n",
       "      <td>181.650000</td>\n",
       "      <td>2017-02-10</td>\n",
       "    </tr>\n",
       "  </tbody>\n",
       "</table>\n",
       "</div>"
      ],
      "text/plain": [
       "   customernumber  year  month  day  cnt_programs     sum_srd       date\n",
       "0        12230585  2017      1   26             1   35.000000 2017-01-26\n",
       "1       214177919  2017      1   15             3   72.933333 2017-01-15\n",
       "2       214177919  2017      2    5             2   43.583333 2017-02-05\n",
       "3        25594963  2017      1    6             2  113.750000 2017-01-06\n",
       "4        47823121  2017      2   10             4  181.650000 2017-02-10"
      ]
     },
     "execution_count": 114,
     "metadata": {},
     "output_type": "execute_result"
    }
   ],
   "source": [
    "playmore = pd.read_excel('query_result (63).xls')\n",
    "print len(playmore), 'records'\n",
    "playmore['date'] = playmore[['year', 'month', 'day']].apply(lambda s : datetime(*s), axis=1)\n",
    "playmore.head()"
   ]
  },
  {
   "cell_type": "code",
   "execution_count": 115,
   "metadata": {},
   "outputs": [
    {
     "name": "stdout",
     "output_type": "stream",
     "text": [
      "17415 records\n"
     ]
    },
    {
     "data": {
      "text/html": [
       "<div>\n",
       "<table border=\"1\" class=\"dataframe\">\n",
       "  <thead>\n",
       "    <tr style=\"text-align: right;\">\n",
       "      <th></th>\n",
       "      <th>customernumber</th>\n",
       "      <th>group</th>\n",
       "      <th>maildate</th>\n",
       "      <th>date</th>\n",
       "      <th>sum_srd</th>\n",
       "    </tr>\n",
       "  </thead>\n",
       "  <tbody>\n",
       "    <tr>\n",
       "      <th>11182</th>\n",
       "      <td>724766721</td>\n",
       "      <td>test</td>\n",
       "      <td>2017-04-21</td>\n",
       "      <td>2017-04-30</td>\n",
       "      <td>98.550000</td>\n",
       "    </tr>\n",
       "    <tr>\n",
       "      <th>11951</th>\n",
       "      <td>990003925</td>\n",
       "      <td>control</td>\n",
       "      <td>2017-04-27</td>\n",
       "      <td>2017-04-30</td>\n",
       "      <td>134.466667</td>\n",
       "    </tr>\n",
       "    <tr>\n",
       "      <th>15505</th>\n",
       "      <td>266575194</td>\n",
       "      <td>test</td>\n",
       "      <td>2017-04-21</td>\n",
       "      <td>2017-04-30</td>\n",
       "      <td>285.066667</td>\n",
       "    </tr>\n",
       "    <tr>\n",
       "      <th>13697</th>\n",
       "      <td>965559723</td>\n",
       "      <td>test</td>\n",
       "      <td>2017-04-21</td>\n",
       "      <td>2017-04-30</td>\n",
       "      <td>13.866667</td>\n",
       "    </tr>\n",
       "    <tr>\n",
       "      <th>1461</th>\n",
       "      <td>507305754</td>\n",
       "      <td>test</td>\n",
       "      <td>2017-04-21</td>\n",
       "      <td>2017-04-30</td>\n",
       "      <td>107.150000</td>\n",
       "    </tr>\n",
       "  </tbody>\n",
       "</table>\n",
       "</div>"
      ],
      "text/plain": [
       "      customernumber    group   maildate       date     sum_srd\n",
       "11182      724766721     test 2017-04-21 2017-04-30   98.550000\n",
       "11951      990003925  control 2017-04-27 2017-04-30  134.466667\n",
       "15505      266575194     test 2017-04-21 2017-04-30  285.066667\n",
       "13697      965559723     test 2017-04-21 2017-04-30   13.866667\n",
       "1461       507305754     test 2017-04-21 2017-04-30  107.150000"
      ]
     },
     "execution_count": 115,
     "metadata": {},
     "output_type": "execute_result"
    }
   ],
   "source": [
    "data = pd.merge(mails, playmore, on='customernumber', how='inner')\n",
    "data = data[['customernumber', 'group', 'maildate', 'date', 'sum_srd']]\n",
    "print len(data), 'records'\n",
    "data.sort_values('date', ascending=False).head()"
   ]
  },
  {
   "cell_type": "markdown",
   "metadata": {},
   "source": [
    "### Retrieve viewing counts, minutes watched and averages"
   ]
  },
  {
   "cell_type": "markdown",
   "metadata": {},
   "source": [
    "Viewings splitted pre and post trigger"
   ]
  },
  {
   "cell_type": "code",
   "execution_count": 116,
   "metadata": {
    "collapsed": true
   },
   "outputs": [],
   "source": [
    "pre = data[(data.maildate - data.date) > pd.Timedelta(0)]\n",
    "post = data[(data.maildate - data.date) <= pd.Timedelta(0)]"
   ]
  },
  {
   "cell_type": "markdown",
   "metadata": {},
   "source": [
    "Number of viewings and total minutes watched grouped per customer"
   ]
  },
  {
   "cell_type": "code",
   "execution_count": 117,
   "metadata": {
    "collapsed": true
   },
   "outputs": [],
   "source": [
    "pre = pre.groupby(['customernumber']).agg({'group':'min', 'customernumber':'count', 'sum_srd':'sum'})\n",
    "post = post.groupby(['customernumber']).agg({'group':'min', 'customernumber':'count', 'sum_srd':'sum'})"
   ]
  },
  {
   "cell_type": "markdown",
   "metadata": {},
   "source": [
    "Include average minutes per viewing"
   ]
  },
  {
   "cell_type": "code",
   "execution_count": 118,
   "metadata": {},
   "outputs": [
    {
     "data": {
      "text/html": [
       "<div>\n",
       "<table border=\"1\" class=\"dataframe\">\n",
       "  <thead>\n",
       "    <tr style=\"text-align: right;\">\n",
       "      <th></th>\n",
       "      <th>group</th>\n",
       "      <th>customernumber</th>\n",
       "      <th>sum_srd</th>\n",
       "      <th>average</th>\n",
       "    </tr>\n",
       "    <tr>\n",
       "      <th>customernumber</th>\n",
       "      <th></th>\n",
       "      <th></th>\n",
       "      <th></th>\n",
       "      <th></th>\n",
       "    </tr>\n",
       "  </thead>\n",
       "  <tbody>\n",
       "    <tr>\n",
       "      <th>3070553</th>\n",
       "      <td>test</td>\n",
       "      <td>4</td>\n",
       "      <td>535.250000</td>\n",
       "      <td>133.812500</td>\n",
       "    </tr>\n",
       "    <tr>\n",
       "      <th>5748056</th>\n",
       "      <td>test</td>\n",
       "      <td>4</td>\n",
       "      <td>753.033333</td>\n",
       "      <td>188.258333</td>\n",
       "    </tr>\n",
       "    <tr>\n",
       "      <th>8823360</th>\n",
       "      <td>test</td>\n",
       "      <td>10</td>\n",
       "      <td>4010.616667</td>\n",
       "      <td>401.061667</td>\n",
       "    </tr>\n",
       "    <tr>\n",
       "      <th>10664542</th>\n",
       "      <td>test</td>\n",
       "      <td>8</td>\n",
       "      <td>710.233333</td>\n",
       "      <td>88.779167</td>\n",
       "    </tr>\n",
       "    <tr>\n",
       "      <th>12230585</th>\n",
       "      <td>test</td>\n",
       "      <td>5</td>\n",
       "      <td>817.733333</td>\n",
       "      <td>163.546667</td>\n",
       "    </tr>\n",
       "  </tbody>\n",
       "</table>\n",
       "</div>"
      ],
      "text/plain": [
       "               group  customernumber      sum_srd     average\n",
       "customernumber                                               \n",
       "3070553         test               4   535.250000  133.812500\n",
       "5748056         test               4   753.033333  188.258333\n",
       "8823360         test              10  4010.616667  401.061667\n",
       "10664542        test               8   710.233333   88.779167\n",
       "12230585        test               5   817.733333  163.546667"
      ]
     },
     "execution_count": 118,
     "metadata": {},
     "output_type": "execute_result"
    }
   ],
   "source": [
    "pre['average'] = pre.sum_srd / pre.customernumber\n",
    "post['average'] = post.sum_srd / post.customernumber\n",
    "post.head()"
   ]
  },
  {
   "cell_type": "markdown",
   "metadata": {},
   "source": [
    "Merge pre and post to include zero values per customer"
   ]
  },
  {
   "cell_type": "code",
   "execution_count": 119,
   "metadata": {
    "scrolled": true
   },
   "outputs": [
    {
     "data": {
      "text/html": [
       "<div>\n",
       "<table border=\"1\" class=\"dataframe\">\n",
       "  <thead>\n",
       "    <tr style=\"text-align: right;\">\n",
       "      <th></th>\n",
       "      <th>group</th>\n",
       "      <th>precount</th>\n",
       "      <th>preminutes</th>\n",
       "      <th>preaverage</th>\n",
       "      <th>postcount</th>\n",
       "      <th>postminutes</th>\n",
       "      <th>postaverage</th>\n",
       "    </tr>\n",
       "    <tr>\n",
       "      <th>customernumber</th>\n",
       "      <th></th>\n",
       "      <th></th>\n",
       "      <th></th>\n",
       "      <th></th>\n",
       "      <th></th>\n",
       "      <th></th>\n",
       "      <th></th>\n",
       "    </tr>\n",
       "  </thead>\n",
       "  <tbody>\n",
       "    <tr>\n",
       "      <th>3070553</th>\n",
       "      <td>test</td>\n",
       "      <td>89</td>\n",
       "      <td>13980.900000</td>\n",
       "      <td>157.088764</td>\n",
       "      <td>4</td>\n",
       "      <td>535.250000</td>\n",
       "      <td>133.812500</td>\n",
       "    </tr>\n",
       "    <tr>\n",
       "      <th>5748056</th>\n",
       "      <td>test</td>\n",
       "      <td>41</td>\n",
       "      <td>4846.150000</td>\n",
       "      <td>118.198780</td>\n",
       "      <td>4</td>\n",
       "      <td>753.033333</td>\n",
       "      <td>188.258333</td>\n",
       "    </tr>\n",
       "    <tr>\n",
       "      <th>8823360</th>\n",
       "      <td>test</td>\n",
       "      <td>108</td>\n",
       "      <td>46750.983333</td>\n",
       "      <td>432.879475</td>\n",
       "      <td>10</td>\n",
       "      <td>4010.616667</td>\n",
       "      <td>401.061667</td>\n",
       "    </tr>\n",
       "    <tr>\n",
       "      <th>10664542</th>\n",
       "      <td>test</td>\n",
       "      <td>91</td>\n",
       "      <td>9163.016667</td>\n",
       "      <td>100.692491</td>\n",
       "      <td>8</td>\n",
       "      <td>710.233333</td>\n",
       "      <td>88.779167</td>\n",
       "    </tr>\n",
       "    <tr>\n",
       "      <th>12230585</th>\n",
       "      <td>test</td>\n",
       "      <td>57</td>\n",
       "      <td>6945.566667</td>\n",
       "      <td>121.852047</td>\n",
       "      <td>5</td>\n",
       "      <td>817.733333</td>\n",
       "      <td>163.546667</td>\n",
       "    </tr>\n",
       "    <tr>\n",
       "      <th>13607581</th>\n",
       "      <td>control</td>\n",
       "      <td>95</td>\n",
       "      <td>15089.316667</td>\n",
       "      <td>158.834912</td>\n",
       "      <td>10</td>\n",
       "      <td>1933.516667</td>\n",
       "      <td>193.351667</td>\n",
       "    </tr>\n",
       "    <tr>\n",
       "      <th>14710250</th>\n",
       "      <td>test</td>\n",
       "      <td>102</td>\n",
       "      <td>13424.866667</td>\n",
       "      <td>131.616340</td>\n",
       "      <td>10</td>\n",
       "      <td>1798.400000</td>\n",
       "      <td>179.840000</td>\n",
       "    </tr>\n",
       "    <tr>\n",
       "      <th>15678735</th>\n",
       "      <td>test</td>\n",
       "      <td>98</td>\n",
       "      <td>17050.883333</td>\n",
       "      <td>173.988605</td>\n",
       "      <td>10</td>\n",
       "      <td>1001.600000</td>\n",
       "      <td>100.160000</td>\n",
       "    </tr>\n",
       "    <tr>\n",
       "      <th>16645503</th>\n",
       "      <td>test</td>\n",
       "      <td>99</td>\n",
       "      <td>24553.766667</td>\n",
       "      <td>248.017845</td>\n",
       "      <td>10</td>\n",
       "      <td>2104.166667</td>\n",
       "      <td>210.416667</td>\n",
       "    </tr>\n",
       "    <tr>\n",
       "      <th>19657351</th>\n",
       "      <td>control</td>\n",
       "      <td>64</td>\n",
       "      <td>7898.816667</td>\n",
       "      <td>123.419010</td>\n",
       "      <td>9</td>\n",
       "      <td>554.283333</td>\n",
       "      <td>61.587037</td>\n",
       "    </tr>\n",
       "  </tbody>\n",
       "</table>\n",
       "</div>"
      ],
      "text/plain": [
       "                  group  precount    preminutes  preaverage  postcount  \\\n",
       "customernumber                                                           \n",
       "3070553            test        89  13980.900000  157.088764          4   \n",
       "5748056            test        41   4846.150000  118.198780          4   \n",
       "8823360            test       108  46750.983333  432.879475         10   \n",
       "10664542           test        91   9163.016667  100.692491          8   \n",
       "12230585           test        57   6945.566667  121.852047          5   \n",
       "13607581        control        95  15089.316667  158.834912         10   \n",
       "14710250           test       102  13424.866667  131.616340         10   \n",
       "15678735           test        98  17050.883333  173.988605         10   \n",
       "16645503           test        99  24553.766667  248.017845         10   \n",
       "19657351        control        64   7898.816667  123.419010          9   \n",
       "\n",
       "                postminutes  postaverage  \n",
       "customernumber                            \n",
       "3070553          535.250000   133.812500  \n",
       "5748056          753.033333   188.258333  \n",
       "8823360         4010.616667   401.061667  \n",
       "10664542         710.233333    88.779167  \n",
       "12230585         817.733333   163.546667  \n",
       "13607581        1933.516667   193.351667  \n",
       "14710250        1798.400000   179.840000  \n",
       "15678735        1001.600000   100.160000  \n",
       "16645503        2104.166667   210.416667  \n",
       "19657351         554.283333    61.587037  "
      ]
     },
     "execution_count": 119,
     "metadata": {},
     "output_type": "execute_result"
    }
   ],
   "source": [
    "counts = pd.merge(pre, post, left_index=True, right_index=True, how='inner').fillna(0)\n",
    "counts.drop('group_y', 1, inplace=True)\n",
    "counts.columns=['group', 'precount', 'preminutes', 'preaverage', 'postcount', 'postminutes', 'postaverage']\n",
    "counts.head(10)"
   ]
  },
  {
   "cell_type": "markdown",
   "metadata": {},
   "source": [
    "### Retrieve values"
   ]
  },
  {
   "cell_type": "code",
   "execution_count": 120,
   "metadata": {},
   "outputs": [],
   "source": [
    "# To Include 0 values\n",
    "'''pretestcount = counts[counts.group=='test'].precount\n",
    "precontrolcount = counts[counts.group=='control'].precount\n",
    "posttestcount = counts[counts.group=='test'].postcount\n",
    "postcontrolcount = counts[counts.group=='control'].postcount\n",
    "\n",
    "pretestminutes = counts[counts.group=='test'].preminutes\n",
    "precontrolminutes = counts[counts.group=='control'].preminutes\n",
    "posttestminutes = counts[counts.group=='test'].postminutes\n",
    "postcontrolminutes = counts[counts.group=='control'].postminutes\n",
    "\n",
    "pretestaverage = counts[counts.group=='test'].preaverage\n",
    "precontrolaverage = counts[counts.group=='control'].preaverage\n",
    "posttestaverage = counts[counts.group=='test'].postaverage\n",
    "postcontrolaverage = counts[counts.group=='control'].postaverage'''\n",
    "\n",
    "# To exclude 0 values\n",
    "pretestcount = pre[pre.group=='test'].customernumber\n",
    "precontrolcount = pre[pre.group=='control'].customernumber\n",
    "posttestcount = post[post.group=='test'].customernumber\n",
    "postcontrolcount = post[post.group=='control'].customernumber\n",
    "\n",
    "pretestminutes = pre[pre.group=='test'].sum_srd\n",
    "precontrolminutes = pre[pre.group=='control'].sum_srd\n",
    "posttestminutes = post[post.group=='test'].sum_srd\n",
    "postcontrolminutes = post[post.group=='control'].sum_srd\n",
    "\n",
    "pretestaverage = pre[pre.group=='test'].average\n",
    "precontrolaverage = pre[pre.group=='control'].average\n",
    "posttestaverage = post[post.group=='test'].average\n",
    "postcontrolaverage = post[post.group=='control'].average"
   ]
  },
  {
   "cell_type": "markdown",
   "metadata": {},
   "source": [
    "Check"
   ]
  },
  {
   "cell_type": "code",
   "execution_count": 121,
   "metadata": {
    "scrolled": false
   },
   "outputs": [
    {
     "name": "stdout",
     "output_type": "stream",
     "text": [
      "(17415, 17415)\n",
      "(3268857.7666666456, 3268857.7666666382)\n",
      "155 32 151 33\n"
     ]
    }
   ],
   "source": [
    "print (sum(pretestcount) + sum(precontrolcount) + sum(postcontrolcount) + sum(posttestcount), len(data))\n",
    "print (sum(pretestminutes) + sum(precontrolminutes) + sum(postcontrolminutes) + sum(posttestminutes), sum(data.sum_srd))\n",
    "print len(pretestaverage), len(precontrolaverage), len(posttestaverage), len(postcontrolaverage)"
   ]
  },
  {
   "cell_type": "markdown",
   "metadata": {},
   "source": [
    "### Comparing Averages"
   ]
  },
  {
   "cell_type": "code",
   "execution_count": 122,
   "metadata": {},
   "outputs": [
    {
     "data": {
      "image/png": "[encoded data removed]",
      "text/plain": [
       "<matplotlib.figure.Figure at 0x1152530d0>"
      ]
     },
     "metadata": {},
     "output_type": "display_data"
    }
   ],
   "source": [
    "x = np.linspace(0,1, num=1000)\n",
    "fig = plt.figure(figsize=(18, 10))\n",
    "ax1 = fig.add_subplot(221); ax2 = fig.add_subplot(222)\n",
    "\n",
    "ax1.hist(pretestaverage, bins=50, alpha=0.75, label='Test group')\n",
    "ax1.hist(precontrolaverage, bins=50, alpha=0.75, label='Control group')\n",
    "ax2.hist(posttestaverage, bins=50, alpha=0.75, label='Test group')\n",
    "ax2.hist(postcontrolaverage, bins=50, alpha=0.75, label='Control group')\n",
    "\n",
    "ax1.legend(); ax2.legend()\n",
    "ax1.set_title('Average minutes per viewing - pre trigger')\n",
    "ax2.set_title('Average minutes per viewing - post trigger')\n",
    "plt.show()"
   ]
  },
  {
   "cell_type": "markdown",
   "metadata": {},
   "source": [
    "Independent t-test between test & control pre-trigger should fail to reject null hypothesis as neither received mails. Fails to reject H0."
   ]
  },
  {
   "cell_type": "code",
   "execution_count": 123,
   "metadata": {},
   "outputs": [
    {
     "name": "stdout",
     "output_type": "stream",
     "text": [
      "Ttest_indResult(statistic=1.0689680615480297, pvalue=0.2864768615565863)\n",
      "Critical T values: (-1.9728699462074988, 1.9728699462074988)\n"
     ]
    }
   ],
   "source": [
    "print ttest_ind(pretestaverage, precontrolaverage)\n",
    "print 'Critical T values:', t.interval(.95, len(pretestaverage) + len(precontrolaverage) - 2)"
   ]
  },
  {
   "cell_type": "markdown",
   "metadata": {},
   "source": [
    "Independent t-test between test & control post-trigger should reject null hypothesis as one group received mails. Fails to reject H0."
   ]
  },
  {
   "cell_type": "code",
   "execution_count": 124,
   "metadata": {
    "scrolled": true
   },
   "outputs": [
    {
     "name": "stdout",
     "output_type": "stream",
     "text": [
      "Ttest_indResult(statistic=0.79562367006979107, pvalue=0.42728725369948606)\n",
      "Critical T value: (-1.9730840773322158, 1.9730840773322158)\n"
     ]
    }
   ],
   "source": [
    "print ttest_ind(posttestaverage, postcontrolaverage)\n",
    "print 'Critical T value:', t.interval(.95, len(posttestaverage) + len(postcontrolaverage) - 2)"
   ]
  }
 ],
 "metadata": {
  "kernelspec": {
   "display_name": "Python 2",
   "language": "python",
   "name": "python2"
  },
  "language_info": {
   "codemirror_mode": {
    "name": "ipython",
    "version": 2
   },
   "file_extension": ".py",
   "mimetype": "text/x-python",
   "name": "python",
   "nbconvert_exporter": "python",
   "pygments_lexer": "ipython2",
   "version": "2.7.13"
  }
 },
 "nbformat": 4,
 "nbformat_minor": 2
}
