{
 "cells": [
  {
   "cell_type": "code",
   "execution_count": 2,
   "metadata": {
    "collapsed": true
   },
   "outputs": [],
   "source": [
    "import pandas as pd"
   ]
  },
  {
   "cell_type": "code",
   "execution_count": 35,
   "metadata": {},
   "outputs": [
    {
     "name": "stdout",
     "output_type": "stream",
     "text": [
      "11794\n"
     ]
    },
    {
     "data": {
      "text/html": [
       "<div>\n",
       "<table border=\"1\" class=\"dataframe\">\n",
       "  <thead>\n",
       "    <tr style=\"text-align: right;\">\n",
       "      <th></th>\n",
       "      <th>ID</th>\n",
       "      <th>referenceTime</th>\n",
       "      <th>filterEvaluationReferenceTime</th>\n",
       "      <th>originalSourceIds</th>\n",
       "      <th>marginCarLoans</th>\n",
       "      <th>rateCarLoans</th>\n",
       "      <th>creditCarLoans</th>\n",
       "      <th>valueCarLoans</th>\n",
       "      <th>crmId</th>\n",
       "      <th>lastName</th>\n",
       "      <th>firstName</th>\n",
       "      <th>numberOfCarLoanSalesWeb</th>\n",
       "      <th>numberOfCarLoanSalesCallCenter</th>\n",
       "      <th>numberOfCarLoanSalesBranch</th>\n",
       "      <th>numberOfCarLoanPageVisits2</th>\n",
       "      <th>numberOfCarLoanSimulations</th>\n",
       "    </tr>\n",
       "  </thead>\n",
       "  <tbody>\n",
       "    <tr>\n",
       "      <th>0</th>\n",
       "      <td>-9207469791710257466</td>\n",
       "      <td>2017-05-22T07:37:23.602Z</td>\n",
       "      <td>2017-05-22T07:38:08.914Z</td>\n",
       "      <td>[\"\"CRM:1300\"\"]</td>\n",
       "      <td>3.242550</td>\n",
       "      <td>4.803180</td>\n",
       "      <td>28911.405825</td>\n",
       "      <td>34987.924530</td>\n",
       "      <td>1300</td>\n",
       "      <td>Gately</td>\n",
       "      <td>Patrick</td>\n",
       "      <td>0</td>\n",
       "      <td>0</td>\n",
       "      <td>0</td>\n",
       "      <td>0</td>\n",
       "      <td>0</td>\n",
       "    </tr>\n",
       "    <tr>\n",
       "      <th>7866</th>\n",
       "      <td>5023546749707834913</td>\n",
       "      <td>2017-05-22T07:37:23.602Z</td>\n",
       "      <td>2017-05-22T07:38:08.914Z</td>\n",
       "      <td>[\"\"CRM:32210\"\"]</td>\n",
       "      <td>3.271848</td>\n",
       "      <td>5.434611</td>\n",
       "      <td>25151.162676</td>\n",
       "      <td>30969.008781</td>\n",
       "      <td>32210</td>\n",
       "      <td>Joyce</td>\n",
       "      <td>John</td>\n",
       "      <td>0</td>\n",
       "      <td>0</td>\n",
       "      <td>0</td>\n",
       "      <td>0</td>\n",
       "      <td>0</td>\n",
       "    </tr>\n",
       "    <tr>\n",
       "      <th>7857</th>\n",
       "      <td>4507349718808994886</td>\n",
       "      <td>2017-05-22T07:37:23.602Z</td>\n",
       "      <td>2017-05-22T07:38:08.914Z</td>\n",
       "      <td>[\"\"CRM:38708\"\"]</td>\n",
       "      <td>3.236438</td>\n",
       "      <td>4.938942</td>\n",
       "      <td>25905.038895</td>\n",
       "      <td>30473.680558</td>\n",
       "      <td>38708</td>\n",
       "      <td>Anderson</td>\n",
       "      <td>Jerrie</td>\n",
       "      <td>0</td>\n",
       "      <td>0</td>\n",
       "      <td>0</td>\n",
       "      <td>0</td>\n",
       "      <td>0</td>\n",
       "    </tr>\n",
       "    <tr>\n",
       "      <th>7858</th>\n",
       "      <td>4600915323884186355</td>\n",
       "      <td>2017-05-22T07:37:23.602Z</td>\n",
       "      <td>2017-05-22T07:38:08.914Z</td>\n",
       "      <td>[\"\"CRM:46407\"\"]</td>\n",
       "      <td>3.346937</td>\n",
       "      <td>5.210147</td>\n",
       "      <td>26146.056146</td>\n",
       "      <td>31719.970211</td>\n",
       "      <td>46407</td>\n",
       "      <td>Carter</td>\n",
       "      <td>Gail</td>\n",
       "      <td>0</td>\n",
       "      <td>0</td>\n",
       "      <td>0</td>\n",
       "      <td>0</td>\n",
       "      <td>0</td>\n",
       "    </tr>\n",
       "    <tr>\n",
       "      <th>7859</th>\n",
       "      <td>4720443326064890094</td>\n",
       "      <td>2017-05-22T07:37:23.602Z</td>\n",
       "      <td>2017-05-22T07:38:08.914Z</td>\n",
       "      <td>[\"\"CRM:39010\"\"]</td>\n",
       "      <td>3.020239</td>\n",
       "      <td>5.172698</td>\n",
       "      <td>26502.549325</td>\n",
       "      <td>32240.093083</td>\n",
       "      <td>39010</td>\n",
       "      <td>Posey</td>\n",
       "      <td>Virginia</td>\n",
       "      <td>0</td>\n",
       "      <td>0</td>\n",
       "      <td>0</td>\n",
       "      <td>0</td>\n",
       "      <td>0</td>\n",
       "    </tr>\n",
       "  </tbody>\n",
       "</table>\n",
       "</div>"
      ],
      "text/plain": [
       "                       ID             referenceTime  \\\n",
       "0    -9207469791710257466  2017-05-22T07:37:23.602Z   \n",
       "7866  5023546749707834913  2017-05-22T07:37:23.602Z   \n",
       "7857  4507349718808994886  2017-05-22T07:37:23.602Z   \n",
       "7858  4600915323884186355  2017-05-22T07:37:23.602Z   \n",
       "7859  4720443326064890094  2017-05-22T07:37:23.602Z   \n",
       "\n",
       "     filterEvaluationReferenceTime originalSourceIds  marginCarLoans  \\\n",
       "0         2017-05-22T07:38:08.914Z    [\"\"CRM:1300\"\"]        3.242550   \n",
       "7866      2017-05-22T07:38:08.914Z   [\"\"CRM:32210\"\"]        3.271848   \n",
       "7857      2017-05-22T07:38:08.914Z   [\"\"CRM:38708\"\"]        3.236438   \n",
       "7858      2017-05-22T07:38:08.914Z   [\"\"CRM:46407\"\"]        3.346937   \n",
       "7859      2017-05-22T07:38:08.914Z   [\"\"CRM:39010\"\"]        3.020239   \n",
       "\n",
       "      rateCarLoans  creditCarLoans  valueCarLoans  crmId  lastName firstName  \\\n",
       "0         4.803180    28911.405825   34987.924530   1300    Gately   Patrick   \n",
       "7866      5.434611    25151.162676   30969.008781  32210     Joyce      John   \n",
       "7857      4.938942    25905.038895   30473.680558  38708  Anderson    Jerrie   \n",
       "7858      5.210147    26146.056146   31719.970211  46407    Carter      Gail   \n",
       "7859      5.172698    26502.549325   32240.093083  39010     Posey  Virginia   \n",
       "\n",
       "      numberOfCarLoanSalesWeb  numberOfCarLoanSalesCallCenter  \\\n",
       "0                           0                               0   \n",
       "7866                        0                               0   \n",
       "7857                        0                               0   \n",
       "7858                        0                               0   \n",
       "7859                        0                               0   \n",
       "\n",
       "      numberOfCarLoanSalesBranch  numberOfCarLoanPageVisits2  \\\n",
       "0                              0                           0   \n",
       "7866                           0                           0   \n",
       "7857                           0                           0   \n",
       "7858                           0                           0   \n",
       "7859                           0                           0   \n",
       "\n",
       "      numberOfCarLoanSimulations  \n",
       "0                              0  \n",
       "7866                           0  \n",
       "7857                           0  \n",
       "7858                           0  \n",
       "7859                           0  "
      ]
     },
     "execution_count": 35,
     "metadata": {},
     "output_type": "execute_result"
    }
   ],
   "source": [
    "path = '/Users/desiredewaele/Downloads/Test_2017-05-22T07-37-23.602Z/dataframe.csv'\n",
    "names = pd.read_csv('/Users/desiredewaele/Downloads/Test_2017-05-22T07-37-23.602Z/dataframe_columns.csv', sep='|')\n",
    "data = pd.read_csv(path, sep='|', names=names.name.values)\n",
    "print len(data)\n",
    "data.sort_values('numberOfCarLoanSalesWeb', ascending=False).head()"
   ]
  },
  {
   "cell_type": "code",
   "execution_count": 36,
   "metadata": {},
   "outputs": [
    {
     "name": "stdout",
     "output_type": "stream",
     "text": [
      "Margin 2.97690229947\n",
      "Rate 4.6710016688\n",
      "Value 32664.854458\n",
      "Credit 27658.7912801\n"
     ]
    }
   ],
   "source": [
    "print 'Margin', data.marginCarLoans.mean()\n",
    "print 'Rate', data.rateCarLoans.mean()\n",
    "print 'Value', data.valueCarLoans.mean()\n",
    "print 'Credit', data.creditCarLoans.mean()"
   ]
  },
  {
   "cell_type": "code",
   "execution_count": 37,
   "metadata": {},
   "outputs": [
    {
     "name": "stdout",
     "output_type": "stream",
     "text": [
      "Web sales 0.0\n",
      "Call center sales 0.0\n",
      "Branch sales 0.0\n"
     ]
    }
   ],
   "source": [
    "print 'Web sales', data.numberOfCarLoanSalesWeb.mean()\n",
    "print 'Call center sales', data.numberOfCarLoanSalesCallCenter.mean()\n",
    "print 'Branch sales', data.numberOfCarLoanSalesBranch.mean()"
   ]
  },
  {
   "cell_type": "code",
   "execution_count": 38,
   "metadata": {},
   "outputs": [
    {
     "name": "stdout",
     "output_type": "stream",
     "text": [
      "Car loan page visits 0.0\n",
      "Car loan simulations 0.0\n"
     ]
    }
   ],
   "source": [
    "print 'Car loan page visits', data.numberOfCarLoanPageVisits2.mean()\n",
    "print 'Car loan simulations', data.numberOfCarLoanSimulations.mean()"
   ]
  },
  {
   "cell_type": "code",
   "execution_count": null,
   "metadata": {
    "collapsed": true
   },
   "outputs": [],
   "source": []
  },
  {
   "cell_type": "code",
   "execution_count": null,
   "metadata": {
    "collapsed": true
   },
   "outputs": [],
   "source": []
  }
 ],
 "metadata": {
  "kernelspec": {
   "display_name": "Python 2",
   "language": "python",
   "name": "python2"
  },
  "language_info": {
   "codemirror_mode": {
    "name": "ipython",
    "version": 2
   },
   "file_extension": ".py",
   "mimetype": "text/x-python",
   "name": "python",
   "nbconvert_exporter": "python",
   "pygments_lexer": "ipython2",
   "version": "2.7.13"
  }
 },
 "nbformat": 4,
 "nbformat_minor": 2
}
