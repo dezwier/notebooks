{
 "cells": [
  {
   "cell_type": "markdown",
   "metadata": {},
   "source": [
    "# Inferential Statistics - Cheat Sheet\n",
    "> *March 10, 2018*"
   ]
  },
  {
   "cell_type": "markdown",
   "metadata": {},
   "source": [
    "<img src=\"img/statistics.jpg\" style=\"float:left;max-height:300px;border:1px solid black\">"
   ]
  },
  {
   "cell_type": "markdown",
   "metadata": {},
   "source": [
    "This is a cheat sheet for making statistical inferences on datasets. Written in Python, it makes use of libraries numpy, pandas, scipy and matplotlib.\n",
    "\n",
    "---"
   ]
  },
  {
   "cell_type": "markdown",
   "metadata": {},
   "source": [
    "## Contents\n",
    "\n",
    "1. **Significancy tests**\n",
    "2. **Analysis of variance (ANOVA)**\n",
    "3. **Correlation**\n",
    "---"
   ]
  },
  {
   "cell_type": "code",
   "execution_count": 1,
   "metadata": {},
   "outputs": [],
   "source": [
    "import numpy as np\n",
    "import pandas as pd\n",
    "from scipy.interpolate import interp1d\n",
    "import matplotlib.pyplot as plt\n",
    "import warnings\n",
    "warnings.filterwarnings('ignore')"
   ]
  },
  {
   "cell_type": "markdown",
   "metadata": {},
   "source": [
    "## 1. Significancy tests"
   ]
  },
  {
   "cell_type": "code",
   "execution_count": 2,
   "metadata": {},
   "outputs": [],
   "source": [
    "from scipy.stats import norm, t, f, ttest_1samp, ttest_rel, ttest_ind, zscore"
   ]
  },
  {
   "cell_type": "markdown",
   "metadata": {},
   "source": [
    "### Percentage tables"
   ]
  },
  {
   "cell_type": "markdown",
   "metadata": {},
   "source": [
    "<img src=\"img/z-table.jpg\" style=\"width:530px;display:inline-block;\"/>\n",
    "<img src=\"img/t-table.jpg\" style=\"width:370px;display:inline-block;vertical-align:top\"/>"
   ]
  },
  {
   "cell_type": "markdown",
   "metadata": {},
   "source": [
    "Z-scores"
   ]
  },
  {
   "cell_type": "code",
   "execution_count": 3,
   "metadata": {},
   "outputs": [
    {
     "name": "stdout",
     "output_type": "stream",
     "text": [
      "Get Z-score from p-statistic:  1.95996398454\n",
      "Get p-statistic from Z-score:  0.975002104852 0.0249978951482\n",
      "\n",
      "Get CI from p-statistic:  (-1.959963984540054, 1.959963984540054)\n"
     ]
    }
   ],
   "source": [
    "ZSCORE = 1.96\n",
    "print('Get Z-score from p-statistic: ', norm.ppf(.975))\n",
    "print('Get p-statistic from Z-score: ', norm.cdf(ZSCORE), norm.sf(ZSCORE))\n",
    "print()\n",
    "print('Get CI from p-statistic: ', norm.interval(0.95))"
   ]
  },
  {
   "cell_type": "markdown",
   "metadata": {},
   "source": [
    "P-scores"
   ]
  },
  {
   "cell_type": "code",
   "execution_count": 4,
   "metadata": {},
   "outputs": [
    {
     "name": "stdout",
     "output_type": "stream",
     "text": [
      "Get T-score from p-statistic:  1.64638034543\n",
      "Get p-statistic from T-score:  0.950371357874 0.0496286421255\n",
      "\n",
      "Get CI/critical values from p-statistic:  (-1.9623414611334487, 1.9623414611334487)\n"
     ]
    }
   ],
   "source": [
    "TSCORE = 1.65\n",
    "DF = 999\n",
    "print('Get T-score from p-statistic: ', t.ppf(.95, DF))\n",
    "print('Get p-statistic from T-score: ', t.cdf(TSCORE, DF), t.sf(TSCORE, DF))\n",
    "print()\n",
    "print('Get CI/critical values from p-statistic: ', t.interval(0.95, DF))"
   ]
  },
  {
   "cell_type": "markdown",
   "metadata": {},
   "source": [
    "### Helper functions"
   ]
  },
  {
   "cell_type": "code",
   "execution_count": 5,
   "metadata": {},
   "outputs": [],
   "source": [
    "def gauss(x, position = 0.5, deviation = 0.1, height = 0, altitude = 1):\n",
    "    return (np.exp(-np.square(x - position) / (2 * np.square(deviation))) + height) * altitude\n",
    "\n",
    "def plotGauss(mu0, se, cv, mean, title, apa=''):\n",
    "    fig = plt.figure(figsize=(9, 5))\n",
    "    x = np.linspace(mu0 - 4*se, mu0 + 4*se, num=1000)\n",
    "    plt.plot(x, gauss(x, mu0, se), '-k'); plt.ylim(0,1.2)\n",
    "    #plt.fill_between(x, 0, gauss(x, mu0, se), alpha=0.2)\n",
    "    \n",
    "    # Sample mean\n",
    "    plt.axvline(x=mean, color='r', ymax=gauss(mean, mu0, se)*0.83)\n",
    "    plt.text(mean, gauss(mean, mu0, se)+.1, r'$\\overline{x} =$' + str(round(mean, 3)))\n",
    "\n",
    "    # Critical values\n",
    "    ci = mu0 + cv * se\n",
    "    plt.fill_between(x, 0, gauss(x, mu0, se), where=x<ci[0], color='r')\n",
    "    plt.text(ci.item(0), 0.23, r'$cv =$' + str(round(ci.item(0), 3)))\n",
    "    if ci.size == 2:\n",
    "        plt.fill_between(x, 0, gauss(x, mu0, se), where=x>ci[1], color='r')\n",
    "        plt.text(ci[1], 0.23, r'$cv =$' + str(round(ci[1], 3)))    \n",
    "    \n",
    "    # Standard errors\n",
    "    for i in np.linspace(-3, 3, 7):\n",
    "        plt.axvline(i*se+mu0, color='k', ymax=gauss(i*se+mu0, mu0, se)*0.83)\n",
    "    \n",
    "    plt.text(mu0, 1.1, r'$\\mu_0 =$' + str(round(mu0, 3)))\n",
    "    plt.text(mu0+se, 0.68, r'$\\sigma =$' + str(round(se, 3)))\n",
    "    plt.text(mu0+(-4*se), 0.9, apa)\n",
    "\n",
    "    plt.title(title)\n",
    "    plt.show()\n",
    "    \n",
    "def apa(df, T, p, kind):\n",
    "    s = 't('+ str(df)+') = ' + str(round(T, 2))\n",
    "    s += ', p = ' + str(round(p, 2)) + ', ' + kind\n",
    "    return s"
   ]
  },
  {
   "cell_type": "markdown",
   "metadata": {},
   "source": [
    "### One-sampled Z-test\n",
    "Is there a significant difference between a sample and a given population distribution."
   ]
  },
  {
   "cell_type": "markdown",
   "metadata": {},
   "source": [
    "\\begin{align} \n",
    "\\overline{x} &= \\frac{1}{n} \\sum^n_{i=1}{x_i}\\\\\n",
    "z &= \\frac{  {\\overline{x} - \\mu_0}}{{\\sigma}}\n",
    "\\end{align}"
   ]
  },
  {
   "cell_type": "code",
   "execution_count": 6,
   "metadata": {},
   "outputs": [
    {
     "name": "stdout",
     "output_type": "stream",
     "text": [
      "8.06810506157\n",
      "[  7.6794724   11.71087072   5.61074097   9.06924724   6.67284186\n",
      "   7.92603507   8.32045294  10.05422854   6.84825733   6.78890354]\n"
     ]
    }
   ],
   "source": [
    "# Descriptive statistics\n",
    "sample = norm.rvs(loc=7, scale=2, size=10)\n",
    "mean = np.mean(sample)\n",
    "mu0, sigma = 8, 2\n",
    "print(mean)\n",
    "print(sample)"
   ]
  },
  {
   "cell_type": "code",
   "execution_count": 7,
   "metadata": {},
   "outputs": [
    {
     "name": "stdout",
     "output_type": "stream",
     "text": [
      "0.0340525307869 1.02716473855 [-1.95996398  1.95996398]\n"
     ]
    }
   ],
   "source": [
    "# Inferential statistics\n",
    "Z = (mean - mu0) / sigma\n",
    "p = norm.cdf(Z)*2\n",
    "cv = np.array(norm.interval(.95))\n",
    "print(Z, p, cv)"
   ]
  },
  {
   "cell_type": "code",
   "execution_count": 8,
   "metadata": {
    "scrolled": true
   },
   "outputs": [
    {
     "data": {
      "image/png": "[encoded data removed]",
      "text/plain": [
       "<matplotlib.figure.Figure at 0x11d47b780>"
      ]
     },
     "metadata": {},
     "output_type": "display_data"
    }
   ],
   "source": [
    "plotGauss(mu0, sigma, cv, mean, 'Sampling Distribution')"
   ]
  },
  {
   "cell_type": "markdown",
   "metadata": {},
   "source": [
    "### One-sampled t-test\n",
    "Is there a significant difference between a sample and a given population mean."
   ]
  },
  {
   "cell_type": "markdown",
   "metadata": {},
   "source": [
    "\\begin{align} \n",
    "\\overline{x} &= \\frac{1}{n} \\sum^n_{i=1}{x_i}\n",
    "&&s = \\sqrt{\\frac{ \\sum^n_{i=1}{(x_i - \\overline{x})^2} }{n-1}} \\\\\n",
    "s_e &= \\frac{s}{\\sqrt{n}}\n",
    "&&t = \\frac{  {\\overline{x} - \\mu_0}}{s_e}\\\\\n",
    "d &= \\frac{  {\\overline{x} - \\mu_0}}{s}\n",
    "&&r^2 = \\frac{t^2}{t^2+df}\n",
    "\\end{align}"
   ]
  },
  {
   "cell_type": "code",
   "execution_count": 9,
   "metadata": {
    "scrolled": true
   },
   "outputs": [
    {
     "name": "stdout",
     "output_type": "stream",
     "text": [
      "5.90642880753 1.53931221268\n",
      "[ 3.55266987  5.92319947  8.20772115  7.22952999  5.38942244  5.97732085\n",
      "  4.68615153  6.58035982  3.09696364  6.17329359  6.41095743  8.79409822\n",
      "  5.53257999  4.15261529  6.88954881]\n"
     ]
    }
   ],
   "source": [
    "# Descriptive statistics\n",
    "sample = norm.rvs(loc=6, scale=2, size=15)\n",
    "n, mean, sd = len(sample), np.mean(sample), np.std(sample)\n",
    "print(mean, sd)\n",
    "print(sample)"
   ]
  },
  {
   "cell_type": "code",
   "execution_count": 10,
   "metadata": {},
   "outputs": [
    {
     "name": "stdout",
     "output_type": "stream",
     "text": [
      "1.0225943704 1.67615416526 [-2.14478669  2.14478669]\n",
      "Ttest_1sampResult(statistic=0.98792001867000856, pvalue=0.33995935037402203)\n"
     ]
    }
   ],
   "source": [
    "# Inferential statistics\n",
    "mu0 = 5.5\n",
    "cv = np.array(t.interval(.95, n-1)) # t.ppf(.05, 24) one-tailed\n",
    "se = sd / np.sqrt(n)\n",
    "T = (mean - mu0) / se\n",
    "p = t.cdf(T, n-1)*2\n",
    "print(T, p, cv)\n",
    "print(ttest_1samp(sample, mu0))"
   ]
  },
  {
   "cell_type": "code",
   "execution_count": 11,
   "metadata": {
    "scrolled": true
   },
   "outputs": [
    {
     "data": {
      "image/png": "[encoded data removed]",
      "text/plain": [
       "<matplotlib.figure.Figure at 0x1201fbda0>"
      ]
     },
     "metadata": {},
     "output_type": "display_data"
    }
   ],
   "source": [
    "plotGauss(mu0, se, cv, mean, 'Estimated Sampling Distribution', apa(n-1, T, p, 'one-tailed'))"
   ]
  },
  {
   "cell_type": "markdown",
   "metadata": {},
   "source": [
    "### Paired sampled t-test\n",
    "Is there a significant difference between two dependent samples."
   ]
  },
  {
   "cell_type": "markdown",
   "metadata": {},
   "source": [
    "\\begin{align}\n",
    "x_i &= y_i - z_i\\\\\n",
    "\\overline{x} &= \\frac{1}{n} \\sum^n_{i=1}{x_i}\n",
    "&&s = \\sqrt{\\frac{ \\sum^n_{i=1}{(x_i - \\overline{x})^2} }{n-1}} \\\\\n",
    "s_e &= \\frac{s}{\\sqrt{n}}\n",
    "&&t = \\frac{  {\\overline{x} - \\mu_0}}{s_e}\n",
    "\\end{align}"
   ]
  },
  {
   "cell_type": "code",
   "execution_count": 12,
   "metadata": {},
   "outputs": [
    {
     "name": "stdout",
     "output_type": "stream",
     "text": [
      "-0.994695656215 1.90889740658\n",
      "[-4.4951833  -1.11696477  1.41455432 -1.10431903  2.0588363  -0.75122838\n",
      " -1.4013749  -2.0162758  -4.60279641 -2.18351851 -0.55490209 -0.50757731\n",
      " -0.11293975  2.14469657 -1.69144178]\n"
     ]
    }
   ],
   "source": [
    "# Descriptive statistics\n",
    "sample1 = norm.rvs(loc=5.8, scale=2, size=15)\n",
    "sample2 = norm.rvs(loc=6.1, scale=2, size=15)\n",
    "sample = sample1 - sample2\n",
    "n, mean, sd = len(sample), np.mean(sample), np.std(sample)\n",
    "print(mean, sd)\n",
    "print(sample)"
   ]
  },
  {
   "cell_type": "code",
   "execution_count": 13,
   "metadata": {},
   "outputs": [
    {
     "name": "stdout",
     "output_type": "stream",
     "text": [
      "-1.94971732731 0.0715290904481 [-2.14478669  2.14478669]\n",
      "Ttest_relResult(statistic=-1.9497173273086565, pvalue=0.071529090448077412)\n"
     ]
    }
   ],
   "source": [
    "# Inferential statistics\n",
    "mu0 = 0 # No difference\n",
    "se = sd / np.sqrt(n-1)\n",
    "T = (mean - mu0) / se\n",
    "p = t.cdf(T, n-1)*2\n",
    "cv = np.array(t.interval(.95, n -1))\n",
    "print(T, p, cv)\n",
    "print(ttest_rel(sample1, sample2))"
   ]
  },
  {
   "cell_type": "code",
   "execution_count": 14,
   "metadata": {},
   "outputs": [
    {
     "data": {
      "image/png": "[encoded data removed]",
      "text/plain": [
       "<matplotlib.figure.Figure at 0x120305860>"
      ]
     },
     "metadata": {},
     "output_type": "display_data"
    }
   ],
   "source": [
    "plotGauss(mu0, se, cv, mean, 'Estimated Sampling Distribution', apa(n-1, T, p, 'two-tailed'))"
   ]
  },
  {
   "cell_type": "markdown",
   "metadata": {},
   "source": [
    "### Two sampled t-test\n",
    "Is there a significant difference between independent samples."
   ]
  },
  {
   "cell_type": "markdown",
   "metadata": {},
   "source": [
    "\\begin{align}\n",
    "\\overline{x} &= \\frac{1}{n} \\sum^n_{i=1}{x_i}\n",
    "&&\\overline{y} = \\frac{1}{m} \\sum^n_{i=1}{y_i}\\\\\n",
    "s_x &= \\sqrt{{\\frac{ \\sum^n_{i=1}{(x_i - \\overline{x})^2} }{n-1}}} \n",
    "&& s_y = \\sqrt{{\\frac{ \\sum^m_{i=1}{(y_i - \\overline{y})^2} }{m-1}}} \\\\\n",
    "s_p &= \\sqrt{\\frac{(n-1)s^2_x + (m-1)s^2_y}{n+m-2}}\n",
    "&&s_e = s_p\\sqrt{\\frac{1}{n}+\\frac{1}{m}}\\\\\n",
    "s_e &= \\sqrt{\\frac{s_x^2}{n}+\\frac{s_y^2}{m}}\n",
    "&&t = \\frac{  {\\overline{x} - \\overline{y}}} {s_e}\n",
    "\\end{align}"
   ]
  },
  {
   "cell_type": "code",
   "execution_count": 15,
   "metadata": {},
   "outputs": [
    {
     "name": "stdout",
     "output_type": "stream",
     "text": [
      "5.34475322342 1.55292704505 6.99384701327 1.77134732746\n",
      "[ 5.24876188  5.46446743  5.56385678  7.45703975  1.45385609  5.19387928\n",
      "  5.2957294   5.67422097  6.45336847  2.44857385  7.62203964  6.21636964\n",
      "  4.74128814  5.32932115  6.00852587]\n",
      "[  7.97149678   5.2476218    3.93136577  10.74105381   7.33228686\n",
      "   6.63968299   8.02685325   7.91117449   5.8562869    6.28064749]\n"
     ]
    }
   ],
   "source": [
    "# Descriptive statistics\n",
    "sample1 = norm.rvs(loc=5.8, scale=2, size=15)\n",
    "sample2 = norm.rvs(loc=6.1, scale=2, size=10)\n",
    "n, mean1, sd1 = len(sample1), np.mean(sample1), np.std(sample1)\n",
    "m, mean2, sd2 = len(sample2), np.mean(sample2), np.std(sample2)\n",
    "print(mean1, sd1, mean2, sd2)\n",
    "print(sample1)\n",
    "print(sample2)"
   ]
  },
  {
   "cell_type": "code",
   "execution_count": 16,
   "metadata": {},
   "outputs": [
    {
     "name": "stdout",
     "output_type": "stream",
     "text": [
      "-2.39391797358 0.0252154928215 [-2.06865761  2.06865761]\n",
      "Ttest_indResult(statistic=-2.357060756922233, pvalue=0.027306471155676908)\n"
     ]
    }
   ],
   "source": [
    "# Inferential statistics\n",
    "mu0 = 0\n",
    "#sp = np.sqrt(((n-1) * np.power(sd1, 2) + (m-1) * np.power(sd2, 2)) / (n + m - 2))\n",
    "#se = sp * np.sqrt((1/float(n)+1/float(m)))\n",
    "se = np.sqrt((np.power(sd1, 2) / n) + (np.power(sd2, 2) / m))\n",
    "T = (mean1 - mean2) / se\n",
    "p = t.cdf(T, n+m-2)*2\n",
    "cv = np.array(t.interval(.95, n + m - 2))\n",
    "print(T, p, cv)\n",
    "print(ttest_ind(sample1, sample2))"
   ]
  },
  {
   "cell_type": "code",
   "execution_count": 17,
   "metadata": {},
   "outputs": [
    {
     "data": {
      "image/png": "[encoded data removed]",
      "text/plain": [
       "<matplotlib.figure.Figure at 0x120621be0>"
      ]
     },
     "metadata": {},
     "output_type": "display_data"
    }
   ],
   "source": [
    "plotGauss(mu0, se, cv, mean1 - mean2, 'Estimated Sampling Distribution', apa(n+m-2, T, p, 'two-tailed'))"
   ]
  },
  {
   "cell_type": "markdown",
   "metadata": {},
   "source": [
    "### Cohen's d and r squared"
   ]
  },
  {
   "cell_type": "markdown",
   "metadata": {},
   "source": [
    "\\begin{align}\n",
    "s_p &= \\sqrt{\\frac{(n-1)s^2_x + (m-1)s^2_y}{n+m-2}}\\\\\n",
    "d &= \\frac{  {\\overline{x} - \\overline{y}}} {s_p}\n",
    "&r^2 = \\frac{t^2}{t^2+df}\n",
    "\\end{align}"
   ]
  },
  {
   "cell_type": "markdown",
   "metadata": {
    "collapsed": true
   },
   "source": [
    "## 2. Analysis of variance - Anova"
   ]
  },
  {
   "cell_type": "code",
   "execution_count": 18,
   "metadata": {},
   "outputs": [],
   "source": [
    "from scipy.stats import f, f_oneway"
   ]
  },
  {
   "cell_type": "markdown",
   "metadata": {},
   "source": [
    "Is there a significant difference between any two of more independent samples."
   ]
  },
  {
   "cell_type": "markdown",
   "metadata": {},
   "source": [
    "\\begin{align}\n",
    "F &= \\frac{between\\ group\\ variability}{within\\ group\\ variablilty} \n",
    "= \\frac{\\sum^k_{k=1}{n_k(\\overline{x}_k-\\overline{x}_G)^2}\\ /\\ (k-1)}{\\sum^k_{k=1}{(\\overline{x}_i-\\overline{x}_k)^2}\\ /\\ (N-k)}\n",
    "= \\frac{SS_{between}\\ /\\ df_{between}}{SS_{within}\\ /\\ df_{within}}\n",
    "= \\frac{MS_{between}}{MS_{within}}\n",
    "\\end{align}"
   ]
  },
  {
   "cell_type": "markdown",
   "metadata": {},
   "source": [
    "Descriptive statistics"
   ]
  },
  {
   "cell_type": "code",
   "execution_count": 19,
   "metadata": {},
   "outputs": [
    {
     "data": {
      "text/plain": [
       "[(2.094173107074305, 1.9350378766122853, 100),\n",
       " (9.561416426219866, 5.0764789371860664, 100),\n",
       " (29.784116098294593, 1.8286790502280033, 100)]"
      ]
     },
     "execution_count": 19,
     "metadata": {},
     "output_type": "execute_result"
    }
   ],
   "source": [
    "samples = np.array([norm.rvs(m, s, n) for (m, s, n) in [(2, 2, 100), (10, 5, 100), (30, 2, 100)]])\n",
    "statistics = [(np.mean(sample), np.std(sample), len(sample)) for sample in samples]\n",
    "statistics"
   ]
  },
  {
   "cell_type": "markdown",
   "metadata": {},
   "source": [
    "* As the between group variability increases, the F-statistic increases as well.\n",
    "* As the within group variability increases, the F-statistic decreases."
   ]
  },
  {
   "cell_type": "markdown",
   "metadata": {},
   "source": [
    "|Sample 1   |Sample 2   |Sample k   | Grand mean  |\n",
    "|--:|--:|--:|--:|\n",
    "| $x_1$  | $x_1$  |$x_1$  |   |   \n",
    "| $x_2$  | $x_2$  |$x_2$  |   |   \n",
    "| $x_3$  | $x_3$  |$x_3$  |   |   \n",
    "| $x_{n}$  | $x_{n}$  |$x_{n}$  |   |   \n",
    "|  $\\overline{x}_k$ | $\\overline{x}_k$  | $\\overline{x}_k$  | $\\overline{x}_G$  |"
   ]
  },
  {
   "cell_type": "markdown",
   "metadata": {},
   "source": [
    "Inferential statistics"
   ]
  },
  {
   "cell_type": "code",
   "execution_count": 20,
   "metadata": {},
   "outputs": [],
   "source": [
    "grandMean = samples.flatten().mean()\n",
    "sampleMeans = np.array([x[0] for x in statistics])\n",
    "sampleSizes = np.array([x[2] for x in statistics])"
   ]
  },
  {
   "cell_type": "code",
   "execution_count": 21,
   "metadata": {},
   "outputs": [],
   "source": [
    "ssb = np.sum(np.power(sampleMeans - grandMean, 2) * sampleSizes)\n",
    "ssw = np.sum([np.power(np.array(xi)-xk, 2) for xi, xk in zip(samples, sampleMeans)])\n",
    "dfb = len(sampleSizes) - 1\n",
    "dfw = len(samples.flatten()) - len(sampleSizes)"
   ]
  },
  {
   "cell_type": "code",
   "execution_count": 22,
   "metadata": {},
   "outputs": [
    {
     "name": "stdout",
     "output_type": "stream",
     "text": [
      "1855.09736511 1.52239119152e-168\n",
      "F_onewayResult(statistic=1855.0973651084048, pvalue=1.5223911915159777e-168)\n"
     ]
    }
   ],
   "source": [
    "F = (ssb / dfb) / (ssw / dfw)\n",
    "p = f.sf(F, dfb, dfw)\n",
    "print(F, p)\n",
    "print(f_oneway(samples[0], samples[1], samples[2]))"
   ]
  },
  {
   "cell_type": "markdown",
   "metadata": {},
   "source": [
    "Critical values, link to <a href=\"http://www.socr.ucla.edu/applets.dir/f_table.html\">F-table</a>."
   ]
  },
  {
   "cell_type": "code",
   "execution_count": 23,
   "metadata": {},
   "outputs": [
    {
     "name": "stdout",
     "output_type": "stream",
     "text": [
      "3.02615336857 Null hypothesis rejected? True\n"
     ]
    }
   ],
   "source": [
    "Fcrit = f.ppf(0.95, dfb, dfw)\n",
    "print(Fcrit, 'Null hypothesis rejected?', F > Fcrit)"
   ]
  },
  {
   "cell_type": "code",
   "execution_count": 24,
   "metadata": {},
   "outputs": [
    {
     "data": {
      "image/png": "[encoded data removed]",
      "text/plain": [
       "<matplotlib.figure.Figure at 0x1208b55c0>"
      ]
     },
     "metadata": {},
     "output_type": "display_data"
    }
   ],
   "source": [
    "fig = plt.figure(figsize=(18, 10))\n",
    "ax1 = fig.add_subplot(221); ax2 = fig.add_subplot(222)\n",
    "\n",
    "for i, (m, s, n) in enumerate(statistics):\n",
    "    ax = ax1.twinx()\n",
    "    x = np.linspace(m-4*s, m+4*s, num=100)\n",
    "    ax.plot(x, gauss(x, m, s), '-k')\n",
    "    ax.fill_between(x, 0, gauss(x, m, s), alpha=0.3)\n",
    "    ax.text(m+1, 1., 'Sample '+ str(i+1)+'\\n' +\n",
    "             r'$\\overline{x} =$' + str(round(m, 2)) + '\\n' + \n",
    "             r'$\\sigma =$' + str(round(s, 2)))\n",
    "    ax.set_ylim(0,1.2); ax.get_yaxis().set_visible(False)\n",
    "ax1.set_title('Sample distributions')\n",
    "\n",
    "x = np.linspace(0, 8, num=1000)\n",
    "ax2.plot(x, f.pdf(x, dfb, dfw), '-k')\n",
    "#ax2.fill_between(x, 0, f.pdf(x, dfb, dfw), alpha=0.2)\n",
    "ax2.fill_between(x, 0, f.pdf(x, dfb, dfw), where=x>Fcrit, color='r')\n",
    "ax2.axvline(x=F, color='r', ymax=f.pdf(F, dfb, dfw)*0.9)\n",
    "ax2.set_ylim(0,1.1); ax2.set_xlim(-.5,8)\n",
    "ax2.set_title('F distribution')\n",
    "\n",
    "s = 'F('+ str(dfb)+','+str(dfw)+') = ' + str(round(F, 2)) + ', p = ' + str(round(p, 2))\n",
    "ax2.text(0.9, 0.9, s)\n",
    "\n",
    "plt.show()"
   ]
  },
  {
   "cell_type": "markdown",
   "metadata": {
    "collapsed": true
   },
   "source": [
    "### Multiple Comparison Test - Tuckey's HSD"
   ]
  },
  {
   "cell_type": "markdown",
   "metadata": {},
   "source": [
    "\\begin{align}\n",
    "Tuckey's\\ HSD = q\\ \\sqrt{\\frac{MS_{within}}{n}}\n",
    "= q\\ \\frac{s_p}{\\sqrt{n}}\n",
    "\\end{align}\n",
    "\n",
    "Critical values, link to [Q-table](https://www2.stat.duke.edu/courses/Spring98/sta110c/qtable.html). If mean differences exceeds critical value, variables are honestly significantly different."
   ]
  },
  {
   "cell_type": "code",
   "execution_count": 25,
   "metadata": {},
   "outputs": [
    {
     "data": {
      "text/plain": [
       "1.1109536049453774"
      ]
     },
     "execution_count": 25,
     "metadata": {},
     "output_type": "execute_result"
    }
   ],
   "source": [
    "msw = ssw / dfw\n",
    "hsd = 3.34* np.sqrt(msw / sampleSizes[0])\n",
    "hsd"
   ]
  },
  {
   "cell_type": "code",
   "execution_count": 26,
   "metadata": {},
   "outputs": [
    {
     "name": "stdout",
     "output_type": "stream",
     "text": [
      "20.2226996721\n",
      "27.6899429912\n",
      "7.46724331915\n"
     ]
    }
   ],
   "source": [
    "print(sampleMeans[2] - sampleMeans[1])\n",
    "print(sampleMeans[2] - sampleMeans[0])\n",
    "print(sampleMeans[1] - sampleMeans[0])"
   ]
  },
  {
   "cell_type": "markdown",
   "metadata": {},
   "source": [
    "### Cohen's d and $\\eta$ squared test"
   ]
  },
  {
   "cell_type": "markdown",
   "metadata": {},
   "source": [
    "\\begin{align}\n",
    "d &= \\frac{  {\\overline{x} - \\overline{y}}} {\\sqrt{{MS_{within}}}} = \\frac{  {\\overline{x} - \\overline{y}}} {s_p}\\\\\\\\\n",
    "\\eta &= \\frac{SS_{between}}{SS_{between} + SS_{within}}\n",
    "\\end{align}"
   ]
  },
  {
   "cell_type": "code",
   "execution_count": 27,
   "metadata": {},
   "outputs": [
    {
     "name": "stdout",
     "output_type": "stream",
     "text": [
      "6.07980536757 8.32477694649 2.24497157891\n"
     ]
    }
   ],
   "source": [
    "den = np.sqrt(ssw / dfw)\n",
    "d1 = (sampleMeans[2] - sampleMeans[1]) / den\n",
    "d2 = (sampleMeans[2] - sampleMeans[0]) / den\n",
    "d3 = (sampleMeans[1] - sampleMeans[0]) / den\n",
    "print(d1, d2, d3)"
   ]
  },
  {
   "cell_type": "code",
   "execution_count": 28,
   "metadata": {},
   "outputs": [
    {
     "name": "stdout",
     "output_type": "stream",
     "text": [
      "0.925883312393\n"
     ]
    }
   ],
   "source": [
    "eta = ssb / (ssb + ssw)\n",
    "print(eta)"
   ]
  },
  {
   "cell_type": "markdown",
   "metadata": {
    "collapsed": true
   },
   "source": [
    "## 3. Correlation"
   ]
  },
  {
   "cell_type": "code",
   "execution_count": 29,
   "metadata": {},
   "outputs": [],
   "source": [
    "from scipy.stats import pearsonr, t"
   ]
  },
  {
   "cell_type": "markdown",
   "metadata": {},
   "source": [
    "$r^2$ is the percentage of the variation in $y$ explained by the variation in $x$. \n",
    "\n",
    "$t$ is used in a t-test to verify whether $\\rho$ (the estimated population correlation) expresses correlation."
   ]
  },
  {
   "cell_type": "markdown",
   "metadata": {},
   "source": [
    "\\begin{align}\n",
    "r &= \\frac{Cov\\ (x,y)}{s_x\\ s_y}\n",
    "= \\frac{\\sum_{i=1}^n{(x_i - \\overline{x})(y_i - \\overline{y})\\ /\\ (n - 1)}}{{s_x\\ s_y}} \\\\\\\\\n",
    "t &= \\frac{r\\sqrt{df}}{1 - r^2} &df = n-2\n",
    "\\end{align}"
   ]
  },
  {
   "cell_type": "markdown",
   "metadata": {},
   "source": [
    "Descriptive statistics"
   ]
  },
  {
   "cell_type": "code",
   "execution_count": 30,
   "metadata": {},
   "outputs": [
    {
     "name": "stdout",
     "output_type": "stream",
     "text": [
      "9.98295915068 2.0299347956\n",
      "-101.126237664 25.633613391\n"
     ]
    }
   ],
   "source": [
    "sample1 = norm.rvs(10, 2, 200)\n",
    "sample2 = (sample1 + norm.rvs(0, 1.5, 200)) * -10\n",
    "n, mean1, sd1 = len(sample1), np.mean(sample1), np.std(sample1)\n",
    "m, mean2, sd2 = len(sample2), np.mean(sample2), np.std(sample2)\n",
    "print(mean1, sd1)\n",
    "print(mean2, sd2)"
   ]
  },
  {
   "cell_type": "markdown",
   "metadata": {},
   "source": [
    "Inferential statistics"
   ]
  },
  {
   "cell_type": "code",
   "execution_count": 31,
   "metadata": {},
   "outputs": [
    {
     "name": "stdout",
     "output_type": "stream",
     "text": [
      "-0.824604443675 -36.2569236043 1.0\n",
      "(-0.82460444367507313, 7.0687309919977761e-51)\n",
      "-10.4129411228 2.82572820259\n"
     ]
    }
   ],
   "source": [
    "r = (((sample1 - mean1) * (sample2 - mean2)).sum() / (n - 1)) / (sd1 * sd2)\n",
    "r = (n * (sample1*sample2).sum() - sample1.sum()*sample2.sum()) / np.sqrt((n*np.power(sample1, 2).sum() - np.power(sample1.sum(), 2)) * (n*np.power(sample2, 2).sum() - np.power(sample2.sum(), 2)))\n",
    "T = (r * np.sqrt(n-2)) / (1 - np.power(r, 2))\n",
    "p = t.sf(T, n-1)\n",
    "slope = r * sd2 / sd1\n",
    "intercept = mean2 - slope * mean1\n",
    "print(r, T, p)\n",
    "print(pearsonr(sample1, sample2))\n",
    "print(slope, intercept)"
   ]
  },
  {
   "cell_type": "code",
   "execution_count": 32,
   "metadata": {},
   "outputs": [
    {
     "data": {
      "image/png": "[encoded data removed]",
      "text/plain": [
       "<matplotlib.figure.Figure at 0x120441c50>"
      ]
     },
     "metadata": {},
     "output_type": "display_data"
    }
   ],
   "source": [
    "fig = plt.figure(figsize=(18, 10))\n",
    "ax = fig.add_subplot(221)\n",
    "ax.scatter(sample1, sample2, marker='.')\n",
    "x = np.linspace(min(sample1), max(sample1), num=1000)\n",
    "ax.plot(x, slope * x + intercept, color='k')\n",
    "plt.show()"
   ]
  }
 ],
 "metadata": {
  "kernelspec": {
   "display_name": "Python 3",
   "language": "python",
   "name": "python3"
  },
  "language_info": {
   "codemirror_mode": {
    "name": "ipython",
    "version": 3
   },
   "file_extension": ".py",
   "mimetype": "text/x-python",
   "name": "python",
   "nbconvert_exporter": "python",
   "pygments_lexer": "ipython3",
   "version": "3.6.4"
  }
 },
 "nbformat": 4,
 "nbformat_minor": 2
}
