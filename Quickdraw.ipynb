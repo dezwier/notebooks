{
 "cells": [
  {
   "cell_type": "markdown",
   "metadata": {
    "colab_type": "text",
    "id": "tBlZgl52Zgsb"
   },
   "source": [
    "# Classifying Google's Quickdraw Drawings "
   ]
  },
  {
   "cell_type": "code",
   "execution_count": 0,
   "metadata": {
    "cellView": "code",
    "colab": {
     "autoexec": {
      "startup": false,
      "wait_interval": 0
     }
    },
    "colab_type": "code",
    "id": "geSJU2I1Zgsc"
   },
   "outputs": [],
   "source": [
    "import numpy as np\n",
    "import pandas as pd\n",
    "import tensorflow as tf\n",
    "import os\n",
    "import matplotlib.pyplot as plt\n",
    "import matplotlib.cm as cm"
   ]
  },
  {
   "cell_type": "code",
   "execution_count": 0,
   "metadata": {
    "colab": {
     "autoexec": {
      "startup": false,
      "wait_interval": 0
     }
    },
    "colab_type": "code",
    "id": "2_lTIiCGZgsg"
   },
   "outputs": [],
   "source": [
    "SIZE = 28\n",
    "LABELS = 5\n",
    "CHANNELS = 1"
   ]
  },
  {
   "cell_type": "code",
   "execution_count": 0,
   "metadata": {
    "colab": {
     "autoexec": {
      "startup": false,
      "wait_interval": 0
     },
     "base_uri": "https://localhost:8080/",
     "height": 34
    },
    "colab_type": "code",
    "executionInfo": {
     "elapsed": 1357,
     "status": "ok",
     "timestamp": 1526797863459,
     "user": {
      "displayName": "Desiré De Waele",
      "photoUrl": "//lh6.googleusercontent.com/-WZlKZyTW8cA/AAAAAAAAAAI/AAAAAAAAF3s/6MlUlB9OrDo/s50-c-k-no/photo.jpg",
      "userId": "114986057329968215338"
     },
     "user_tz": -120
    },
    "id": "wc_ckeX4xSOX",
    "outputId": "4903a2bf-5bb9-4957-d988-0ebb976faf65"
   },
   "outputs": [
    {
     "data": {
      "text/plain": [
       "'/device:GPU:0'"
      ]
     },
     "execution_count": 3,
     "metadata": {
      "tags": []
     },
     "output_type": "execute_result"
    }
   ],
   "source": [
    "tf.test.gpu_device_name()"
   ]
  },
  {
   "cell_type": "code",
   "execution_count": 0,
   "metadata": {
    "colab": {
     "autoexec": {
      "startup": false,
      "wait_interval": 0
     }
    },
    "colab_type": "code",
    "id": "XUxmanitDdO2"
   },
   "outputs": [],
   "source": [
    "!pip install -U -q PyDrive\n",
    "from pydrive.auth import GoogleAuth\n",
    "from pydrive.drive import GoogleDrive\n",
    "from google.colab import auth\n",
    "from oauth2client.client import GoogleCredentials\n",
    "\n",
    "auth.authenticate_user()\n",
    "gauth = GoogleAuth()\n",
    "gauth.credentials = GoogleCredentials.get_application_default()\n",
    "drive = GoogleDrive(gauth)"
   ]
  },
  {
   "cell_type": "markdown",
   "metadata": {
    "colab_type": "text",
    "id": "Leu2kqZSZgsq"
   },
   "source": [
    "---\n",
    "## Data Import"
   ]
  },
  {
   "cell_type": "code",
   "execution_count": 0,
   "metadata": {
    "colab": {
     "autoexec": {
      "startup": false,
      "wait_interval": 0
     }
    },
    "colab_type": "code",
    "id": "9fYN6yT-FT5H"
   },
   "outputs": [],
   "source": [
    "files = drive.ListFile({'q': \"'0BwE3p-ta6_g5MlkxMkN5QkFYWFk' in parents and trashed=false\"}).GetList()\n",
    "for file in files:\n",
    "    file.GetContentFile(file.get('title'))"
   ]
  },
  {
   "cell_type": "code",
   "execution_count": 0,
   "metadata": {
    "colab": {
     "autoexec": {
      "startup": false,
      "wait_interval": 0
     }
    },
    "colab_type": "code",
    "id": "1In-Y3RPZgsq"
   },
   "outputs": [],
   "source": [
    "localPath = \"/Users/desiredewaele/Google Drive/Datasets/Quickdraw/\"\n",
    "cloudPath = \"./\"\n",
    "files = np.array([f for f in os.listdir(cloudPath) if f.endswith('.npy')])\n",
    "\n",
    "tensor = np.empty((0, 784))\n",
    "labels = np.empty(0)\n",
    "for i, file in enumerate(files):\n",
    "    data = np.load(cloudPath+file)[:20000]\n",
    "    category = np.repeat(file[:-4], data.shape[0])\n",
    "    tensor = np.append(tensor, data, axis=0)\n",
    "    labels = np.append(labels, category, axis=0)"
   ]
  },
  {
   "cell_type": "code",
   "execution_count": 0,
   "metadata": {
    "colab": {
     "autoexec": {
      "startup": false,
      "wait_interval": 0
     },
     "base_uri": "https://localhost:8080/",
     "height": 233
    },
    "colab_type": "code",
    "executionInfo": {
     "elapsed": 608,
     "status": "ok",
     "timestamp": 1526798139257,
     "user": {
      "displayName": "Desiré De Waele",
      "photoUrl": "//lh6.googleusercontent.com/-WZlKZyTW8cA/AAAAAAAAAAI/AAAAAAAAF3s/6MlUlB9OrDo/s50-c-k-no/photo.jpg",
      "userId": "114986057329968215338"
     },
     "user_tz": -120
    },
    "id": "fs_7Vmh_Zgss",
    "outputId": "05c269e5-018b-457c-9ec9-385d906922fe"
   },
   "outputs": [
    {
     "data": {
      "text/html": [
       "<div>\n",
       "<style scoped>\n",
       "    .dataframe tbody tr th:only-of-type {\n",
       "        vertical-align: middle;\n",
       "    }\n",
       "\n",
       "    .dataframe tbody tr th {\n",
       "        vertical-align: top;\n",
       "    }\n",
       "\n",
       "    .dataframe thead th {\n",
       "        text-align: right;\n",
       "    }\n",
       "</style>\n",
       "<table border=\"1\" class=\"dataframe\">\n",
       "  <thead>\n",
       "    <tr style=\"text-align: right;\">\n",
       "      <th></th>\n",
       "      <th>0</th>\n",
       "      <th>1</th>\n",
       "      <th>2</th>\n",
       "      <th>3</th>\n",
       "      <th>4</th>\n",
       "      <th>5</th>\n",
       "      <th>6</th>\n",
       "      <th>7</th>\n",
       "      <th>8</th>\n",
       "      <th>9</th>\n",
       "      <th>...</th>\n",
       "      <th>774</th>\n",
       "      <th>775</th>\n",
       "      <th>776</th>\n",
       "      <th>777</th>\n",
       "      <th>778</th>\n",
       "      <th>779</th>\n",
       "      <th>780</th>\n",
       "      <th>781</th>\n",
       "      <th>782</th>\n",
       "      <th>783</th>\n",
       "    </tr>\n",
       "  </thead>\n",
       "  <tbody>\n",
       "    <tr>\n",
       "      <th>0</th>\n",
       "      <td>0.0</td>\n",
       "      <td>0.0</td>\n",
       "      <td>0.0</td>\n",
       "      <td>0.0</td>\n",
       "      <td>0.0</td>\n",
       "      <td>0.0</td>\n",
       "      <td>0.0</td>\n",
       "      <td>0.0</td>\n",
       "      <td>0.0</td>\n",
       "      <td>0.0</td>\n",
       "      <td>...</td>\n",
       "      <td>0.0</td>\n",
       "      <td>0.0</td>\n",
       "      <td>0.0</td>\n",
       "      <td>0.0</td>\n",
       "      <td>0.0</td>\n",
       "      <td>0.0</td>\n",
       "      <td>0.0</td>\n",
       "      <td>0.0</td>\n",
       "      <td>0.0</td>\n",
       "      <td>0.0</td>\n",
       "    </tr>\n",
       "    <tr>\n",
       "      <th>1</th>\n",
       "      <td>0.0</td>\n",
       "      <td>0.0</td>\n",
       "      <td>0.0</td>\n",
       "      <td>0.0</td>\n",
       "      <td>0.0</td>\n",
       "      <td>0.0</td>\n",
       "      <td>0.0</td>\n",
       "      <td>0.0</td>\n",
       "      <td>0.0</td>\n",
       "      <td>0.0</td>\n",
       "      <td>...</td>\n",
       "      <td>0.0</td>\n",
       "      <td>0.0</td>\n",
       "      <td>0.0</td>\n",
       "      <td>0.0</td>\n",
       "      <td>0.0</td>\n",
       "      <td>0.0</td>\n",
       "      <td>0.0</td>\n",
       "      <td>0.0</td>\n",
       "      <td>0.0</td>\n",
       "      <td>0.0</td>\n",
       "    </tr>\n",
       "    <tr>\n",
       "      <th>2</th>\n",
       "      <td>0.0</td>\n",
       "      <td>0.0</td>\n",
       "      <td>0.0</td>\n",
       "      <td>0.0</td>\n",
       "      <td>0.0</td>\n",
       "      <td>0.0</td>\n",
       "      <td>0.0</td>\n",
       "      <td>0.0</td>\n",
       "      <td>0.0</td>\n",
       "      <td>0.0</td>\n",
       "      <td>...</td>\n",
       "      <td>0.0</td>\n",
       "      <td>0.0</td>\n",
       "      <td>0.0</td>\n",
       "      <td>0.0</td>\n",
       "      <td>0.0</td>\n",
       "      <td>0.0</td>\n",
       "      <td>0.0</td>\n",
       "      <td>0.0</td>\n",
       "      <td>0.0</td>\n",
       "      <td>0.0</td>\n",
       "    </tr>\n",
       "    <tr>\n",
       "      <th>3</th>\n",
       "      <td>0.0</td>\n",
       "      <td>0.0</td>\n",
       "      <td>0.0</td>\n",
       "      <td>0.0</td>\n",
       "      <td>0.0</td>\n",
       "      <td>0.0</td>\n",
       "      <td>0.0</td>\n",
       "      <td>0.0</td>\n",
       "      <td>0.0</td>\n",
       "      <td>0.0</td>\n",
       "      <td>...</td>\n",
       "      <td>0.0</td>\n",
       "      <td>0.0</td>\n",
       "      <td>0.0</td>\n",
       "      <td>0.0</td>\n",
       "      <td>0.0</td>\n",
       "      <td>0.0</td>\n",
       "      <td>0.0</td>\n",
       "      <td>0.0</td>\n",
       "      <td>0.0</td>\n",
       "      <td>0.0</td>\n",
       "    </tr>\n",
       "    <tr>\n",
       "      <th>4</th>\n",
       "      <td>0.0</td>\n",
       "      <td>0.0</td>\n",
       "      <td>0.0</td>\n",
       "      <td>0.0</td>\n",
       "      <td>0.0</td>\n",
       "      <td>0.0</td>\n",
       "      <td>0.0</td>\n",
       "      <td>0.0</td>\n",
       "      <td>0.0</td>\n",
       "      <td>0.0</td>\n",
       "      <td>...</td>\n",
       "      <td>0.0</td>\n",
       "      <td>0.0</td>\n",
       "      <td>0.0</td>\n",
       "      <td>0.0</td>\n",
       "      <td>0.0</td>\n",
       "      <td>0.0</td>\n",
       "      <td>0.0</td>\n",
       "      <td>0.0</td>\n",
       "      <td>0.0</td>\n",
       "      <td>0.0</td>\n",
       "    </tr>\n",
       "  </tbody>\n",
       "</table>\n",
       "<p>5 rows × 784 columns</p>\n",
       "</div>"
      ],
      "text/plain": [
       "   0    1    2    3    4    5    6    7    8    9   ...   774  775  776  777  \\\n",
       "0  0.0  0.0  0.0  0.0  0.0  0.0  0.0  0.0  0.0  0.0 ...   0.0  0.0  0.0  0.0   \n",
       "1  0.0  0.0  0.0  0.0  0.0  0.0  0.0  0.0  0.0  0.0 ...   0.0  0.0  0.0  0.0   \n",
       "2  0.0  0.0  0.0  0.0  0.0  0.0  0.0  0.0  0.0  0.0 ...   0.0  0.0  0.0  0.0   \n",
       "3  0.0  0.0  0.0  0.0  0.0  0.0  0.0  0.0  0.0  0.0 ...   0.0  0.0  0.0  0.0   \n",
       "4  0.0  0.0  0.0  0.0  0.0  0.0  0.0  0.0  0.0  0.0 ...   0.0  0.0  0.0  0.0   \n",
       "\n",
       "   778  779  780  781  782  783  \n",
       "0  0.0  0.0  0.0  0.0  0.0  0.0  \n",
       "1  0.0  0.0  0.0  0.0  0.0  0.0  \n",
       "2  0.0  0.0  0.0  0.0  0.0  0.0  \n",
       "3  0.0  0.0  0.0  0.0  0.0  0.0  \n",
       "4  0.0  0.0  0.0  0.0  0.0  0.0  \n",
       "\n",
       "[5 rows x 784 columns]"
      ]
     },
     "execution_count": 28,
     "metadata": {
      "tags": []
     },
     "output_type": "execute_result"
    }
   ],
   "source": [
    "pd.DataFrame(tensor).head()"
   ]
  },
  {
   "cell_type": "code",
   "execution_count": 0,
   "metadata": {
    "colab": {
     "autoexec": {
      "startup": false,
      "wait_interval": 0
     },
     "base_uri": "https://localhost:8080/",
     "height": 34
    },
    "colab_type": "code",
    "executionInfo": {
     "elapsed": 614,
     "status": "ok",
     "timestamp": 1526798140081,
     "user": {
      "displayName": "Desiré De Waele",
      "photoUrl": "//lh6.googleusercontent.com/-WZlKZyTW8cA/AAAAAAAAAAI/AAAAAAAAF3s/6MlUlB9OrDo/s50-c-k-no/photo.jpg",
      "userId": "114986057329968215338"
     },
     "user_tz": -120
    },
    "id": "8IWiQhLpZgsy",
    "outputId": "c9658226-07af-4377-f450-5dbb96ea76cf"
   },
   "outputs": [
    {
     "name": "stdout",
     "output_type": "stream",
     "text": [
      "['flower' 'flower' 'flower' ... 'hammer' 'hammer' 'hammer']\n"
     ]
    }
   ],
   "source": [
    "print(labels)"
   ]
  },
  {
   "cell_type": "code",
   "execution_count": 0,
   "metadata": {
    "colab": {
     "autoexec": {
      "startup": false,
      "wait_interval": 0
     },
     "base_uri": "https://localhost:8080/",
     "height": 356
    },
    "colab_type": "code",
    "executionInfo": {
     "elapsed": 2696,
     "status": "ok",
     "timestamp": 1526798143059,
     "user": {
      "displayName": "Desiré De Waele",
      "photoUrl": "//lh6.googleusercontent.com/-WZlKZyTW8cA/AAAAAAAAAAI/AAAAAAAAF3s/6MlUlB9OrDo/s50-c-k-no/photo.jpg",
      "userId": "114986057329968215338"
     },
     "user_tz": -120
    },
    "id": "JJcIGODJZgs1",
    "outputId": "abf1962d-8d76-4147-ec85-a485ec9ac062"
   },
   "outputs": [
    {
     "data": {
      "image/png": "[encoded data removed]",
      "text/plain": [
       "<matplotlib.figure.Figure at 0x7fdd5b6b2780>"
      ]
     },
     "metadata": {
      "tags": []
     },
     "output_type": "display_data"
    }
   ],
   "source": [
    "fig, ax = plt.subplots(3, 10, figsize = (16, 6))\n",
    "for i in range(3):\n",
    "    for j in range(10):\n",
    "        x = np.random.randint(0, len(tensor))\n",
    "        ax[i,j].matshow(tensor.reshape(-1, SIZE, SIZE)[x], cmap=cm.gray_r)\n",
    "        ax[i,j].set_title(\"{}\".format(labels[x]))\n",
    "        ax[i,j].axis('off')\n",
    "plt.show()"
   ]
  },
  {
   "cell_type": "markdown",
   "metadata": {
    "colab_type": "text",
    "id": "uLgAealtZgs5"
   },
   "source": [
    "---\n",
    "## Data Preproccessing"
   ]
  },
  {
   "cell_type": "code",
   "execution_count": 0,
   "metadata": {
    "colab": {
     "autoexec": {
      "startup": false,
      "wait_interval": 0
     },
     "base_uri": "https://localhost:8080/",
     "height": 51
    },
    "colab_type": "code",
    "executionInfo": {
     "elapsed": 686,
     "status": "ok",
     "timestamp": 1526798143771,
     "user": {
      "displayName": "Desiré De Waele",
      "photoUrl": "//lh6.googleusercontent.com/-WZlKZyTW8cA/AAAAAAAAAAI/AAAAAAAAF3s/6MlUlB9OrDo/s50-c-k-no/photo.jpg",
      "userId": "114986057329968215338"
     },
     "user_tz": -120
    },
    "id": "ntN1vYPGZgs5",
    "outputId": "3dcaf478-dd12-4554-e2a5-1e54cff3930b"
   },
   "outputs": [
    {
     "name": "stdout",
     "output_type": "stream",
     "text": [
      "Data set: (100000, 784) \n",
      "Labels: (100000,) \n"
     ]
    }
   ],
   "source": [
    "print('Data set: {} '.format(tensor.shape))\n",
    "print('Labels: {} '.format(labels.shape))"
   ]
  },
  {
   "cell_type": "code",
   "execution_count": 0,
   "metadata": {
    "colab": {
     "autoexec": {
      "startup": false,
      "wait_interval": 0
     }
    },
    "colab_type": "code",
    "id": "FU57ufmFZgs8"
   },
   "outputs": [],
   "source": [
    "tensor = tensor.reshape(-1, SIZE, SIZE, CHANNELS)\n",
    "target = pd.get_dummies(pd.DataFrame(labels)).values"
   ]
  },
  {
   "cell_type": "code",
   "execution_count": 0,
   "metadata": {
    "colab": {
     "autoexec": {
      "startup": false,
      "wait_interval": 0
     },
     "base_uri": "https://localhost:8080/",
     "height": 51
    },
    "colab_type": "code",
    "executionInfo": {
     "elapsed": 731,
     "status": "ok",
     "timestamp": 1526798145588,
     "user": {
      "displayName": "Desiré De Waele",
      "photoUrl": "//lh6.googleusercontent.com/-WZlKZyTW8cA/AAAAAAAAAAI/AAAAAAAAF3s/6MlUlB9OrDo/s50-c-k-no/photo.jpg",
      "userId": "114986057329968215338"
     },
     "user_tz": -120
    },
    "id": "cjWQLaxgZgs-",
    "outputId": "22c53ff4-485f-42b8-a8da-a2cf5f9aa73d"
   },
   "outputs": [
    {
     "name": "stdout",
     "output_type": "stream",
     "text": [
      "Tensor Shape: (100000, 28, 28, 1) \n",
      "Target Shape: (100000, 5) \n"
     ]
    }
   ],
   "source": [
    "print('Tensor Shape: {} '.format(tensor.shape, target.shape))\n",
    "print('Target Shape: {} '.format(target.shape))"
   ]
  },
  {
   "cell_type": "code",
   "execution_count": 0,
   "metadata": {
    "colab": {
     "autoexec": {
      "startup": false,
      "wait_interval": 0
     }
    },
    "colab_type": "code",
    "id": "9YfLemqoZgtD"
   },
   "outputs": [],
   "source": [
    "from sklearn.model_selection import train_test_split\n",
    "traindevX, testX, traindevY, testY = train_test_split(tensor, target, test_size=10000, random_state=100)\n",
    "trainX, validX, trainY, validY = train_test_split(traindevX, traindevY, test_size=10000, random_state=100)"
   ]
  },
  {
   "cell_type": "code",
   "execution_count": 0,
   "metadata": {
    "colab": {
     "autoexec": {
      "startup": false,
      "wait_interval": 0
     },
     "base_uri": "https://localhost:8080/",
     "height": 68
    },
    "colab_type": "code",
    "executionInfo": {
     "elapsed": 619,
     "status": "ok",
     "timestamp": 1526798147961,
     "user": {
      "displayName": "Desiré De Waele",
      "photoUrl": "//lh6.googleusercontent.com/-WZlKZyTW8cA/AAAAAAAAAAI/AAAAAAAAF3s/6MlUlB9OrDo/s50-c-k-no/photo.jpg",
      "userId": "114986057329968215338"
     },
     "user_tz": -120
    },
    "id": "yaqRLRx8ZgtG",
    "outputId": "86a80345-b790-4ceb-e566-12ff226c25f0"
   },
   "outputs": [
    {
     "name": "stdout",
     "output_type": "stream",
     "text": [
      "Training set:   (80000, 28, 28, 1) (80000, 5)\n",
      "Validation set: (10000, 28, 28, 1) (10000, 5)\n",
      "Testing set:    (10000, 28, 28, 1) (10000, 5)\n"
     ]
    }
   ],
   "source": [
    "print('Training set:   {} {}'.format(trainX.shape, trainY.shape))\n",
    "print('Validation set: {} {}'.format(validX.shape, validY.shape))\n",
    "print('Testing set:    {} {}'.format(testX.shape, testY.shape))"
   ]
  },
  {
   "cell_type": "markdown",
   "metadata": {
    "colab_type": "text",
    "id": "2QWnZUaPZgtK"
   },
   "source": [
    "---\n",
    "## Convolutional Neural Network"
   ]
  },
  {
   "cell_type": "code",
   "execution_count": 0,
   "metadata": {
    "cellView": "code",
    "colab": {
     "autoexec": {
      "startup": false,
      "wait_interval": 0
     }
    },
    "colab_type": "code",
    "id": "y1MsN8E3ZgtK"
   },
   "outputs": [],
   "source": [
    "BATCH = 10\n",
    "FILTER = 5\n",
    "NUMFILTERS = 32\n",
    "HIDDEN = 100\n",
    "RATE = 1e-4\n",
    "STEPS = 20"
   ]
  },
  {
   "cell_type": "code",
   "execution_count": 0,
   "metadata": {
    "colab": {
     "autoexec": {
      "startup": false,
      "wait_interval": 0
     }
    },
    "colab_type": "code",
    "id": "EKh1yFIjZgtN"
   },
   "outputs": [],
   "source": [
    "graph = tf.Graph()\n",
    "with graph.as_default():\n",
    "\n",
    "    with tf.name_scope('Input'):\n",
    "        tfDataX = tf.placeholder(tf.float32, (None, SIZE, SIZE, CHANNELS), 'Tensor')\n",
    "        tfDataY = tf.placeholder(tf.float32, (None, LABELS), 'Target')\n",
    "        tfDrop = tf.placeholder(tf.float32, None, 'Dropout')\n",
    "\n",
    "    with tf.name_scope('Variables'):\n",
    "        w1 = tf.get_variable('W1', [FILTER, FILTER, CHANNELS, NUMFILTERS], initializer=tf.contrib.layers.xavier_initializer())\n",
    "        w2 = tf.get_variable('W2', [FILTER, FILTER, NUMFILTERS, NUMFILTERS*2], initializer=tf.contrib.layers.xavier_initializer())\n",
    "        w3 = tf.get_variable('W3', [SIZE//4 * SIZE//4 * NUMFILTERS*2, HIDDEN], initializer=tf.contrib.layers.xavier_initializer())\n",
    "        w4 = tf.get_variable('W4', [HIDDEN, LABELS], initializer=tf.contrib.layers.xavier_initializer())\n",
    "\n",
    "    with tf.name_scope('ConvolutionalNetwork'):\n",
    "        def model(x):\n",
    "            # Convolutional layer 1\n",
    "            x = tf.nn.conv2d(x, w1, strides=[1, 1, 1, 1], padding='SAME')\n",
    "            x = tf.nn.relu(x)\n",
    "            x = tf.nn.max_pool(x, ksize=[1, 2, 2, 1], strides=[1, 2, 2, 1], padding='SAME')\n",
    "\n",
    "            # Convolutional layer 2\n",
    "            x = tf.nn.conv2d(x, w2, strides=[1, 1, 1, 1], padding='SAME')\n",
    "            x = tf.nn.relu(x)\n",
    "            x = tf.nn.max_pool(x, ksize=[1, 2, 2, 1], strides=[1, 2, 2, 1], padding='SAME')\n",
    "\n",
    "            # Fully connected layer\n",
    "            x = tf.reshape(x, (-1, SIZE//4 * SIZE//4 * NUMFILTERS*2))\n",
    "            x = tf.nn.relu(tf.matmul(x, w3))\n",
    "\n",
    "            # Readout layer with dropout\n",
    "            x = tf.nn.dropout(x, tfDrop)\n",
    "            x = tf.matmul(x, w4)\n",
    "            return x\n",
    "  \n",
    "    with tf.name_scope('Training'):\n",
    "        logits = model(tfDataX)\n",
    "        cost = tf.reduce_mean(tf.nn.softmax_cross_entropy_with_logits_v2(logits=logits, labels=tfDataY), name=\"Cost\")\n",
    "        optimizer = tf.train.AdamOptimizer(RATE).minimize(cost, name=\"Optimize\")\n",
    "\n",
    "    # Predictions and Accuracy.\n",
    "    predictions = {\"classes\": tf.argmax(logits, 1), \"probabilities\": tf.nn.softmax(logits)}\n",
    "    accuracy = tf.reduce_mean(tf.cast(tf.equal(predictions['classes'], tf.argmax(tfDataY, 1)), \"float\"))\n",
    "    \n",
    "    with tf.name_scope('Summarize'):\n",
    "        tf.summary.scalar(\"Cost\", cost)\n",
    "        summary = tf.summary.merge_all()"
   ]
  },
  {
   "cell_type": "code",
   "execution_count": 0,
   "metadata": {
    "colab": {
     "autoexec": {
      "startup": false,
      "wait_interval": 0
     },
     "base_uri": "https://localhost:8080/",
     "height": 374
    },
    "colab_type": "code",
    "executionInfo": {
     "elapsed": 663271,
     "status": "ok",
     "timestamp": 1526798934198,
     "user": {
      "displayName": "Desiré De Waele",
      "photoUrl": "//lh6.googleusercontent.com/-WZlKZyTW8cA/AAAAAAAAAAI/AAAAAAAAF3s/6MlUlB9OrDo/s50-c-k-no/photo.jpg",
      "userId": "114986057329968215338"
     },
     "user_tz": -120
    },
    "id": "R6K5hy9MZgtQ",
    "outputId": "dc11896a-9150-4532-98e1-d2f8e9941566"
   },
   "outputs": [
    {
     "name": "stdout",
     "output_type": "stream",
     "text": [
      "\n",
      "Step 1 of 20 ================================================================================\n",
      "Step 2 of 20 ================================================================================\n",
      "Step 3 of 20 ================================================================================\n",
      "Step 4 of 20 ================================================================================\n",
      "Step 5 of 20 ================================================================================\n",
      "Step 6 of 20 ================================================================================\n",
      "Step 7 of 20 ================================================================================\n",
      "Step 8 of 20 ================================================================================\n",
      "Step 9 of 20 ================================================================================\n",
      "Step 10 of 20 ================================================================================\n",
      "Step 11 of 20 ================================================================================\n",
      "Step 12 of 20 ================================================================================\n",
      "Step 13 of 20 ================================================================================\n",
      "Step 14 of 20 ================================================================================\n",
      "Step 15 of 20 ================================================================================\n",
      "Step 16 of 20 ================================================================================\n",
      "Step 17 of 20 ================================================================================\n",
      "Step 18 of 20 ================================================================================\n",
      "Step 19 of 20 ================================================================================\n",
      "Step 20 of 20 ================================================================================"
     ]
    }
   ],
   "source": [
    "with tf.Session(graph=graph) as session:\n",
    "    tf.global_variables_initializer().run()\n",
    "    #writer = tf.summary.FileWriter('/Users/desiredewaele/TensorBoard/test', session.graph)\n",
    "    history = []\n",
    "    for step in range(STEPS):\n",
    "        print(f'\\nStep {step+1} of {STEPS} ', end='')\n",
    "        for batchNr in range(len(trainX) // BATCH):\n",
    "            if batchNr % 100 == 0: print('=', end='')\n",
    "            offset = BATCH * batchNr\n",
    "            batchX = trainX[offset:offset+BATCH]\n",
    "            batchY = trainY[offset:offset+BATCH]\n",
    "            session.run(optimizer, {tfDataX: batchX, tfDataY: batchY, tfDrop: 0.5})\n",
    "        lt, at = session.run([cost, accuracy], {tfDataX: batchX, tfDataY: batchY, tfDrop: 1.0})\n",
    "        lv, av = session.run([cost, accuracy], {tfDataX: validX, tfDataY: validY, tfDrop: 1.0})\n",
    "        history.append((at, av, lt, lv))\n",
    "    predictions = session.run(predictions, {tfDataX: testX, tfDrop: 1.0})\n",
    "    accuracy = session.run(accuracy, {tfDataX: testX, tfDataY: testY, tfDrop: 1.0})"
   ]
  },
  {
   "cell_type": "markdown",
   "metadata": {},
   "source": [
    "---\n",
    "## Performance"
   ]
  },
  {
   "cell_type": "code",
   "execution_count": 0,
   "metadata": {
    "colab": {
     "autoexec": {
      "startup": false,
      "wait_interval": 0
     },
     "base_uri": "https://localhost:8080/",
     "height": 261
    },
    "colab_type": "code",
    "executionInfo": {
     "elapsed": 1144,
     "status": "ok",
     "timestamp": 1526798942437,
     "user": {
      "displayName": "Desiré De Waele",
      "photoUrl": "//lh6.googleusercontent.com/-WZlKZyTW8cA/AAAAAAAAAAI/AAAAAAAAF3s/6MlUlB9OrDo/s50-c-k-no/photo.jpg",
      "userId": "114986057329968215338"
     },
     "user_tz": -120
    },
    "id": "oW_p6k_AZgtT",
    "outputId": "bc296214-6288-49d1-9870-ff15ab0256a3"
   },
   "outputs": [
    {
     "data": {
      "image/png": "[encoded data removed]",
      "text/plain": [
       "<matplotlib.figure.Figure at 0x7fdd81db26d8>"
      ]
     },
     "metadata": {
      "tags": []
     },
     "output_type": "display_data"
    }
   ],
   "source": [
    "at, av, lt, lv = zip(*history)\n",
    "fig = plt.figure(figsize=(15, 8)); ax1 = fig.add_subplot(221); ax2 = fig.add_subplot(222)\n",
    "\n",
    "ax1.plot(np.arange(0, len(at), 1), at,\".-\", color='#2A6EA6', label=\"Training: {0:.2f}%\".format(at[-1]*100))\n",
    "ax1.plot(np.arange(0, len(av), 1), av,\".-\", color='#FFA933', label=\"Validation: {0:.2f}%\".format(av[-1]*100))\n",
    "ax1.grid(True); ax1.legend(loc=\"lower right\"); ax1.set_title(\"Accuracy per epoch\")\n",
    "\n",
    "ax2.plot(np.arange(0, len(lt), 1), lt,\".-\", color='#2A6EA6', label=\"Training: {0:.2f}\".format(lt[-1]))\n",
    "ax2.plot(np.arange(0, len(lv), 1), lv,\".-\", color='#FFA933', label=\"Validation: {0:.2f}\".format(lv[-1]))\n",
    "ax2.grid(True); ax2.legend(loc=\"upper right\"); ax2.set_title(\"Cost per epoch\")\n",
    "plt.show()"
   ]
  },
  {
   "cell_type": "code",
   "execution_count": 0,
   "metadata": {
    "colab": {
     "autoexec": {
      "startup": false,
      "wait_interval": 0
     },
     "base_uri": "https://localhost:8080/",
     "height": 34
    },
    "colab_type": "code",
    "executionInfo": {
     "elapsed": 1306,
     "status": "ok",
     "timestamp": 1526799747888,
     "user": {
      "displayName": "Desiré De Waele",
      "photoUrl": "//lh6.googleusercontent.com/-WZlKZyTW8cA/AAAAAAAAAAI/AAAAAAAAF3s/6MlUlB9OrDo/s50-c-k-no/photo.jpg",
      "userId": "114986057329968215338"
     },
     "user_tz": -120
    },
    "id": "BC8_arcVT6si",
    "outputId": "d2c0c0b6-8fb1-4586-b937-3cbc4c45c618"
   },
   "outputs": [
    {
     "name": "stdout",
     "output_type": "stream",
     "text": [
      "Test Accuracy: 0.9664000272750854\n"
     ]
    }
   ],
   "source": [
    "print(\"Test Accuracy: {}\".format(accuracy))"
   ]
  },
  {
   "cell_type": "code",
   "execution_count": 0,
   "metadata": {
    "colab": {
     "autoexec": {
      "startup": false,
      "wait_interval": 0
     },
     "base_uri": "https://localhost:8080/",
     "height": 85
    },
    "colab_type": "code",
    "executionInfo": {
     "elapsed": 671,
     "status": "ok",
     "timestamp": 1526798970078,
     "user": {
      "displayName": "Desiré De Waele",
      "photoUrl": "//lh6.googleusercontent.com/-WZlKZyTW8cA/AAAAAAAAAAI/AAAAAAAAF3s/6MlUlB9OrDo/s50-c-k-no/photo.jpg",
      "userId": "114986057329968215338"
     },
     "user_tz": -120
    },
    "id": "SOyvOpp8ZgtW",
    "outputId": "a40ef1c5-d57e-4e0a-9155-28b925bc7134"
   },
   "outputs": [
    {
     "name": "stdout",
     "output_type": "stream",
     "text": [
      "[0 0 2]\n",
      "[[1.0000000e+00 2.5123551e-19 4.5272494e-19 2.8630827e-15 2.2940456e-18]\n",
      " [1.0000000e+00 3.0936984e-16 2.6553735e-15 2.9205018e-13 7.5297883e-16]\n",
      " [4.4904020e-29 8.5739513e-35 1.0000000e+00 8.0724286e-24 1.1118858e-35]]\n"
     ]
    }
   ],
   "source": [
    "print(predictions[\"classes\"][0:3])\n",
    "print(predictions[\"probabilities\"][0:3])"
   ]
  },
  {
   "cell_type": "code",
   "execution_count": 0,
   "metadata": {
    "colab": {
     "autoexec": {
      "startup": false,
      "wait_interval": 0
     },
     "base_uri": "https://localhost:8080/",
     "height": 280
    },
    "colab_type": "code",
    "executionInfo": {
     "elapsed": 1984,
     "status": "ok",
     "timestamp": 1526798988087,
     "user": {
      "displayName": "Desiré De Waele",
      "photoUrl": "//lh6.googleusercontent.com/-WZlKZyTW8cA/AAAAAAAAAAI/AAAAAAAAF3s/6MlUlB9OrDo/s50-c-k-no/photo.jpg",
      "userId": "114986057329968215338"
     },
     "user_tz": -120
    },
    "id": "Y0sly_ZGZgtZ",
    "outputId": "ce124d87-be84-46bf-cce7-2cf53c95aebc"
   },
   "outputs": [
    {
     "data": {
      "image/png": "[encoded data removed]",
      "text/plain": [
       "<matplotlib.figure.Figure at 0x7fdccbb00ba8>"
      ]
     },
     "metadata": {
      "tags": []
     },
     "output_type": "display_data"
    },
    {
     "data": {
      "image/png": "[encoded data removed]",
      "text/plain": [
       "<matplotlib.figure.Figure at 0x7fdccbb00f98>"
      ]
     },
     "metadata": {
      "tags": []
     },
     "output_type": "display_data"
    }
   ],
   "source": [
    "fig1, ax1 = plt.subplots(1, 10, figsize = (20, 2))\n",
    "fig2, ax2 = plt.subplots(1, 10, figsize = (20, 2))\n",
    "\n",
    "for t in range(10):\n",
    "    x = np.random.randint(0, len(testX))\n",
    "    ax1[t].matshow(testX[x,:,:,0], cmap=cm.gray_r)\n",
    "    ax1[t].get_yaxis().set_visible(False); ax1[t].get_xaxis().set_visible(False)\n",
    "    ax2[t].plot(predictions[\"probabilities\"][x], lw=2)\n",
    "    ax2[t].set_title(\"{}\".format(files[predictions[\"classes\"][x]]))\n",
    "    ax2[t].get_yaxis().set_visible(False); ax2[t].set_ylim([0, 1]); ax2[t].grid(True)\n",
    "plt.show()"
   ]
  }
 ],
 "metadata": {
  "accelerator": "GPU",
  "colab": {
   "collapsed_sections": [],
   "default_view": {},
   "name": "Copy of Quickdraw.ipynb",
   "provenance": [
    {
     "file_id": "1_7eHzyETzOs0VigbKVKWoTOkUcSrOgyl",
     "timestamp": 1526799832812
    }
   ],
   "toc_visible": true,
   "version": "0.3.2",
   "views": {}
  },
  "kernelspec": {
   "display_name": "Python 3",
   "language": "python",
   "name": "python3"
  },
  "language_info": {
   "codemirror_mode": {
    "name": "ipython",
    "version": 3
   },
   "file_extension": ".py",
   "mimetype": "text/x-python",
   "name": "python",
   "nbconvert_exporter": "python",
   "pygments_lexer": "ipython3",
   "version": "3.6.4"
  }
 },
 "nbformat": 4,
 "nbformat_minor": 1
}
