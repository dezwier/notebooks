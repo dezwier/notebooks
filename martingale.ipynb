{
 "cells": [
  {
   "cell_type": "markdown",
   "metadata": {},
   "source": [
    "# Martingale Strategy - Disproven\n",
    "> *April 2, 2018*"
   ]
  },
  {
   "cell_type": "markdown",
   "metadata": {},
   "source": [
    "<img src=\"img/roulette.jpg\" style=\"float:left;max-height:300px;border:1px solid black\">"
   ]
  },
  {
   "cell_type": "markdown",
   "metadata": {},
   "source": [
    "Also known as the doubling strategy, the martingale strategy lets the gambler double his bet after every loss, so that the first win would recover all previous losses plus win a profit equal to the original stake. The idea is that - even when hitting an unlucky losing streak - a win will appear eventually and profit is certain.\n",
    "\n",
    "This notebook contains proof that the martingale strategy is not profitable, as well as code simulations to demonstrate this proof.\n",
    "\n",
    "---"
   ]
  },
  {
   "cell_type": "markdown",
   "metadata": {},
   "source": [
    "## Contents\n",
    "\n",
    "1. **Theoretical Proof**\n",
    "2. **Martingale Simulation**\n",
    "\n",
    "---"
   ]
  },
  {
   "cell_type": "markdown",
   "metadata": {},
   "source": [
    "## 1. Theoretical Proof"
   ]
  },
  {
   "cell_type": "markdown",
   "metadata": {},
   "source": [
    "The **game rules** are simple:\n",
    "* The gambler places a bet with about 50% winning chances - e.g. coin flip or roulette.\n",
    "* The gambler repeats this every time he loses, doubling the previous bet.\n",
    "* As soon as the gambler wins, he takes profit and walks away."
   ]
  },
  {
   "cell_type": "markdown",
   "metadata": {},
   "source": [
    "We define two variables. A chosen starting bet $x$ and a capital $c$."
   ]
  },
  {
   "cell_type": "markdown",
   "metadata": {},
   "source": [
    "\\begin{align} \n",
    "x &= \\text{starting bet}\\\\\n",
    "c &= \\text{starting capital}\\\\\n",
    "\\end{align}"
   ]
  },
  {
   "cell_type": "markdown",
   "metadata": {},
   "source": [
    "Of course, with a certain capital, the gambler can only double his money a given number of times. With the starting bet and capital in mind, we can calculate this **number of possible games** in a worst case scenario, i.e. before being broke.\n",
    "* With 1 dollar as a starting bet, and 16 dollar capital, the gambler can play at least four games.\n",
    "* With 0.5 dollar as a starting bet, and 2 000 000 dollar capital, the gambler can play at least 21 games."
   ]
  },
  {
   "cell_type": "markdown",
   "metadata": {},
   "source": [
    "\\begin{align} \n",
    "n &= \\log _{2}\\left(\\frac{c}{x}\\right)\n",
    "\\end{align}"
   ]
  },
  {
   "cell_type": "markdown",
   "metadata": {},
   "source": [
    "Knowing the possible number of games, we can easily calculate the gambler's **losing probability** - i.e. having a lose streak of $n$ times. Of course, the winning probability would be the complement, i.e. 1 minus the losing probability.\n",
    "* If the gambler can play 3 games, he has a 12.5% probability to lose (and a 87.5% probability to win).\n",
    "* If the gambler can play 20 games, he has about 0.0001% probability to lose (and about 99.9999% probability to win)."
   ]
  },
  {
   "cell_type": "markdown",
   "metadata": {},
   "source": [
    "\\begin{align} \n",
    "p_{loss} &= \\frac{1}{2^n}\\\\\n",
    "\\end{align}"
   ]
  },
  {
   "cell_type": "markdown",
   "metadata": {},
   "source": [
    "Next to the losing and winning probability, the **profit and loss amounts** can also be calculated. \n",
    "\n",
    "The profit amount is easy: regardless of the number of games, if the gambler wins, the profit will be equal to the initial starting bet. E.g. starting with 1 dollar and needing 3 games to win, means 7 dollar placed bets, and 8 dollar won.\n",
    "\n",
    "The loss amount is a bit more tricky. If the gambler loses, he loses $2^n - 1$ times his starting bet. E.g. losing 5 times in a row amounts to a loss of 31 dollar."
   ]
  },
  {
   "cell_type": "markdown",
   "metadata": {},
   "source": [
    "\\begin{align} \n",
    "x_\\text{profit} &= x\\\\\n",
    "x_\\text{loss} &= −(2^n−1)x\n",
    "\\end{align}"
   ]
  },
  {
   "cell_type": "markdown",
   "metadata": {},
   "source": [
    "Now, given that we have expressions for the gambler's winning probability, as well as profit and loss amounts, we can put these together to express an **expected amount**."
   ]
  },
  {
   "cell_type": "markdown",
   "metadata": {},
   "source": [
    "\\begin{align} \n",
    "E[X] &= x_{loss} p_{loss} + x_{profit} (1-p_{loss})\\\\\n",
    "\\end{align}"
   ]
  },
  {
   "cell_type": "markdown",
   "metadata": {},
   "source": [
    "With the equation filled in, some basic algebra learns the following. "
   ]
  },
  {
   "cell_type": "markdown",
   "metadata": {},
   "source": [
    "\\begin{align} \n",
    "E[X] &= x_{loss} p_{loss} + x_{profit} (1-p_{loss})\\\\\n",
    "&=−(2^n−1)x\\frac{1}{2^n} + x(1−\\frac{1}{2^n})\\\\\n",
    "&=−(2^nx−x)\\frac{1}{2^n} + x - \\frac{x}{2^n}\\\\\n",
    "&=−x+\\frac{x}{2^n}+x−\\frac{x}{2^n}\\\\\n",
    "&=0\n",
    "\\end{align}"
   ]
  },
  {
   "cell_type": "markdown",
   "metadata": {},
   "source": [
    "The expected amount is zero, which means that there is no profit to be taken in the long term from the martingale strategy. On the one hand, there is a big chance on a limited profit (the starting bet). On the other hand, there is a small chance on a huge loss. Both compensate eachother, regardless of the starting bet and number of games played.\n",
    "\n",
    "The above holds true for honest coins and roulettes. In reality however, roulettes have a slightly lesser chance than 50%, leading even to a negative expected amount. "
   ]
  },
  {
   "cell_type": "markdown",
   "metadata": {},
   "source": [
    "## 2. Martingale Simulation"
   ]
  },
  {
   "cell_type": "code",
   "execution_count": 252,
   "metadata": {},
   "outputs": [],
   "source": [
    "import numpy as np"
   ]
  },
  {
   "cell_type": "code",
   "execution_count": 238,
   "metadata": {},
   "outputs": [],
   "source": [
    "def runMartingale(capital, startingBet):\n",
    "    maxGames = int(np.floor(np.log2(capital / startingBet)))\n",
    "    profit = 0\n",
    "    win = 0\n",
    "    for i in range(maxGames):\n",
    "        result = np.random.randint(2)\n",
    "        if result == 1:\n",
    "            profit += startingBet\n",
    "            win = 1\n",
    "            break\n",
    "        else:\n",
    "            profit -= startingBet\n",
    "            startingBet *= 2\n",
    "    return(profit, win)"
   ]
  },
  {
   "cell_type": "code",
   "execution_count": 236,
   "metadata": {},
   "outputs": [],
   "source": [
    "def simulateMartingale(n, capital, startingBet):\n",
    "    averageProfit, averageWin = 0, 0\n",
    "    for _ in range(n):\n",
    "        profit, win = runMartingale(capital, startingBet)\n",
    "        averageProfit += profit\n",
    "        averageWin += win\n",
    "    averageProfit /= n\n",
    "    averageWin /= n\n",
    "    return(averageProfit, averageWin)"
   ]
  },
  {
   "cell_type": "code",
   "execution_count": 253,
   "metadata": {},
   "outputs": [
    {
     "data": {
      "text/plain": [
       "(0.0029952, 0.9844218)"
      ]
     },
     "execution_count": 253,
     "metadata": {},
     "output_type": "execute_result"
    }
   ],
   "source": [
    "simulateMartingale(10000000, 100, 1)"
   ]
  }
 ],
 "metadata": {
  "kernelspec": {
   "display_name": "Python 3",
   "language": "python",
   "name": "python3"
  },
  "language_info": {
   "codemirror_mode": {
    "name": "ipython",
    "version": 3
   },
   "file_extension": ".py",
   "mimetype": "text/x-python",
   "name": "python",
   "nbconvert_exporter": "python",
   "pygments_lexer": "ipython3",
   "version": "3.6.4"
  }
 },
 "nbformat": 4,
 "nbformat_minor": 2
}
